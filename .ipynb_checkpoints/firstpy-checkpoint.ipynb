{
 "cells": [
  {
   "cell_type": "code",
   "execution_count": 27,
   "id": "50feb45b-9863-4753-97c8-2edc45677dc1",
   "metadata": {},
   "outputs": [
    {
     "name": "stdout",
     "output_type": "stream",
     "text": [
      "p 140716727546840\n",
      "o 140716727546792\n",
      "t 140716727547032\n",
      "pot 2129537801200\n",
      "pot 2129537801200\n"
     ]
    }
   ],
   "source": [
    "s = \"pot\"\n",
    "d = s\n",
    "print(s[0], id(s[0]))\n",
    "print(s[1], id(s[1]))\n",
    "print(s[2], id(s[2]))\n",
    "print(s, id(s))\n",
    "print(d, id(d))\n",
    "\n"
   ]
  },
  {
   "cell_type": "code",
   "execution_count": 25,
   "id": "8ee144e2-b65b-4142-8582-251815edee0f",
   "metadata": {
    "scrolled": true
   },
   "outputs": [
    {
     "name": "stdout",
     "output_type": "stream",
     "text": [
      "p 140716727546840\n",
      "a 140716727546120\n",
      "t 140716727547032\n",
      "pat 2129492189968\n"
     ]
    }
   ],
   "source": [
    "e = \"pat\"\n",
    "print(e[0], id(e[0]))\n",
    "print(e[1], id(e[1]))\n",
    "print(e[2], id(e[2]))\n",
    "print(e, id(e))\n",
    "\n"
   ]
  },
  {
   "cell_type": "code",
   "execution_count": null,
   "id": "92fa4ee2-3df8-404a-9595-52683f65d050",
   "metadata": {},
   "outputs": [],
   "source": [
    "a = \"hyd\"\n",
    "c = 1000\n",
    "l = [\"hat\", 1000]\n",
    "print()"
   ]
  }
 ],
 "metadata": {
  "kernelspec": {
   "display_name": "Python 3 (ipykernel)",
   "language": "python",
   "name": "python3"
  },
  "language_info": {
   "codemirror_mode": {
    "name": "ipython",
    "version": 3
   },
   "file_extension": ".py",
   "mimetype": "text/x-python",
   "name": "python",
   "nbconvert_exporter": "python",
   "pygments_lexer": "ipython3",
   "version": "3.12.4"
  }
 },
 "nbformat": 4,
 "nbformat_minor": 5
}
