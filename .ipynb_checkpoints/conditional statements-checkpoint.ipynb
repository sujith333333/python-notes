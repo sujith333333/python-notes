{
 "cells": [
  {
   "cell_type": "code",
   "execution_count": 1,
   "id": "7e1a8d6a-28dd-4ef3-b843-5987341f8613",
   "metadata": {},
   "outputs": [
    {
     "name": "stdout",
     "output_type": "stream",
     "text": [
      "started\n",
      "a is big\n",
      "b is big\n",
      "ended\n"
     ]
    }
   ],
   "source": [
    "print(\"started\")\n",
    "a = 1000\n",
    "b= 2000\n",
    "print(\"a is big\")\n",
    "print(\"b is big\")\n",
    "print(\"ended\")"
   ]
  },
  {
   "cell_type": "code",
   "execution_count": 7,
   "id": "c3aa5bee-60be-4535-bf7a-f5983c419149",
   "metadata": {},
   "outputs": [
    {
     "name": "stdout",
     "output_type": "stream",
     "text": [
      "started\n",
      "a is big\n",
      "ended\n"
     ]
    }
   ],
   "source": [
    "print(\"started\")\n",
    "a = 1000\n",
    "b= 2000\n",
    "if True:\n",
    "    print(\"a is big\")\n",
    "else:\n",
    "    print(\"b is big\")\n",
    "print(\"ended\")"
   ]
  },
  {
   "cell_type": "code",
   "execution_count": 5,
   "id": "0b4a9d2a-05df-49a5-80dc-596c0b8b20c9",
   "metadata": {},
   "outputs": [
    {
     "name": "stdout",
     "output_type": "stream",
     "text": [
      "started\n",
      "a is big\n",
      "ended\n"
     ]
    }
   ],
   "source": [
    "print(\"started\")\n",
    "a = 3000\n",
    "b= 2000\n",
    "if True:\n",
    "    print(\"a is big\")\n",
    "else:\n",
    "    print(\"b is big\")\n",
    "print(\"ended\")"
   ]
  },
  {
   "cell_type": "code",
   "execution_count": 11,
   "id": "d8c5f3b0-3f58-410d-92ba-4c590c8b5030",
   "metadata": {},
   "outputs": [
    {
     "name": "stdout",
     "output_type": "stream",
     "text": [
      "started\n",
      "b is big\n",
      "ended\n"
     ]
    }
   ],
   "source": [
    "print(\"started\")\n",
    "a = 3000\n",
    "b= 2000\n",
    "if False:\n",
    "    print(\"a is big\")\n",
    "else:\n",
    "    print(\"b is big\")\n",
    "print(\"ended\")"
   ]
  },
  {
   "cell_type": "code",
   "execution_count": 13,
   "id": "dcffb728-b173-447a-ad54-bafa2b274f79",
   "metadata": {},
   "outputs": [
    {
     "name": "stdout",
     "output_type": "stream",
     "text": [
      "started\n",
      "hello\n",
      "a is big\n",
      "ended\n"
     ]
    }
   ],
   "source": [
    "print(\"started\")\n",
    "a = 3000\n",
    "b= 2000\n",
    "if bool(20):\n",
    "    print(\"hello\")\n",
    "    print(\"a is big\")\n",
    "else:\n",
    "    print(\"b is big\")\n",
    "print(\"ended\")"
   ]
  },
  {
   "cell_type": "code",
   "execution_count": 15,
   "id": "a2af8c2d-7982-405e-bf07-34fd2fb01898",
   "metadata": {},
   "outputs": [
    {
     "name": "stdout",
     "output_type": "stream",
     "text": [
      "started\n",
      "hello\n",
      "a is big\n",
      "ended\n"
     ]
    }
   ],
   "source": [
    "print(\"started\")\n",
    "a = 3000\n",
    "b= 2000\n",
    "if bool(\"python\"):\n",
    "    print(\"hello\")\n",
    "    print(\"a is big\")\n",
    "else:\n",
    "    print(\"b is big\")\n",
    "print(\"ended\")"
   ]
  },
  {
   "cell_type": "code",
   "execution_count": 21,
   "id": "61f3977f-e782-4193-9dba-0240f2c85863",
   "metadata": {},
   "outputs": [
    {
     "name": "stdout",
     "output_type": "stream",
     "text": [
      "started\n",
      "HI\n",
      "b is big\n",
      "ended\n"
     ]
    }
   ],
   "source": [
    "print(\"started\")\n",
    "a = 0\n",
    "b= 2000\n",
    "if bool(a):\n",
    "    print(\"hello\")\n",
    "    print(\"a is big\")\n",
    "else:\n",
    "    print(\"HI\")\n",
    "    print(\"b is big\")\n",
    "print(\"ended\")"
   ]
  },
  {
   "cell_type": "code",
   "execution_count": 23,
   "id": "9c00ce0d-4957-434a-867c-273f17044c0e",
   "metadata": {},
   "outputs": [
    {
     "name": "stdout",
     "output_type": "stream",
     "text": [
      "started\n",
      "HI\n",
      "b is big\n",
      "ended\n"
     ]
    }
   ],
   "source": [
    "print(\"started\")\n",
    "a = 0\n",
    "b= 2000\n",
    "if a: #bool(a)\n",
    "    print(\"hello\")\n",
    "    print(\"a is big\")\n",
    "else:\n",
    "    print(\"HI\")\n",
    "    print(\"b is big\")\n",
    "print(\"ended\")"
   ]
  },
  {
   "cell_type": "code",
   "execution_count": 25,
   "id": "ae39667b-40c5-4e50-a317-0caf78897134",
   "metadata": {},
   "outputs": [
    {
     "name": "stdout",
     "output_type": "stream",
     "text": [
      "ended\n"
     ]
    }
   ],
   "source": [
    "if a: #bool(a)\n",
    "    print(\"hello\")\n",
    "print(\"ended\")"
   ]
  },
  {
   "cell_type": "code",
   "execution_count": 27,
   "id": "07fa3d68-cd67-4b85-9114-5fb1399ffc6b",
   "metadata": {},
   "outputs": [
    {
     "name": "stdout",
     "output_type": "stream",
     "text": [
      "hello\n",
      "ended\n"
     ]
    }
   ],
   "source": [
    "if 19: #bool(a)\n",
    "    print(\"hello\")\n",
    "print(\"ended\")"
   ]
  },
  {
   "cell_type": "code",
   "execution_count": 29,
   "id": "5ce074ec-c855-4a43-9caa-f8cb1e600bcb",
   "metadata": {},
   "outputs": [
    {
     "name": "stdout",
     "output_type": "stream",
     "text": [
      "HI\n"
     ]
    }
   ],
   "source": [
    "if a: #bool(a)\n",
    "    print(\"hello\")\n",
    "else:\n",
    "    print(\"HI\")"
   ]
  },
  {
   "cell_type": "code",
   "execution_count": 31,
   "id": "379d56fe-158b-4b3b-9ada-3d586e1db31a",
   "metadata": {},
   "outputs": [
    {
     "name": "stdout",
     "output_type": "stream",
     "text": [
      "HI\n"
     ]
    }
   ],
   "source": [
    "if 0: #bool(a)\n",
    "    print(\"hello\")\n",
    "else:\n",
    "    print(\"HI\")"
   ]
  },
  {
   "cell_type": "code",
   "execution_count": 33,
   "id": "10401235-b926-45ca-8466-2701fe0b3349",
   "metadata": {},
   "outputs": [
    {
     "name": "stdout",
     "output_type": "stream",
     "text": [
      "hello\n"
     ]
    }
   ],
   "source": [
    "if 20: #bool(a)\n",
    "    print(\"hello\")\n",
    "else:\n",
    "    print(\"HI\")"
   ]
  },
  {
   "cell_type": "code",
   "execution_count": 35,
   "id": "7df4d21c-2367-4b85-8527-d1f919c3398b",
   "metadata": {},
   "outputs": [
    {
     "name": "stdin",
     "output_type": "stream",
     "text": [
      "enter a value: 12\n"
     ]
    },
    {
     "name": "stdout",
     "output_type": "stream",
     "text": [
      "2\n"
     ]
    }
   ],
   "source": [
    "value = input(\"enter a value:\")\n",
    "print(len(value))"
   ]
  },
  {
   "cell_type": "code",
   "execution_count": 37,
   "id": "75116fb4-e851-423b-a2f4-f55fedc05b61",
   "metadata": {},
   "outputs": [
    {
     "name": "stdin",
     "output_type": "stream",
     "text": [
      "enter a value: \n"
     ]
    },
    {
     "name": "stdout",
     "output_type": "stream",
     "text": [
      "0\n"
     ]
    }
   ],
   "source": [
    "value = input(\"enter a value:\")\n",
    "print(len(value))"
   ]
  },
  {
   "cell_type": "code",
   "execution_count": 39,
   "id": "b3a3570e-d827-40c4-93a4-e7b4f560863c",
   "metadata": {},
   "outputs": [
    {
     "name": "stdin",
     "output_type": "stream",
     "text": [
      "enter a value: 12.54\n"
     ]
    },
    {
     "ename": "TypeError",
     "evalue": "object of type 'float' has no len()",
     "output_type": "error",
     "traceback": [
      "\u001b[1;31m---------------------------------------------------------------------------\u001b[0m",
      "\u001b[1;31mTypeError\u001b[0m                                 Traceback (most recent call last)",
      "Cell \u001b[1;32mIn[39], line 2\u001b[0m\n\u001b[0;32m      1\u001b[0m value \u001b[38;5;241m=\u001b[39m \u001b[38;5;28mfloat\u001b[39m(\u001b[38;5;28minput\u001b[39m(\u001b[38;5;124m\"\u001b[39m\u001b[38;5;124menter a value:\u001b[39m\u001b[38;5;124m\"\u001b[39m))\n\u001b[1;32m----> 2\u001b[0m \u001b[38;5;28mprint\u001b[39m(\u001b[38;5;28mlen\u001b[39m(value))\n",
      "\u001b[1;31mTypeError\u001b[0m: object of type 'float' has no len()"
     ]
    }
   ],
   "source": [
    "value = float(input(\"enter a value:\"))\n",
    "print(len(value))"
   ]
  },
  {
   "cell_type": "code",
   "execution_count": 41,
   "id": "75c0a84c-3e7f-4106-86b1-515f014b0023",
   "metadata": {},
   "outputs": [
    {
     "name": "stdin",
     "output_type": "stream",
     "text": [
      "enter a value: 524\n"
     ]
    },
    {
     "ename": "TypeError",
     "evalue": "object of type 'int' has no len()",
     "output_type": "error",
     "traceback": [
      "\u001b[1;31m---------------------------------------------------------------------------\u001b[0m",
      "\u001b[1;31mTypeError\u001b[0m                                 Traceback (most recent call last)",
      "Cell \u001b[1;32mIn[41], line 2\u001b[0m\n\u001b[0;32m      1\u001b[0m value \u001b[38;5;241m=\u001b[39m \u001b[38;5;28mint\u001b[39m(\u001b[38;5;28minput\u001b[39m(\u001b[38;5;124m\"\u001b[39m\u001b[38;5;124menter a value:\u001b[39m\u001b[38;5;124m\"\u001b[39m))\n\u001b[1;32m----> 2\u001b[0m \u001b[38;5;28mprint\u001b[39m(\u001b[38;5;28mlen\u001b[39m(value))\n",
      "\u001b[1;31mTypeError\u001b[0m: object of type 'int' has no len()"
     ]
    }
   ],
   "source": [
    "value = int(input(\"enter a value:\"))\n",
    "print(len(value))"
   ]
  },
  {
   "cell_type": "code",
   "execution_count": 43,
   "id": "db957d5f-979a-4023-b773-093064566b68",
   "metadata": {},
   "outputs": [
    {
     "name": "stdin",
     "output_type": "stream",
     "text": [
      "enter a value: \n"
     ]
    },
    {
     "ename": "ValueError",
     "evalue": "invalid literal for int() with base 10: ''",
     "output_type": "error",
     "traceback": [
      "\u001b[1;31m---------------------------------------------------------------------------\u001b[0m",
      "\u001b[1;31mValueError\u001b[0m                                Traceback (most recent call last)",
      "Cell \u001b[1;32mIn[43], line 1\u001b[0m\n\u001b[1;32m----> 1\u001b[0m value \u001b[38;5;241m=\u001b[39m \u001b[38;5;28mint\u001b[39m(\u001b[38;5;28minput\u001b[39m(\u001b[38;5;124m\"\u001b[39m\u001b[38;5;124menter a value:\u001b[39m\u001b[38;5;124m\"\u001b[39m))\n\u001b[0;32m      2\u001b[0m \u001b[38;5;28mprint\u001b[39m(\u001b[38;5;28mlen\u001b[39m(value))\n",
      "\u001b[1;31mValueError\u001b[0m: invalid literal for int() with base 10: ''"
     ]
    }
   ],
   "source": [
    "value = int(input(\"enter a value:\"))\n",
    "print(len(value))"
   ]
  },
  {
   "cell_type": "code",
   "execution_count": 53,
   "id": "7e38b7ca-82f4-4cfb-861e-aeee2a9ccc38",
   "metadata": {},
   "outputs": [
    {
     "name": "stdin",
     "output_type": "stream",
     "text": [
      "enter a value 12\n",
      "enter a value \n"
     ]
    },
    {
     "ename": "ValueError",
     "evalue": "invalid literal for int() with base 10: ''",
     "output_type": "error",
     "traceback": [
      "\u001b[1;31m---------------------------------------------------------------------------\u001b[0m",
      "\u001b[1;31mValueError\u001b[0m                                Traceback (most recent call last)",
      "Cell \u001b[1;32mIn[53], line 2\u001b[0m\n\u001b[0;32m      1\u001b[0m value1 \u001b[38;5;241m=\u001b[39m \u001b[38;5;28mint\u001b[39m(\u001b[38;5;28minput\u001b[39m(\u001b[38;5;124m\"\u001b[39m\u001b[38;5;124menter a value\u001b[39m\u001b[38;5;124m\"\u001b[39m))\n\u001b[1;32m----> 2\u001b[0m value2 \u001b[38;5;241m=\u001b[39m \u001b[38;5;28mint\u001b[39m(\u001b[38;5;28minput\u001b[39m(\u001b[38;5;124m\"\u001b[39m\u001b[38;5;124menter a value\u001b[39m\u001b[38;5;124m\"\u001b[39m))\n\u001b[0;32m      3\u001b[0m k \u001b[38;5;241m=\u001b[39m \u001b[38;5;28mstr\u001b[39m(value2)\n\u001b[0;32m      4\u001b[0m s \u001b[38;5;241m=\u001b[39m value1\u001b[38;5;241m+\u001b[39m k\n",
      "\u001b[1;31mValueError\u001b[0m: invalid literal for int() with base 10: ''"
     ]
    }
   ],
   "source": [
    "value1 = int(input(\"enter a value\"))\n",
    "value2 = int(input(\"enter a value\"))\n",
    "k = str(value2)\n",
    "s = value1+ k\n",
    "s\n"
   ]
  },
  {
   "cell_type": "code",
   "execution_count": 1,
   "id": "2ae75c09-e96f-49e5-931a-fa38039dcf1d",
   "metadata": {},
   "outputs": [
    {
     "name": "stdout",
     "output_type": "stream",
     "text": [
      "1.add\n",
      "2.sub\n",
      "3.mul\n",
      "4.division\n"
     ]
    },
    {
     "name": "stdin",
     "output_type": "stream",
     "text": [
      "ENter a option 2\n"
     ]
    },
    {
     "name": "stdout",
     "output_type": "stream",
     "text": [
      "2\n"
     ]
    }
   ],
   "source": [
    "a= 1000\n",
    "b=2000\n",
    "print(\"1.add\\n2.sub\\n3.mul\\n4.division\")\n",
    "opt = input(\"ENter a option\")\n",
    "print(opt)"
   ]
  },
  {
   "cell_type": "code",
   "execution_count": 3,
   "id": "41ea7882-d11b-4cdc-916d-7132e33d332e",
   "metadata": {},
   "outputs": [
    {
     "name": "stdout",
     "output_type": "stream",
     "text": [
      "1.add\n",
      "2.sub\n",
      "3.mul\n",
      "4.division\n"
     ]
    },
    {
     "name": "stdin",
     "output_type": "stream",
     "text": [
      "Enter a option 1\n"
     ]
    },
    {
     "name": "stdout",
     "output_type": "stream",
     "text": [
      "Thnak you\n"
     ]
    }
   ],
   "source": [
    "a= 1000\n",
    "b=2000\n",
    "print(\"1.add\\n2.sub\\n3.mul\\n4.division\")\n",
    "opt = input(\"Enter a option\")\n",
    "if opt ==1:\n",
    "    print(a+b)\n",
    "if opt ==2:\n",
    "    print(a-b)\n",
    "if opt ==3:\n",
    "    print(a*b)\n",
    "if opt ==4:\n",
    "    print(a/b)\n",
    "print(\"Thank you\")\n",
    "\n"
   ]
  },
  {
   "cell_type": "code",
   "execution_count": 5,
   "id": "77c34df6-661b-445e-846b-d732ffa7df42",
   "metadata": {},
   "outputs": [
    {
     "name": "stdout",
     "output_type": "stream",
     "text": [
      "1.add\n",
      "2.sub\n",
      "3.mul\n",
      "4.division\n"
     ]
    },
    {
     "name": "stdin",
     "output_type": "stream",
     "text": [
      "Enter a option 2\n"
     ]
    },
    {
     "name": "stdout",
     "output_type": "stream",
     "text": [
      "-1000\n",
      "Thank you\n"
     ]
    }
   ],
   "source": [
    "a= 1000\n",
    "b=2000\n",
    "print(\"1.add\\n2.sub\\n3.mul\\n4.division\")\n",
    "opt = input(\"Enter a option\")\n",
    "if opt ==\"1\":\n",
    "    print(a+b)\n",
    "if opt ==\"2\":\n",
    "    print(a-b)\n",
    "if opt ==\"3\":\n",
    "    print(a*b)\n",
    "if opt ==\"4\":\n",
    "    print(a/b)\n",
    "print(\"Thank you\")"
   ]
  },
  {
   "cell_type": "code",
   "execution_count": 7,
   "id": "25bde362-f587-4c63-8f0e-7392fc15619a",
   "metadata": {},
   "outputs": [
    {
     "name": "stdout",
     "output_type": "stream",
     "text": [
      "1.add\n",
      "2.sub\n",
      "3.mul\n",
      "4.division\n"
     ]
    },
    {
     "name": "stdin",
     "output_type": "stream",
     "text": [
      "Enter a option 6\n"
     ]
    },
    {
     "name": "stdout",
     "output_type": "stream",
     "text": [
      "Thank you\n"
     ]
    }
   ],
   "source": [
    "a= 1000\n",
    "b=2000\n",
    "print(\"1.add\\n2.sub\\n3.mul\\n4.division\")\n",
    "opt = input(\"Enter a option\")\n",
    "if opt ==\"1\":\n",
    "    print(a+b)\n",
    "if opt ==\"2\":\n",
    "    print(a-b)\n",
    "if opt ==\"3\":\n",
    "    print(a*b)\n",
    "if opt ==\"4\":\n",
    "    print(a/b)\n",
    "print(\"Thank you\")"
   ]
  },
  {
   "cell_type": "code",
   "execution_count": 9,
   "id": "ac0689ca-3905-4e2a-bc6e-272f315364a1",
   "metadata": {},
   "outputs": [
    {
     "name": "stdout",
     "output_type": "stream",
     "text": [
      "1.add\n",
      "2.sub\n",
      "3.mul\n",
      "4.division\n"
     ]
    },
    {
     "name": "stdin",
     "output_type": "stream",
     "text": [
      "Enter a option 6\n"
     ]
    },
    {
     "name": "stdout",
     "output_type": "stream",
     "text": [
      "Enter a valid option\n",
      "Thank you\n"
     ]
    }
   ],
   "source": [
    "a= 1000\n",
    "b=2000\n",
    "print(\"1.add\\n2.sub\\n3.mul\\n4.division\")\n",
    "opt = input(\"Enter a option\")\n",
    "if opt ==\"1\":\n",
    "    print(a+b)\n",
    "if opt ==\"2\":\n",
    "    print(a-b)\n",
    "if opt ==\"3\":\n",
    "    print(a*b)\n",
    "if opt ==\"4\":\n",
    "    print(a/b)\n",
    "else:\n",
    "    print(\"Enter a valid option\")\n",
    "print(\"Thank you\")"
   ]
  },
  {
   "cell_type": "code",
   "execution_count": 11,
   "id": "6ba14fd7-1b1e-47ed-8a16-a72653025b30",
   "metadata": {},
   "outputs": [
    {
     "name": "stdout",
     "output_type": "stream",
     "text": [
      "1.add\n",
      "2.sub\n",
      "3.mul\n",
      "4.division\n"
     ]
    },
    {
     "name": "stdin",
     "output_type": "stream",
     "text": [
      "Enter a option 4\n"
     ]
    },
    {
     "name": "stdout",
     "output_type": "stream",
     "text": [
      "0.5\n",
      "Thank you\n"
     ]
    }
   ],
   "source": [
    "#ELIF:\n",
    "a= 1000\n",
    "b=2000\n",
    "print(\"1.add\\n2.sub\\n3.mul\\n4.division\")\n",
    "opt = input(\"Enter a option\")\n",
    "if opt ==\"1\":\n",
    "    print(a+b)\n",
    "elif opt ==\"2\":\n",
    "    print(a-b)\n",
    "elif opt ==\"3\": # if this statement satisfied then directly jump to print statement\n",
    "    print(a*b)\n",
    "elif opt ==\"4\":\n",
    "    print(a/b)\n",
    "else:\n",
    "    print(\"Enter a valid option\")\n",
    "print(\"Thank you\")"
   ]
  },
  {
   "cell_type": "code",
   "execution_count": 13,
   "id": "9a083c3f-5f77-4fcc-8488-ddcf36686cbc",
   "metadata": {},
   "outputs": [
    {
     "name": "stdout",
     "output_type": "stream",
     "text": [
      "1.add\n",
      "2.sub\n",
      "3.mul\n",
      "4.division\n"
     ]
    },
    {
     "name": "stdin",
     "output_type": "stream",
     "text": [
      "Enter a option 1\n"
     ]
    },
    {
     "name": "stdout",
     "output_type": "stream",
     "text": [
      "3000\n",
      "Thank you\n"
     ]
    }
   ],
   "source": [
    "#ELIF:\n",
    "a= 1000\n",
    "b=2000\n",
    "print(\"1.add\\n2.sub\\n3.mul\\n4.division\")\n",
    "opt = input(\"Enter a option\")\n",
    "if opt ==\"1\":\n",
    "    print(a+b)\n",
    "elif opt ==\"2\":\n",
    "    print(a-b)\n",
    "elif opt ==\"3\": # if this statement satisfied then directly jump to print statement\n",
    "    print(a*b)\n",
    "elif opt ==\"4\":\n",
    "    print(a/b)\n",
    "else:\n",
    "    print(\"Enter a valid option\")\n",
    "print(\"Thank you\")"
   ]
  },
  {
   "cell_type": "markdown",
   "id": "9ff53f8f-379e-410c-bf41-1ce78335af22",
   "metadata": {},
   "source": [
    "## take a number from the user whether it is the even or Odd"
   ]
  },
  {
   "cell_type": "code",
   "execution_count": 18,
   "id": "620ca436-5372-437b-956b-82831a8a30f5",
   "metadata": {},
   "outputs": [
    {
     "name": "stdin",
     "output_type": "stream",
     "text": [
      "enter number: 5\n"
     ]
    },
    {
     "name": "stdout",
     "output_type": "stream",
     "text": [
      "Odd num\n"
     ]
    }
   ],
   "source": [
    "num= input(\"enter number:\")\n",
    "num = float(num)\n",
    "if num %2 ==0:\n",
    "    print(\"Even num\")\n",
    "else:\n",
    "    print(\"Odd num\")\n",
    "    \n"
   ]
  },
  {
   "cell_type": "code",
   "execution_count": 20,
   "id": "975f779a-512f-4164-b32c-6eaec7429ba2",
   "metadata": {},
   "outputs": [
    {
     "name": "stdin",
     "output_type": "stream",
     "text": [
      "enter number: 62\n"
     ]
    },
    {
     "name": "stdout",
     "output_type": "stream",
     "text": [
      "Even num\n"
     ]
    }
   ],
   "source": [
    "num= input(\"enter number:\")\n",
    "if num:\n",
    "    num = float(num)\n",
    "    if num %2 ==0:\n",
    "        print(\"Even num\")\n",
    "    else:\n",
    "        print(\"Odd num\")\n",
    "else:\n",
    "    print(\"Enter a valid number\")\n"
   ]
  },
  {
   "cell_type": "code",
   "execution_count": 24,
   "id": "aa4c84a0-50a2-4409-9bbe-2835e1e016b1",
   "metadata": {},
   "outputs": [
    {
     "name": "stdin",
     "output_type": "stream",
     "text": [
      "enter number: 0\n"
     ]
    },
    {
     "name": "stdout",
     "output_type": "stream",
     "text": [
      "Even num\n"
     ]
    }
   ],
   "source": [
    "num= input(\"enter number:\")\n",
    "if num:\n",
    "    num = float(num)\n",
    "    if num %2 ==0:\n",
    "        print(\"Even num\")\n",
    "    else:\n",
    "        print(\"Odd num\")\n",
    "else:\n",
    "    print(\"Enter a valid number\")\n"
   ]
  },
  {
   "cell_type": "code",
   "execution_count": 26,
   "id": "9830643e-46fc-4221-9cd9-e4bc2d0188f9",
   "metadata": {},
   "outputs": [
    {
     "name": "stdin",
     "output_type": "stream",
     "text": [
      "enter number: \n"
     ]
    },
    {
     "name": "stdout",
     "output_type": "stream",
     "text": [
      "Enter a valid number\n"
     ]
    }
   ],
   "source": [
    "num= input(\"enter number:\")\n",
    "if num:\n",
    "    num = float(num)\n",
    "    if num %2 ==0:\n",
    "        print(\"Even num\")\n",
    "    else:\n",
    "        print(\"Odd num\")\n",
    "else:\n",
    "    print(\"Enter a valid number\")"
   ]
  },
  {
   "cell_type": "code",
   "execution_count": 28,
   "id": "bb12a3c9-89e2-48b5-bce6-cf68c4d48455",
   "metadata": {},
   "outputs": [
    {
     "name": "stdin",
     "output_type": "stream",
     "text": [
      "enter number: 1.57254\n"
     ]
    },
    {
     "name": "stdout",
     "output_type": "stream",
     "text": [
      "Odd num\n"
     ]
    }
   ],
   "source": [
    "num= input(\"enter number:\")\n",
    "if num:\n",
    "    num = float(num)\n",
    "    if num %2 ==0:\n",
    "        print(\"Even num\")\n",
    "    else:\n",
    "        print(\"Odd num\")\n",
    "else:\n",
    "    print(\"Enter a valid number\")"
   ]
  },
  {
   "cell_type": "code",
   "execution_count": 32,
   "id": "70badbf7-dea9-4839-beaa-335a9494b635",
   "metadata": {},
   "outputs": [
    {
     "name": "stdout",
     "output_type": "stream",
     "text": [
      "Even\n",
      "odd\n"
     ]
    }
   ],
   "source": [
    "num =[10,23,35,46,38,91]\n",
    "if num[0] %2 ==0:\n",
    "    print(\"Even\")\n",
    "else:\n",
    "    print(\"Odd\")\n",
    "if num[1]%2 ==0:\n",
    "    print(\"even\")\n",
    "else:\n",
    "    print(\"odd\")"
   ]
  },
  {
   "cell_type": "code",
   "execution_count": 34,
   "id": "705002cd-4ab8-4e7c-a3f2-be398777aa3a",
   "metadata": {},
   "outputs": [
    {
     "name": "stdout",
     "output_type": "stream",
     "text": [
      "Hello\n",
      "10\n",
      "Hello\n",
      "23\n",
      "Hello\n",
      "35\n",
      "Hello\n",
      "46\n",
      "Hello\n",
      "38\n",
      "Hello\n",
      "91\n",
      "Hi\n"
     ]
    }
   ],
   "source": [
    "num =[10,23,35,46,38,91]\n",
    "for number in num:\n",
    "    print(\"Hello\")\n",
    "    print(number)\n",
    "print(\"Hi\")"
   ]
  },
  {
   "cell_type": "code",
   "execution_count": 3,
   "id": "0812957d-8aeb-4fdb-b34a-361c0c302487",
   "metadata": {},
   "outputs": [
    {
     "name": "stdout",
     "output_type": "stream",
     "text": [
      "EVEN\n"
     ]
    }
   ],
   "source": [
    "#print in a single line\n",
    "num = 12\n",
    "print(\"EVEN\" if num%2==0 else \"ODD\")"
   ]
  },
  {
   "cell_type": "code",
   "execution_count": null,
   "id": "ebbf0be5-cbe8-4c04-b5cf-c732ce91711b",
   "metadata": {},
   "outputs": [],
   "source": []
  }
 ],
 "metadata": {
  "kernelspec": {
   "display_name": "Python 3 (ipykernel)",
   "language": "python",
   "name": "python3"
  },
  "language_info": {
   "codemirror_mode": {
    "name": "ipython",
    "version": 3
   },
   "file_extension": ".py",
   "mimetype": "text/x-python",
   "name": "python",
   "nbconvert_exporter": "python",
   "pygments_lexer": "ipython3",
   "version": "3.12.4"
  }
 },
 "nbformat": 4,
 "nbformat_minor": 5
}
