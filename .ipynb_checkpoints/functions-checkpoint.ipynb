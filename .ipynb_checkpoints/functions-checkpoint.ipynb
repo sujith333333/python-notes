{
 "cells": [
  {
   "cell_type": "code",
   "execution_count": 3,
   "id": "979fcb48-f57c-483f-ad38-829e219b8929",
   "metadata": {},
   "outputs": [
    {
     "name": "stdout",
     "output_type": "stream",
     "text": [
      "10 20\n",
      "30\n"
     ]
    }
   ],
   "source": [
    "def fun():\n",
    "    a=10\n",
    "    b=20\n",
    "    print(a,b)\n",
    "    res=(a+b)\n",
    "    print(res)\n",
    "fun()"
   ]
  },
  {
   "cell_type": "code",
   "execution_count": 7,
   "id": "d3b6b121-be97-4d0f-a837-5d3a7419a6e2",
   "metadata": {},
   "outputs": [
    {
     "name": "stdout",
     "output_type": "stream",
     "text": [
      "x=10,y=20\n",
      "z= 30\n",
      "10\n",
      "20\n",
      "5.0\n"
     ]
    }
   ],
   "source": [
    "def add(x,y): # signature x,y are parameters. here add is function name\n",
    "    print(f\"x={x},y={y}\") # function body\n",
    "    z=x+y\n",
    "    print(\"z=\",z)\n",
    "def sub(a,b):\n",
    "    res=a-b\n",
    "    print(res)\n",
    "def mul(c,d):\n",
    "    ml=c*d\n",
    "    print(ml)\n",
    "def div(g,h):\n",
    "    dv=g/h\n",
    "    print(dv)\n",
    "add(10,20) # arguements 10,20\n",
    "sub(20,10)\n",
    "mul(4,5)\n",
    "div(10,2)"
   ]
  },
  {
   "cell_type": "code",
   "execution_count": 9,
   "id": "83c6e8a4-27c0-4a89-b7d7-5715d5362ebd",
   "metadata": {},
   "outputs": [
    {
     "ename": "TypeError",
     "evalue": "fun() missing 2 required positional arguments: 'x' and 'y'",
     "output_type": "error",
     "traceback": [
      "\u001b[1;31m---------------------------------------------------------------------------\u001b[0m",
      "\u001b[1;31mTypeError\u001b[0m                                 Traceback (most recent call last)",
      "Cell \u001b[1;32mIn[9], line 3\u001b[0m\n\u001b[0;32m      1\u001b[0m \u001b[38;5;28;01mdef\u001b[39;00m \u001b[38;5;21mfun\u001b[39m(x,y):\n\u001b[0;32m      2\u001b[0m     \u001b[38;5;28mprint\u001b[39m(\u001b[38;5;124mf\u001b[39m\u001b[38;5;124m\"\u001b[39m\u001b[38;5;124mx=\u001b[39m\u001b[38;5;132;01m{\u001b[39;00mx\u001b[38;5;132;01m}\u001b[39;00m\u001b[38;5;124m,y=\u001b[39m\u001b[38;5;132;01m{\u001b[39;00my\u001b[38;5;132;01m}\u001b[39;00m\u001b[38;5;124m\"\u001b[39m)\n\u001b[1;32m----> 3\u001b[0m fun()\n",
      "\u001b[1;31mTypeError\u001b[0m: fun() missing 2 required positional arguments: 'x' and 'y'"
     ]
    }
   ],
   "source": [
    "def fun(x,y):\n",
    "    print(f\"x={x},y={y}\")\n",
    "fun()"
   ]
  },
  {
   "cell_type": "code",
   "execution_count": 11,
   "id": "9de448be-f36a-42f9-8f6c-5a52c865c0d7",
   "metadata": {},
   "outputs": [
    {
     "name": "stdout",
     "output_type": "stream",
     "text": [
      "x=10,y=20\n"
     ]
    }
   ],
   "source": [
    "def fun(x,y):\n",
    "    print(f\"x={x},y={y}\")\n",
    "fun(10,20)"
   ]
  },
  {
   "cell_type": "code",
   "execution_count": 13,
   "id": "373cdd54-b0d7-4f26-8402-08cd1f176366",
   "metadata": {},
   "outputs": [
    {
     "ename": "TypeError",
     "evalue": "fun() missing 1 required positional argument: 'y'",
     "output_type": "error",
     "traceback": [
      "\u001b[1;31m---------------------------------------------------------------------------\u001b[0m",
      "\u001b[1;31mTypeError\u001b[0m                                 Traceback (most recent call last)",
      "Cell \u001b[1;32mIn[13], line 3\u001b[0m\n\u001b[0;32m      1\u001b[0m \u001b[38;5;28;01mdef\u001b[39;00m \u001b[38;5;21mfun\u001b[39m(x,y):\n\u001b[0;32m      2\u001b[0m     \u001b[38;5;28mprint\u001b[39m(\u001b[38;5;124mf\u001b[39m\u001b[38;5;124m\"\u001b[39m\u001b[38;5;124mx=\u001b[39m\u001b[38;5;132;01m{\u001b[39;00mx\u001b[38;5;132;01m}\u001b[39;00m\u001b[38;5;124m,y=\u001b[39m\u001b[38;5;132;01m{\u001b[39;00my\u001b[38;5;132;01m}\u001b[39;00m\u001b[38;5;124m\"\u001b[39m)\n\u001b[1;32m----> 3\u001b[0m fun(\u001b[38;5;241m10\u001b[39m,)\n",
      "\u001b[1;31mTypeError\u001b[0m: fun() missing 1 required positional argument: 'y'"
     ]
    }
   ],
   "source": [
    "def fun(x,y):\n",
    "    print(f\"x={x},y={y}\")\n",
    "fun(10,)"
   ]
  },
  {
   "cell_type": "code",
   "execution_count": 15,
   "id": "4ce0715b-d462-4787-b4a4-48b786f76d09",
   "metadata": {},
   "outputs": [
    {
     "name": "stdout",
     "output_type": "stream",
     "text": [
      "a=1,b=2,c=3,d=4\n",
      "10\n"
     ]
    }
   ],
   "source": [
    "def add(a,b,c,d):\n",
    "    print(f\"a={a},b={b},c={c},d={d}\")\n",
    "    print(a+b+c+d)\n",
    "add(1,2,3,4)"
   ]
  },
  {
   "cell_type": "code",
   "execution_count": 17,
   "id": "d4fd7480-9bae-4be7-be05-22d2c383bdfd",
   "metadata": {},
   "outputs": [
    {
     "name": "stdout",
     "output_type": "stream",
     "text": [
      "a=1,b=2,c=0,d=0\n",
      "3\n"
     ]
    }
   ],
   "source": [
    "def add(a,b,c=0,d=0):\n",
    "    print(f\"a={a},b={b},c={c},d={d}\")\n",
    "    print(a+b+c+d)\n",
    "add(1,2)"
   ]
  },
  {
   "cell_type": "code",
   "execution_count": 19,
   "id": "4127a2a3-7f8e-4766-babc-1be727e374bd",
   "metadata": {},
   "outputs": [
    {
     "name": "stdout",
     "output_type": "stream",
     "text": [
      "a=1,b=2,c=0,d=4\n",
      "7\n"
     ]
    }
   ],
   "source": [
    "def add(a,b,c=0,d=0):\n",
    "    print(f\"a={a},b={b},c={c},d={d}\")\n",
    "    print(a+b+c+d)\n",
    "add(1,2,d=4) # here d=4 is a a keyword arguements."
   ]
  },
  {
   "cell_type": "code",
   "execution_count": 21,
   "id": "f926fc57-838d-45c4-837e-8d6d7def4e6d",
   "metadata": {},
   "outputs": [
    {
     "ename": "TypeError",
     "evalue": "add() missing 1 required positional argument: 'a'",
     "output_type": "error",
     "traceback": [
      "\u001b[1;31m---------------------------------------------------------------------------\u001b[0m",
      "\u001b[1;31mTypeError\u001b[0m                                 Traceback (most recent call last)",
      "Cell \u001b[1;32mIn[21], line 4\u001b[0m\n\u001b[0;32m      2\u001b[0m     \u001b[38;5;28mprint\u001b[39m(\u001b[38;5;124mf\u001b[39m\u001b[38;5;124m\"\u001b[39m\u001b[38;5;124ma=\u001b[39m\u001b[38;5;132;01m{\u001b[39;00ma\u001b[38;5;132;01m}\u001b[39;00m\u001b[38;5;124m,b=\u001b[39m\u001b[38;5;132;01m{\u001b[39;00mb\u001b[38;5;132;01m}\u001b[39;00m\u001b[38;5;124m,c=\u001b[39m\u001b[38;5;132;01m{\u001b[39;00mc\u001b[38;5;132;01m}\u001b[39;00m\u001b[38;5;124m,d=\u001b[39m\u001b[38;5;132;01m{\u001b[39;00md\u001b[38;5;132;01m}\u001b[39;00m\u001b[38;5;124m\"\u001b[39m)\n\u001b[0;32m      3\u001b[0m     \u001b[38;5;28mprint\u001b[39m(a\u001b[38;5;241m+\u001b[39mb\u001b[38;5;241m+\u001b[39mc\u001b[38;5;241m+\u001b[39md)\n\u001b[1;32m----> 4\u001b[0m add(b\u001b[38;5;241m=\u001b[39m\u001b[38;5;241m2\u001b[39m,d\u001b[38;5;241m=\u001b[39m\u001b[38;5;241m4\u001b[39m)\n",
      "\u001b[1;31mTypeError\u001b[0m: add() missing 1 required positional argument: 'a'"
     ]
    }
   ],
   "source": [
    "def add(a,b,c=0,d=0):\n",
    "    print(f\"a={a},b={b},c={c},d={d}\")\n",
    "    print(a+b+c+d)\n",
    "add(b=2,d=4) # here d=4 is a a keyword arguements"
   ]
  },
  {
   "cell_type": "code",
   "execution_count": 25,
   "id": "180a442a-b9bb-4a1d-bb1c-33228805fbb8",
   "metadata": {},
   "outputs": [
    {
     "name": "stdout",
     "output_type": "stream",
     "text": [
      "a=1\n",
      "1\n"
     ]
    }
   ],
   "source": [
    "# add required, optional : minimum 1 max:?\n",
    "def add(a):\n",
    "    print(f\"a={a}\")\n",
    "    print(a)\n",
    "add(1)"
   ]
  },
  {
   "cell_type": "code",
   "execution_count": 31,
   "id": "d9a0fd60-59a9-43b1-b69a-55a39e36ae21",
   "metadata": {},
   "outputs": [
    {
     "name": "stdout",
     "output_type": "stream",
     "text": [
      "a=1,k=(2, 3, 4, 5),type(k)\n"
     ]
    }
   ],
   "source": [
    "def add(a,*k):\n",
    "    print(f\"a={a},k={k},type(k)\")\n",
    "add(1,2,3,4,5)"
   ]
  },
  {
   "cell_type": "code",
   "execution_count": 35,
   "id": "0f39b52a-7b6f-4f40-abad-6dd4f2635482",
   "metadata": {},
   "outputs": [
    {
     "name": "stdout",
     "output_type": "stream",
     "text": [
      "a=15,k=() <class 'tuple'>\n",
      "a=1,k=(2, 3, 4, 5) <class 'tuple'>\n"
     ]
    }
   ],
   "source": [
    "def add(a,*k):\n",
    "    print(f\"a={a},k={k}\",type(k))\n",
    "add(15)\n",
    "add(1,2,3,4,5)"
   ]
  },
  {
   "cell_type": "code",
   "execution_count": 37,
   "id": "b8e4cd89-5cd1-460a-9a6e-99ea4aec1231",
   "metadata": {},
   "outputs": [],
   "source": [
    "# *k : * args,  **k: **keywordardgs"
   ]
  },
  {
   "cell_type": "code",
   "execution_count": 43,
   "id": "a0506237-373b-4dc2-8010-317f10a2ee47",
   "metadata": {},
   "outputs": [
    {
     "name": "stdout",
     "output_type": "stream",
     "text": [
      "<function add at 0x00000216CC592B60>\n",
      "<built-in function id>\n",
      "<class 'type'>\n"
     ]
    }
   ],
   "source": [
    "def add(x,y):\n",
    "    print(x+y)\n",
    "print(add)\n",
    "print(id)\n",
    "print(type)"
   ]
  },
  {
   "cell_type": "code",
   "execution_count": 45,
   "id": "2c1ec118-4445-4b9a-bdb9-beef238a2573",
   "metadata": {},
   "outputs": [
    {
     "name": "stdout",
     "output_type": "stream",
     "text": [
      "140706178614808\n",
      "2296971903280\n",
      "140706178611640\n",
      "a=100,b=300\n",
      "140706178611928\n",
      "400\n",
      "2296939604176\n",
      "DOne\n"
     ]
    }
   ],
   "source": [
    "x =100\n",
    "print(id(x))\n",
    "y=300\n",
    "print(id(y))\n",
    "a=1\n",
    "print(id(a))\n",
    "\n",
    "def add(a,b):\n",
    "    print(f\"a={a},b={b}\")\n",
    "    z=a+b\n",
    "    x=10\n",
    "    print(id(x))\n",
    "    print(z)\n",
    "    print(id(z))\n",
    "add(x,y)\n",
    "print(\"DOne\")"
   ]
  },
  {
   "cell_type": "code",
   "execution_count": 4,
   "id": "ec982601-7ae4-4527-ae57-e89bcae792e9",
   "metadata": {},
   "outputs": [
    {
     "name": "stdout",
     "output_type": "stream",
     "text": [
      "values before function definition: x =1000,y=2000,z=3000\n",
      "result= 579\n",
      "values with in function definition : x=4000,y=5000,z=6000\n",
      "values after function call: x=4000,y=2000,z=3000\n",
      "579\n"
     ]
    }
   ],
   "source": [
    "### 18-09-2024\n",
    "x =1000\n",
    "y=2000\n",
    "z=3000\n",
    "print(f\"values before function definition: x ={x},y={y},z={z}\")\n",
    "def fun(a,b):\n",
    "    global x\n",
    "    x=4000\n",
    "    y=5000\n",
    "    z=6000\n",
    "    c=a+b\n",
    "    print(\"result=\",c)\n",
    "    print(f\"values with in function definition : x={x},y={y},z={z}\")\n",
    "    return c\n",
    "res=fun(123,456)\n",
    "print(f\"values after function call: x={x},y={y},z={z}\")\n",
    "print(res)"
   ]
  },
  {
   "cell_type": "code",
   "execution_count": 10,
   "id": "3710e8c4-281f-4d37-851b-de38f1bb4653",
   "metadata": {},
   "outputs": [
    {
     "name": "stdout",
     "output_type": "stream",
     "text": [
      "program started\n",
      "hello\n",
      "10\n",
      "program ended\n"
     ]
    }
   ],
   "source": [
    "print(\"program started\")\n",
    "def fun():\n",
    "    print(\"hello\")\n",
    "    return 10\n",
    "    print(\"hi\")\n",
    "    return 20\n",
    "    print(\"hyd\")\n",
    "    return 30\n",
    "res=fun()\n",
    "print(res)\n",
    "print(\"program ended\")"
   ]
  },
  {
   "cell_type": "code",
   "execution_count": 12,
   "id": "f8661391-c1c5-4709-a424-34a409ee80e7",
   "metadata": {},
   "outputs": [
    {
     "name": "stdout",
     "output_type": "stream",
     "text": [
      "program started\n",
      "<generator object fun at 0x000001EF91AFBD00>\n",
      "program ended\n"
     ]
    }
   ],
   "source": [
    "### yield\n",
    "print(\"program started\")\n",
    "def fun():\n",
    "    print(\"hello\")\n",
    "    yield 10\n",
    "    print(\"hi\")\n",
    "    yield 20\n",
    "    print(\"hyd\")\n",
    "    yield 30\n",
    "res=fun()\n",
    "print(res)\n",
    "print(\"program ended\")"
   ]
  },
  {
   "cell_type": "code",
   "execution_count": 14,
   "id": "4d7055b9-23f7-4953-b930-40e99719082c",
   "metadata": {},
   "outputs": [
    {
     "name": "stdout",
     "output_type": "stream",
     "text": [
      "program started\n",
      "<generator object fun at 0x000001EF91B55900>\n",
      "hello\n",
      "r1= 10\n",
      "program ended\n"
     ]
    }
   ],
   "source": [
    "print(\"program started\")\n",
    "def fun():\n",
    "    print(\"hello\")\n",
    "    yield 10\n",
    "    print(\"hi\")\n",
    "    yield 20\n",
    "    print(\"hyd\")\n",
    "    yield 30\n",
    "res=fun()  # it will create a generator object ,that object is referred by \"res\"\n",
    "print(res)\n",
    "r1=next(res)\n",
    "print(\"r1=\",r1)\n",
    "print(\"program ended\")"
   ]
  },
  {
   "cell_type": "code",
   "execution_count": 20,
   "id": "9814e9ac-d880-4d42-acbf-7e111cff5e4a",
   "metadata": {},
   "outputs": [
    {
     "name": "stdout",
     "output_type": "stream",
     "text": [
      "program started\n",
      "<generator object fun at 0x000001EF933B2B00>\n",
      "hello\n",
      "r1= 10\n",
      "hi\n",
      "r2= 20\n",
      "program ended\n"
     ]
    }
   ],
   "source": [
    "print(\"program started\")\n",
    "def fun():\n",
    "    print(\"hello\")\n",
    "    yield 10\n",
    "    print(\"hi\")\n",
    "    yield 20\n",
    "    print(\"hyd\")\n",
    "    yield 30\n",
    "res=fun()  # it will create a generator object ,that object is referred by \"res\"\n",
    "print(res)\n",
    "r1=next(res)\n",
    "print(\"r1=\",r1)\n",
    "r2=next(res)\n",
    "print(\"r2=\",r2)\n",
    "print(\"program ended\")"
   ]
  },
  {
   "cell_type": "code",
   "execution_count": 22,
   "id": "a3af17a7-2e20-440b-ba9a-fdd31569f6f8",
   "metadata": {},
   "outputs": [
    {
     "name": "stdout",
     "output_type": "stream",
     "text": [
      "program started\n",
      "<generator object fun at 0x000001EF91B54880>\n",
      "hello\n",
      "r1= 10\n",
      "hi\n",
      "r2= 20\n",
      "hyd\n",
      "r3= 30\n",
      "program ended\n"
     ]
    }
   ],
   "source": [
    "print(\"program started\")\n",
    "def fun():\n",
    "    print(\"hello\")\n",
    "    yield 10\n",
    "    print(\"hi\")\n",
    "    yield 20\n",
    "    print(\"hyd\")\n",
    "    yield 30\n",
    "res=fun()  # it will create a generator object ,that object is referred by \"res\"\n",
    "print(res)\n",
    "r1=next(res)\n",
    "print(\"r1=\",r1)\n",
    "r2=next(res)\n",
    "print(\"r2=\",r2)\n",
    "r3=next(res)\n",
    "print(\"r3=\",r3)\n",
    "print(\"program ended\")"
   ]
  },
  {
   "cell_type": "code",
   "execution_count": 24,
   "id": "4d1a96fb-dc69-48df-91b2-5a338e6c3cea",
   "metadata": {},
   "outputs": [
    {
     "name": "stdout",
     "output_type": "stream",
     "text": [
      "program started\n",
      "<generator object fun at 0x000001EF91B556C0>\n",
      "hello\n",
      "r1= 10\n",
      "hi\n",
      "r2= 20\n",
      "hyd\n",
      "r3= 30\n"
     ]
    },
    {
     "ename": "StopIteration",
     "evalue": "",
     "output_type": "error",
     "traceback": [
      "\u001b[1;31m---------------------------------------------------------------------------\u001b[0m",
      "\u001b[1;31mStopIteration\u001b[0m                             Traceback (most recent call last)",
      "Cell \u001b[1;32mIn[24], line 17\u001b[0m\n\u001b[0;32m     15\u001b[0m r3\u001b[38;5;241m=\u001b[39m\u001b[38;5;28mnext\u001b[39m(res)\n\u001b[0;32m     16\u001b[0m \u001b[38;5;28mprint\u001b[39m(\u001b[38;5;124m\"\u001b[39m\u001b[38;5;124mr3=\u001b[39m\u001b[38;5;124m\"\u001b[39m,r3)\n\u001b[1;32m---> 17\u001b[0m r4\u001b[38;5;241m=\u001b[39m\u001b[38;5;28mnext\u001b[39m(res)\n\u001b[0;32m     18\u001b[0m \u001b[38;5;28mprint\u001b[39m(\u001b[38;5;124m\"\u001b[39m\u001b[38;5;124mr4=\u001b[39m\u001b[38;5;124m\"\u001b[39m,r4)\n\u001b[0;32m     19\u001b[0m \u001b[38;5;28mprint\u001b[39m(\u001b[38;5;124m\"\u001b[39m\u001b[38;5;124mprogram ended\u001b[39m\u001b[38;5;124m\"\u001b[39m)\n",
      "\u001b[1;31mStopIteration\u001b[0m: "
     ]
    }
   ],
   "source": [
    "print(\"program started\")\n",
    "def fun():\n",
    "    print(\"hello\")\n",
    "    yield 10\n",
    "    print(\"hi\")\n",
    "    yield 20\n",
    "    print(\"hyd\")\n",
    "    yield 30\n",
    "res=fun()  # it will create a generator object ,that object is referred by \"res\"\n",
    "print(res)\n",
    "r1=next(res)\n",
    "print(\"r1=\",r1)\n",
    "r2=next(res)\n",
    "print(\"r2=\",r2)\n",
    "r3=next(res)\n",
    "print(\"r3=\",r3)\n",
    "r4=next(res)\n",
    "print(\"r4=\",r4)\n",
    "print(\"program ended\")"
   ]
  },
  {
   "cell_type": "code",
   "execution_count": 28,
   "id": "6103d8f1-a547-40d7-811f-a5ca5c808e4b",
   "metadata": {},
   "outputs": [
    {
     "name": "stdout",
     "output_type": "stream",
     "text": [
      "program started\n",
      "<generator object fun at 0x000001EF91B54880>\n",
      "hello\n",
      "k= 10\n",
      "Hello\n",
      "hi\n",
      "k= 20\n",
      "Hello\n",
      "hyd\n",
      "k= 30\n",
      "Hello\n",
      "program ended\n"
     ]
    }
   ],
   "source": [
    "print(\"program started\")\n",
    "def fun():\n",
    "    print(\"hello\")\n",
    "    yield 10\n",
    "    print(\"hi\")\n",
    "    yield 20\n",
    "    print(\"hyd\")\n",
    "    yield 30\n",
    "res=fun()  # it will create a generator object ,that object is referred by \"res\"\n",
    "print(res)\n",
    "for k in res: # k=10,k=20,k=30  stop Iteration \n",
    "    print(\"k=\",k)\n",
    "    print(\"Hello\")\n",
    "print(\"program ended\")"
   ]
  },
  {
   "cell_type": "code",
   "execution_count": 1,
   "id": "8173f0f8-25e4-4a0c-bc21-0c3f68810d66",
   "metadata": {},
   "outputs": [
    {
     "name": "stdout",
     "output_type": "stream",
     "text": [
      "result= <function fun at 0x000001F7E6ABF420>\n"
     ]
    }
   ],
   "source": [
    "def fun():\n",
    "    print(\"Hello\")\n",
    "    return 20\n",
    "res=fun\n",
    "print(\"result=\",res)"
   ]
  },
  {
   "cell_type": "code",
   "execution_count": null,
   "id": "dfeda39f-d008-4895-a191-7a19088442b7",
   "metadata": {},
   "outputs": [],
   "source": []
  }
 ],
 "metadata": {
  "kernelspec": {
   "display_name": "Python 3 (ipykernel)",
   "language": "python",
   "name": "python3"
  },
  "language_info": {
   "codemirror_mode": {
    "name": "ipython",
    "version": 3
   },
   "file_extension": ".py",
   "mimetype": "text/x-python",
   "name": "python",
   "nbconvert_exporter": "python",
   "pygments_lexer": "ipython3",
   "version": "3.12.4"
  }
 },
 "nbformat": 4,
 "nbformat_minor": 5
}
