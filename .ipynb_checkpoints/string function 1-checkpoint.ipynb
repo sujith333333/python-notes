{
 "cells": [
  {
   "cell_type": "code",
   "execution_count": 1,
   "id": "1a579380-f8ff-4bac-9a5e-822554ceee95",
   "metadata": {
    "scrolled": true
   },
   "outputs": [
    {
     "name": "stdout",
     "output_type": "stream",
     "text": [
      "['__add__', '__class__', '__contains__', '__delattr__', '__dir__', '__doc__', '__eq__', '__format__', '__ge__', '__getattribute__', '__getitem__', '__getnewargs__', '__getstate__', '__gt__', '__hash__', '__init__', '__init_subclass__', '__iter__', '__le__', '__len__', '__lt__', '__mod__', '__mul__', '__ne__', '__new__', '__reduce__', '__reduce_ex__', '__repr__', '__rmod__', '__rmul__', '__setattr__', '__sizeof__', '__str__', '__subclasshook__', 'capitalize', 'casefold', 'center', 'count', 'encode', 'endswith', 'expandtabs', 'find', 'format', 'format_map', 'index', 'isalnum', 'isalpha', 'isascii', 'isdecimal', 'isdigit', 'isidentifier', 'islower', 'isnumeric', 'isprintable', 'isspace', 'istitle', 'isupper', 'join', 'ljust', 'lower', 'lstrip', 'maketrans', 'partition', 'removeprefix', 'removesuffix', 'replace', 'rfind', 'rindex', 'rjust', 'rpartition', 'rsplit', 'rstrip', 'split', 'splitlines', 'startswith', 'strip', 'swapcase', 'title', 'translate', 'upper', 'zfill']\n"
     ]
    }
   ],
   "source": [
    "s = \"hyd\"\n",
    "print(dir(s))"
   ]
  },
  {
   "cell_type": "markdown",
   "id": "2af7cdc5-edf0-44a9-b26d-8b2e5ab613fd",
   "metadata": {},
   "source": [
    "### capitalize "
   ]
  },
  {
   "cell_type": "code",
   "execution_count": 51,
   "id": "3631210f-d8ad-4247-a6b7-1309604f584e",
   "metadata": {},
   "outputs": [
    {
     "name": "stdout",
     "output_type": "stream",
     "text": [
      "Hyderabad is a clean city\n"
     ]
    }
   ],
   "source": [
    "\n",
    "s =\"hyderabad is a clean city\"\n",
    "print(s.capitalize())"
   ]
  },
  {
   "cell_type": "code",
   "execution_count": 5,
   "id": "c7851904-7f60-4897-a512-6e335825025b",
   "metadata": {},
   "outputs": [
    {
     "data": {
      "text/plain": [
       "\u001b[1;31mSignature:\u001b[0m \u001b[0ms\u001b[0m\u001b[1;33m.\u001b[0m\u001b[0mcapitalize\u001b[0m\u001b[1;33m(\u001b[0m\u001b[1;33m)\u001b[0m\u001b[1;33m\u001b[0m\u001b[1;33m\u001b[0m\u001b[0m\n",
       "\u001b[1;31mDocstring:\u001b[0m\n",
       "Return a capitalized version of the string.\n",
       "\n",
       "More specifically, make the first character have upper case and the rest lower\n",
       "case.\n",
       "\u001b[1;31mType:\u001b[0m      builtin_function_or_method"
      ]
     },
     "metadata": {},
     "output_type": "display_data"
    }
   ],
   "source": [
    "s.capitalize?"
   ]
  },
  {
   "cell_type": "code",
   "execution_count": 7,
   "id": "0fd86bde-79e5-416e-917d-ad23b55bee39",
   "metadata": {},
   "outputs": [
    {
     "name": "stdout",
     "output_type": "stream",
     "text": [
      "Hyderabad is a clean city\n"
     ]
    }
   ],
   "source": [
    "s =\"hyderabad is a clean CITY\"\n",
    "print(s.capitalize())"
   ]
  },
  {
   "cell_type": "code",
   "execution_count": 9,
   "id": "8659448e-60ec-47a4-be64-d207ab59f0f6",
   "metadata": {},
   "outputs": [
    {
     "name": "stdout",
     "output_type": "stream",
     "text": [
      "hyderabad is a clean city\n"
     ]
    }
   ],
   "source": [
    "s =\"hyderabad is a clean CITY\"\n",
    "print(s.casefold())"
   ]
  },
  {
   "cell_type": "code",
   "execution_count": 11,
   "id": "0e685bd4-8083-4db5-9bff-fbea03c82cca",
   "metadata": {},
   "outputs": [
    {
     "data": {
      "text/plain": [
       "\u001b[1;31mSignature:\u001b[0m \u001b[0ms\u001b[0m\u001b[1;33m.\u001b[0m\u001b[0mcasefold\u001b[0m\u001b[1;33m(\u001b[0m\u001b[1;33m)\u001b[0m\u001b[1;33m\u001b[0m\u001b[1;33m\u001b[0m\u001b[0m\n",
       "\u001b[1;31mDocstring:\u001b[0m Return a version of the string suitable for caseless comparisons.\n",
       "\u001b[1;31mType:\u001b[0m      builtin_function_or_method"
      ]
     },
     "metadata": {},
     "output_type": "display_data"
    }
   ],
   "source": [
    "s.casefold?"
   ]
  },
  {
   "cell_type": "code",
   "execution_count": 17,
   "id": "d33e6bd8-d652-4332-bb9f-ad89c1990cb8",
   "metadata": {},
   "outputs": [
    {
     "name": "stdout",
     "output_type": "stream",
     "text": [
      "2hyderabad is a clean city\n"
     ]
    }
   ],
   "source": [
    "s =\"2hyderabad is a clean CITY\"\n",
    "print(s.capitalize())"
   ]
  },
  {
   "cell_type": "code",
   "execution_count": 19,
   "id": "c2879125-f061-4fc8-a9c2-2760682bb257",
   "metadata": {},
   "outputs": [
    {
     "name": "stdout",
     "output_type": "stream",
     "text": [
      "\n"
     ]
    }
   ],
   "source": [
    "s =\"\"\n",
    "print(s.capitalize())"
   ]
  },
  {
   "cell_type": "code",
   "execution_count": 21,
   "id": "dd480386-06b0-40ea-8ac2-6b0eaa1f1148",
   "metadata": {},
   "outputs": [
    {
     "name": "stdout",
     "output_type": "stream",
     "text": [
      "2@#$^a\n"
     ]
    }
   ],
   "source": [
    "s =\"2@#$^A\"\n",
    "print(s.capitalize())"
   ]
  },
  {
   "cell_type": "code",
   "execution_count": 23,
   "id": "3232d79e-0d4e-48fe-8f56-b410c1c87e99",
   "metadata": {},
   "outputs": [
    {
     "name": "stdout",
     "output_type": "stream",
     "text": [
      "12345\n"
     ]
    }
   ],
   "source": [
    "s =\"12345\"\n",
    "print(s.capitalize())"
   ]
  },
  {
   "cell_type": "code",
   "execution_count": 25,
   "id": "f8e2244d-a135-491e-8897-c3f1d9b48065",
   "metadata": {},
   "outputs": [
    {
     "name": "stdout",
     "output_type": "stream",
     "text": [
      "None\n"
     ]
    }
   ],
   "source": [
    "s =\"None\"\n",
    "print(s.capitalize())"
   ]
  },
  {
   "cell_type": "code",
   "execution_count": 27,
   "id": "727f689a-86fc-4ae6-b2c3-e1a77ad9fddb",
   "metadata": {},
   "outputs": [
    {
     "name": "stdout",
     "output_type": "stream",
     "text": [
      "True\n"
     ]
    }
   ],
   "source": [
    "s =\"True\"\n",
    "print(s.capitalize())"
   ]
  },
  {
   "cell_type": "code",
   "execution_count": 29,
   "id": "c3a480ec-f4cf-4172-9ba1-f41ca3dd1ada",
   "metadata": {},
   "outputs": [
    {
     "name": "stdout",
     "output_type": "stream",
     "text": [
      "None\n"
     ]
    }
   ],
   "source": [
    "s =\"none\"\n",
    "print(s.capitalize())"
   ]
  },
  {
   "cell_type": "code",
   "execution_count": 31,
   "id": "5fc4e265-6f33-4c90-94c6-4966f53e02f5",
   "metadata": {},
   "outputs": [
    {
     "name": "stdout",
     "output_type": "stream",
     "text": [
      "['__add__', '__class__', '__class_getitem__', '__contains__', '__delattr__', '__delitem__', '__dir__', '__doc__', '__eq__', '__format__', '__ge__', '__getattribute__', '__getitem__', '__getstate__', '__gt__', '__hash__', '__iadd__', '__imul__', '__init__', '__init_subclass__', '__iter__', '__le__', '__len__', '__lt__', '__mul__', '__ne__', '__new__', '__reduce__', '__reduce_ex__', '__repr__', '__reversed__', '__rmul__', '__setattr__', '__setitem__', '__sizeof__', '__str__', '__subclasshook__', 'append', 'clear', 'copy', 'count', 'extend', 'index', 'insert', 'pop', 'remove', 'reverse', 'sort']\n"
     ]
    }
   ],
   "source": [
    "l=[1,2,3,4]\n",
    "print(dir(l))"
   ]
  },
  {
   "cell_type": "code",
   "execution_count": 33,
   "id": "80343f3c-a64e-442a-a457-ecccbe1acc0f",
   "metadata": {},
   "outputs": [
    {
     "name": "stdout",
     "output_type": "stream",
     "text": [
      "['__add__', '__class__', '__class_getitem__', '__contains__', '__delattr__', '__dir__', '__doc__', '__eq__', '__format__', '__ge__', '__getattribute__', '__getitem__', '__getnewargs__', '__getstate__', '__gt__', '__hash__', '__init__', '__init_subclass__', '__iter__', '__le__', '__len__', '__lt__', '__mul__', '__ne__', '__new__', '__reduce__', '__reduce_ex__', '__repr__', '__rmul__', '__setattr__', '__sizeof__', '__str__', '__subclasshook__', 'count', 'index']\n"
     ]
    }
   ],
   "source": [
    "t=(1,2,3,4)\n",
    "print(dir(l))"
   ]
  },
  {
   "cell_type": "code",
   "execution_count": 35,
   "id": "6ff7c5d1-06f7-4a5c-8d98-fa46baa54bba",
   "metadata": {},
   "outputs": [
    {
     "name": "stdout",
     "output_type": "stream",
     "text": [
      "['__and__', '__class__', '__class_getitem__', '__contains__', '__delattr__', '__dir__', '__doc__', '__eq__', '__format__', '__ge__', '__getattribute__', '__getstate__', '__gt__', '__hash__', '__iand__', '__init__', '__init_subclass__', '__ior__', '__isub__', '__iter__', '__ixor__', '__le__', '__len__', '__lt__', '__ne__', '__new__', '__or__', '__rand__', '__reduce__', '__reduce_ex__', '__repr__', '__ror__', '__rsub__', '__rxor__', '__setattr__', '__sizeof__', '__str__', '__sub__', '__subclasshook__', '__xor__', 'add', 'clear', 'copy', 'difference', 'difference_update', 'discard', 'intersection', 'intersection_update', 'isdisjoint', 'issubset', 'issuperset', 'pop', 'remove', 'symmetric_difference', 'symmetric_difference_update', 'union', 'update']\n"
     ]
    }
   ],
   "source": [
    "s={1,2,3,4}\n",
    "print(dir(l))"
   ]
  },
  {
   "cell_type": "code",
   "execution_count": 37,
   "id": "36eabc47-c06e-467b-b1db-784dcd559e5b",
   "metadata": {},
   "outputs": [
    {
     "name": "stdout",
     "output_type": "stream",
     "text": [
      "['__class__', '__class_getitem__', '__contains__', '__delattr__', '__delitem__', '__dir__', '__doc__', '__eq__', '__format__', '__ge__', '__getattribute__', '__getitem__', '__getstate__', '__gt__', '__hash__', '__init__', '__init_subclass__', '__ior__', '__iter__', '__le__', '__len__', '__lt__', '__ne__', '__new__', '__or__', '__reduce__', '__reduce_ex__', '__repr__', '__reversed__', '__ror__', '__setattr__', '__setitem__', '__sizeof__', '__str__', '__subclasshook__', 'clear', 'copy', 'fromkeys', 'get', 'items', 'keys', 'pop', 'popitem', 'setdefault', 'update', 'values']\n"
     ]
    }
   ],
   "source": [
    "d={\"name\": \"AJA\", \"address\":\"HYD\"}\n",
    "print(dir(l))"
   ]
  },
  {
   "cell_type": "markdown",
   "id": "6ee03a70-38bb-48f5-8961-5b601827fcc0",
   "metadata": {},
   "source": [
    "### upper functions"
   ]
  },
  {
   "cell_type": "code",
   "execution_count": 49,
   "id": "4c1e4f4b-030d-4a15-9ed7-6e991e8609f4",
   "metadata": {},
   "outputs": [
    {
     "name": "stdout",
     "output_type": "stream",
     "text": [
      "HYDERABAD\n",
      "\n",
      "AMEEL\n",
      "2AMEEL\n"
     ]
    }
   ],
   "source": [
    "\n",
    "s=\"hyderaBAD\"\n",
    "print(s.upper()) # it will convert to uppercase\n",
    "s=\"\"\n",
    "print(s.upper()) # it will print empty space\n",
    "s=\"AmEEL\"\n",
    "print(s.upper()) # it will convert lower cases to upper\n",
    "s=\"2AmEEL\"\n",
    "print(s.upper()) "
   ]
  },
  {
   "cell_type": "markdown",
   "id": "d97998ea-3dc7-4c38-9e23-25f038c6a5c8",
   "metadata": {},
   "source": [
    "### casefold"
   ]
  },
  {
   "cell_type": "code",
   "execution_count": 60,
   "id": "c2bcbb6e-99ef-4b96-99ff-f35112f7cd0f",
   "metadata": {},
   "outputs": [
    {
     "data": {
      "text/plain": [
       "\u001b[1;31mSignature:\u001b[0m \u001b[0ms\u001b[0m\u001b[1;33m.\u001b[0m\u001b[0mcasefold\u001b[0m\u001b[1;33m(\u001b[0m\u001b[1;33m)\u001b[0m\u001b[1;33m\u001b[0m\u001b[1;33m\u001b[0m\u001b[0m\n",
       "\u001b[1;31mDocstring:\u001b[0m Return a version of the string suitable for caseless comparisons.\n",
       "\u001b[1;31mType:\u001b[0m      builtin_function_or_method"
      ]
     },
     "metadata": {},
     "output_type": "display_data"
    }
   ],
   "source": [
    "s.casefold?"
   ]
  },
  {
   "cell_type": "code",
   "execution_count": 62,
   "id": "9ffd2815-1810-4d69-bf5d-d74a225ef5a5",
   "metadata": {},
   "outputs": [
    {
     "name": "stdout",
     "output_type": "stream",
     "text": [
      "hyderabad is a clean city\n"
     ]
    }
   ],
   "source": [
    "s =\"hyderabad is a clean CITY\"\n",
    "print(s.casefold()) ## it will convert to lowercase if we have upper case characters"
   ]
  },
  {
   "cell_type": "code",
   "execution_count": 64,
   "id": "4f4b0e08-3ff4-4511-a0d1-85584a5a7384",
   "metadata": {},
   "outputs": [
    {
     "name": "stdout",
     "output_type": "stream",
     "text": [
      "hyd is a clean city\n"
     ]
    }
   ],
   "source": [
    "s =\"HYD IS A CLEAN CITY\"\n",
    "print(s.casefold())"
   ]
  },
  {
   "cell_type": "code",
   "execution_count": 66,
   "id": "dea99ebc-5aed-423a-83a6-8a4d8c3e8a4c",
   "metadata": {},
   "outputs": [
    {
     "name": "stdout",
     "output_type": "stream",
     "text": [
      "hyd is a clean city\n"
     ]
    }
   ],
   "source": [
    "s =\"hyd is a clean city\"\n",
    "print(s.casefold())"
   ]
  },
  {
   "cell_type": "code",
   "execution_count": 68,
   "id": "bd7f1dd8-07b2-4b18-b9de-627b95915ac8",
   "metadata": {},
   "outputs": [
    {
     "name": "stdout",
     "output_type": "stream",
     "text": [
      "2@#$^a\n"
     ]
    }
   ],
   "source": [
    "s =\"2@#$^A\"\n",
    "print(s.casefold())"
   ]
  },
  {
   "cell_type": "code",
   "execution_count": 70,
   "id": "03738bc2-a272-4ff5-b916-9d13054e7144",
   "metadata": {},
   "outputs": [
    {
     "name": "stdout",
     "output_type": "stream",
     "text": [
      "\n"
     ]
    }
   ],
   "source": [
    "s =\"\"\n",
    "print(s.casefold())"
   ]
  },
  {
   "cell_type": "code",
   "execution_count": 72,
   "id": "72fb1867-515c-4267-972d-c87292e1beac",
   "metadata": {},
   "outputs": [
    {
     "name": "stdout",
     "output_type": "stream",
     "text": [
      "22356\n"
     ]
    }
   ],
   "source": [
    "s =\"22356\"\n",
    "print(s.casefold())"
   ]
  },
  {
   "cell_type": "markdown",
   "id": "7716d251-f448-4980-a066-71d79ad0c81b",
   "metadata": {},
   "source": [
    "### center"
   ]
  },
  {
   "cell_type": "code",
   "execution_count": 74,
   "id": "a39fff91-2e01-47a9-8211-ba43da706b8e",
   "metadata": {},
   "outputs": [
    {
     "data": {
      "text/plain": [
       "\u001b[1;31mSignature:\u001b[0m \u001b[0ms\u001b[0m\u001b[1;33m.\u001b[0m\u001b[0mcenter\u001b[0m\u001b[1;33m(\u001b[0m\u001b[0mwidth\u001b[0m\u001b[1;33m,\u001b[0m \u001b[0mfillchar\u001b[0m\u001b[1;33m=\u001b[0m\u001b[1;34m' '\u001b[0m\u001b[1;33m,\u001b[0m \u001b[1;33m/\u001b[0m\u001b[1;33m)\u001b[0m\u001b[1;33m\u001b[0m\u001b[1;33m\u001b[0m\u001b[0m\n",
       "\u001b[1;31mDocstring:\u001b[0m\n",
       "Return a centered string of length width.\n",
       "\n",
       "Padding is done using the specified fill character (default is a space).\n",
       "\u001b[1;31mType:\u001b[0m      builtin_function_or_method"
      ]
     },
     "metadata": {},
     "output_type": "display_data"
    }
   ],
   "source": [
    "s.center?"
   ]
  },
  {
   "cell_type": "code",
   "execution_count": 160,
   "id": "775b3225-0a66-4ba3-a50c-3e38080cd52c",
   "metadata": {},
   "outputs": [
    {
     "name": "stdout",
     "output_type": "stream",
     "text": [
      "Help on built-in function center:\n",
      "\n",
      "center(width, fillchar=' ', /) method of builtins.str instance\n",
      "    Return a centered string of length width.\n",
      "\n",
      "    Padding is done using the specified fill character (default is a space).\n",
      "\n"
     ]
    }
   ],
   "source": []
  },
  {
   "cell_type": "code",
   "execution_count": 162,
   "id": "7e1000d5-e257-4f7d-8d20-1d347d1ac3b7",
   "metadata": {},
   "outputs": [
    {
     "name": "stdout",
     "output_type": "stream",
     "text": [
      "'********hyderabadCITY*********'\n"
     ]
    }
   ],
   "source": [
    "s = \"hyderabadCITY\"\n",
    "width = 30  # Example width\n",
    "\n",
    "# Center the string within the specified width, filling with spaces\n",
    "# centered_string = s.center(width, fillchar='h')\n",
    "centered_string = s.center(width,\"*\")\n",
    "\n",
    "print(f\"'{centered_string}'\")\n"
   ]
  },
  {
   "cell_type": "code",
   "execution_count": null,
   "id": "3320aafd-12e6-4731-80c0-e1a60ea4ecd3",
   "metadata": {},
   "outputs": [],
   "source": []
  },
  {
   "cell_type": "markdown",
   "id": "04d42c8f-ab2e-4a25-a1b4-733142605408",
   "metadata": {},
   "source": [
    "### count"
   ]
  },
  {
   "cell_type": "code",
   "execution_count": 98,
   "id": "e607d8a4-16b0-4fa8-a5b1-27ee12793fdb",
   "metadata": {},
   "outputs": [
    {
     "data": {
      "text/plain": [
       "\u001b[1;31mDocstring:\u001b[0m\n",
       "S.count(sub[, start[, end]]) -> int\n",
       "\n",
       "Return the number of non-overlapping occurrences of substring sub in\n",
       "string S[start:end].  Optional arguments start and end are\n",
       "interpreted as in slice notation.\n",
       "\u001b[1;31mType:\u001b[0m      builtin_function_or_method"
      ]
     },
     "metadata": {},
     "output_type": "display_data"
    }
   ],
   "source": [
    "s.count?"
   ]
  },
  {
   "cell_type": "code",
   "execution_count": 100,
   "id": "f2de7c75-2d01-47d2-ad9d-a0a08ca56608",
   "metadata": {},
   "outputs": [
    {
     "name": "stdout",
     "output_type": "stream",
     "text": [
      "The substring 'Hello' appears 2 times.\n"
     ]
    }
   ],
   "source": [
    "# Original string\n",
    "s = \"Hello, how are you? Hello again!\"\n",
    "\n",
    "# Substring to count\n",
    "substring = \"Hello\"\n",
    "\n",
    "# Counting occurrences of the substring\n",
    "count = s.count(substring)\n",
    "\n",
    "# Printing the result\n",
    "print(f\"The substring '{substring}' appears {count} times.\")\n"
   ]
  },
  {
   "cell_type": "code",
   "execution_count": 102,
   "id": "aef5bbb5-0440-414a-acda-8fcf16ff4e7d",
   "metadata": {},
   "outputs": [
    {
     "name": "stdout",
     "output_type": "stream",
     "text": [
      "The substring ' ' appears 5 times.\n"
     ]
    }
   ],
   "source": [
    "# Original string\n",
    "s = \"\" \", how are you? \" \" again!\"\n",
    "\n",
    "# Substring to count\n",
    "substring = \" \"\n",
    "\n",
    "# Counting occurrences of the substring\n",
    "count = s.count(substring)\n",
    "\n",
    "# Printing the result\n",
    "print(f\"The substring '{substring}' appears {count} times.\")"
   ]
  },
  {
   "cell_type": "code",
   "execution_count": 104,
   "id": "0dc2acbe-700e-4460-990b-ae96b78a8b8e",
   "metadata": {},
   "outputs": [
    {
     "name": "stdout",
     "output_type": "stream",
     "text": [
      "The substring 'Hello' appears 0 times.\n"
     ]
    }
   ],
   "source": [
    "# Original string\n",
    "s = \" how are you? again!\"\n",
    "\n",
    "# Substring to count\n",
    "substring = \"Hello\"\n",
    "\n",
    "# Counting occurrences of the substring\n",
    "count = s.count(substring)\n",
    "\n",
    "# Printing the result\n",
    "print(f\"The substring '{substring}' appears {count} times.\")"
   ]
  },
  {
   "cell_type": "markdown",
   "id": "e1459f05-cad3-48a0-bbd2-174e5d5cdcba",
   "metadata": {},
   "source": [
    "### encode"
   ]
  },
  {
   "cell_type": "code",
   "execution_count": 107,
   "id": "1c3b351f-cf12-4495-9d9d-2dd485691a26",
   "metadata": {},
   "outputs": [
    {
     "data": {
      "text/plain": [
       "\u001b[1;31mSignature:\u001b[0m \u001b[0ms\u001b[0m\u001b[1;33m.\u001b[0m\u001b[0mencode\u001b[0m\u001b[1;33m(\u001b[0m\u001b[0mencoding\u001b[0m\u001b[1;33m=\u001b[0m\u001b[1;34m'utf-8'\u001b[0m\u001b[1;33m,\u001b[0m \u001b[0merrors\u001b[0m\u001b[1;33m=\u001b[0m\u001b[1;34m'strict'\u001b[0m\u001b[1;33m)\u001b[0m\u001b[1;33m\u001b[0m\u001b[1;33m\u001b[0m\u001b[0m\n",
       "\u001b[1;31mDocstring:\u001b[0m\n",
       "Encode the string using the codec registered for encoding.\n",
       "\n",
       "encoding\n",
       "  The encoding in which to encode the string.\n",
       "errors\n",
       "  The error handling scheme to use for encoding errors.\n",
       "  The default is 'strict' meaning that encoding errors raise a\n",
       "  UnicodeEncodeError.  Other possible values are 'ignore', 'replace' and\n",
       "  'xmlcharrefreplace' as well as any other name registered with\n",
       "  codecs.register_error that can handle UnicodeEncodeErrors.\n",
       "\u001b[1;31mType:\u001b[0m      builtin_function_or_method"
      ]
     },
     "metadata": {},
     "output_type": "display_data"
    }
   ],
   "source": [
    "s.encode?"
   ]
  },
  {
   "cell_type": "code",
   "execution_count": 109,
   "id": "44740445-35d9-4666-a561-a20296e3611b",
   "metadata": {},
   "outputs": [
    {
     "name": "stdout",
     "output_type": "stream",
     "text": [
      "Encoded bytes: b'Hello, World! \\xe4\\xbd\\xa0\\xe5\\xa5\\xbd'\n"
     ]
    }
   ],
   "source": [
    "# Original string\n",
    "s = \"Hello, World! 你好\"\n",
    "\n",
    "# Encoding the string to bytes using UTF-8\n",
    "encoded_bytes = s.encode('utf-8')\n",
    "\n",
    "# Printing the result\n",
    "print(f\"Encoded bytes: {encoded_bytes}\")\n"
   ]
  },
  {
   "cell_type": "code",
   "execution_count": 111,
   "id": "a72dacbd-4d5a-4824-a8c9-d6681feaa86a",
   "metadata": {},
   "outputs": [
    {
     "name": "stdout",
     "output_type": "stream",
     "text": [
      "Encoded bytes: b'Hello, World! u12hr77812h'\n"
     ]
    }
   ],
   "source": [
    "# Original string\n",
    "s = \"Hello, World! u12hr77812h\"\n",
    "\n",
    "# Encoding the string to bytes using UTF-8\n",
    "encoded_bytes = s.encode('utf-8')\n",
    "\n",
    "# Printing the result\n",
    "print(f\"Encoded bytes: {encoded_bytes}\")\n"
   ]
  },
  {
   "cell_type": "code",
   "execution_count": 113,
   "id": "11fa9b53-513d-4a73-ba5f-fdd8a189cfd8",
   "metadata": {},
   "outputs": [
    {
     "name": "stdout",
     "output_type": "stream",
     "text": [
      "Encoded bytes: b'Hello, World! None'\n"
     ]
    }
   ],
   "source": [
    "# Original string\n",
    "s = \"Hello, World! None\"\n",
    "\n",
    "# Encoding the string to bytes using UTF-8\n",
    "encoded_bytes = s.encode('utf-8')\n",
    "\n",
    "# Printing the result\n",
    "print(f\"Encoded bytes: {encoded_bytes}\")\n"
   ]
  },
  {
   "cell_type": "markdown",
   "id": "f1bd5f7c-e0fc-4450-9f2b-fe8c5a7b9154",
   "metadata": {},
   "source": [
    "### endswith"
   ]
  },
  {
   "cell_type": "code",
   "execution_count": 116,
   "id": "bd2fb97f-505a-4053-8ca9-efa18e396119",
   "metadata": {},
   "outputs": [
    {
     "data": {
      "text/plain": [
       "\u001b[1;31mDocstring:\u001b[0m\n",
       "S.endswith(suffix[, start[, end]]) -> bool\n",
       "\n",
       "Return True if S ends with the specified suffix, False otherwise.\n",
       "With optional start, test S beginning at that position.\n",
       "With optional end, stop comparing S at that position.\n",
       "suffix can also be a tuple of strings to try.\n",
       "\u001b[1;31mType:\u001b[0m      builtin_function_or_method"
      ]
     },
     "metadata": {},
     "output_type": "display_data"
    }
   ],
   "source": [
    "s.endswith?"
   ]
  },
  {
   "cell_type": "code",
   "execution_count": 120,
   "id": "d8cfd8f4-c60e-4527-9e31-488dda183524",
   "metadata": {},
   "outputs": [
    {
     "name": "stdout",
     "output_type": "stream",
     "text": [
      "Does the string end with 'fun!'? True\n",
      "Does the string end with 'Python'? False\n"
     ]
    }
   ],
   "source": [
    "# Original string\n",
    "s = \"Python programming is fun!\"\n",
    "\n",
    "# Check if the string ends with a specific substring\n",
    "ends_with_fun = s.endswith(\"fun!\")\n",
    "# Printing the results\n",
    "print(f\"Does the string end with 'fun!'? {ends_with_fun}\")\n"
   ]
  },
  {
   "cell_type": "code",
   "execution_count": 124,
   "id": "29828841-6bb0-44ab-b11b-3e99d602e504",
   "metadata": {},
   "outputs": [
    {
     "name": "stdout",
     "output_type": "stream",
     "text": [
      "Does the string end with 'fun!'? False\n",
      "Does the string end with 'Python'? False\n"
     ]
    }
   ],
   "source": [
    "# Original string\n",
    "s = \"Python programming is fun!\"\n",
    "\n",
    "# Check if the string ends with a specific substring\n",
    "ends_with_fun = s.endswith(\"$#@%%\")\n",
    "ends_with_python = s.endswith(\"Python\")\n",
    "\n",
    "# Printing the results\n",
    "print(f\"Does the string end with 'fun!'? {ends_with_fun}\")\n",
    "print(f\"Does the string end with 'Python'? {ends_with_python}\")\n"
   ]
  },
  {
   "cell_type": "code",
   "execution_count": 132,
   "id": "9ceba173-d1c3-4a52-99fb-7006f0c710a7",
   "metadata": {},
   "outputs": [
    {
     "name": "stdout",
     "output_type": "stream",
     "text": [
      "Does the string end with 'fun!'? False\n",
      "Does the string end with 'Python'? False\n"
     ]
    }
   ],
   "source": [
    "# Original string\n",
    "s = \"Python programming is fun!\"\n",
    "\n",
    "# Check if the string ends with a specific substring\n",
    "ends_with_fun = s.endswith(\" \")\n",
    "ends_with_python = s.endswith(\"Python\")\n",
    "\n",
    "# Printing the results\n",
    "print(f\"Does the string end with 'fun!'? {ends_with_fun}\")\n",
    "print(f\"Does the string end with 'Python'? {ends_with_python}\")\n"
   ]
  },
  {
   "cell_type": "code",
   "execution_count": 128,
   "id": "4ee4ed47-33f6-4458-a9ec-dcebaf015bf2",
   "metadata": {},
   "outputs": [
    {
     "name": "stdout",
     "output_type": "stream",
     "text": [
      "Does the string end with 'fun!'? False\n",
      "Does the string end with 'Python'? False\n"
     ]
    }
   ],
   "source": [
    "# Original string\n",
    "s = \"Python programming is fun!\"\n",
    "\n",
    "# Check if the string ends with a specific substring\n",
    "ends_with_fun = s.endswith(\"0fun\")\n",
    "ends_with_python = s.endswith(\"Python\")\n",
    "\n",
    "# Printing the results\n",
    "print(f\"Does the string end with 'fun!'? {ends_with_fun}\")\n",
    "print(f\"Does the string end with 'Python'? {ends_with_python}\")"
   ]
  },
  {
   "cell_type": "code",
   "execution_count": 130,
   "id": "7c63a5e2-8501-4f2d-9cc3-341fdb3bf750",
   "metadata": {},
   "outputs": [
    {
     "name": "stdout",
     "output_type": "stream",
     "text": [
      "Does the string end with 'fun!'? False\n",
      "Does the string end with 'Python'? False\n"
     ]
    }
   ],
   "source": [
    "# Original string\n",
    "s = \"Python programming is fun!\"\n",
    "\n",
    "# Check if the string ends with a specific substring\n",
    "ends_with_fun = s.endswith(\"FUN\")\n",
    "ends_with_python = s.endswith(\"Python\")\n",
    "\n",
    "# Printing the results\n",
    "print(f\"Does the string end with 'fun!'? {ends_with_fun}\")\n",
    "print(f\"Does the string end with 'Python'? {ends_with_python}\")"
   ]
  },
  {
   "cell_type": "markdown",
   "id": "baada94e-5b37-4ea4-a359-dcef0731f40d",
   "metadata": {},
   "source": [
    "### expandtabs"
   ]
  },
  {
   "cell_type": "code",
   "execution_count": 164,
   "id": "2a9aba2d-4f96-4b2c-b1be-d33023ffef30",
   "metadata": {},
   "outputs": [
    {
     "data": {
      "text/plain": [
       "\u001b[1;31mSignature:\u001b[0m \u001b[0ms\u001b[0m\u001b[1;33m.\u001b[0m\u001b[0mexpandtabs\u001b[0m\u001b[1;33m(\u001b[0m\u001b[0mtabsize\u001b[0m\u001b[1;33m=\u001b[0m\u001b[1;36m8\u001b[0m\u001b[1;33m)\u001b[0m\u001b[1;33m\u001b[0m\u001b[1;33m\u001b[0m\u001b[0m\n",
       "\u001b[1;31mDocstring:\u001b[0m\n",
       "Return a copy where all tab characters are expanded using spaces.\n",
       "\n",
       "If tabsize is not given, a tab size of 8 characters is assumed.\n",
       "\u001b[1;31mType:\u001b[0m      builtin_function_or_method"
      ]
     },
     "metadata": {},
     "output_type": "display_data"
    }
   ],
   "source": [
    "s.expandtabs?"
   ]
  },
  {
   "cell_type": "code",
   "execution_count": 167,
   "id": "c470f7af-6be4-4a74-b02c-b9358ef5635e",
   "metadata": {},
   "outputs": [
    {
     "name": "stdout",
     "output_type": "stream",
     "text": [
      "hyd is a clean city\n"
     ]
    }
   ],
   "source": [
    "s =\"hyd is a clean city\"\n",
    "print(s.expandtabs())"
   ]
  },
  {
   "cell_type": "code",
   "execution_count": 181,
   "id": "b4017400-a9c1-4832-a3ce-c7e37900a98f",
   "metadata": {},
   "outputs": [
    {
     "name": "stdout",
     "output_type": "stream",
     "text": [
      "hyd city\n"
     ]
    }
   ],
   "source": [
    "s =\"hyd city\"\n",
    "print(s.expandtabs(tabsize=12))"
   ]
  },
  {
   "cell_type": "code",
   "execution_count": 183,
   "id": "ce330c02-d82e-4342-ad9f-0474253bdd27",
   "metadata": {},
   "outputs": [
    {
     "name": "stdout",
     "output_type": "stream",
     "text": [
      "Original String:\n",
      "'Hello\\tWorld!\\tThis is an example.'\n",
      "\n",
      "Expanded with default tab size (8 spaces):\n",
      "'Hello   World!  This is an example.'\n",
      "\n",
      "Expanded with custom tab size (4 spaces):\n",
      "'Hello   World!  This is an example.'\n"
     ]
    }
   ],
   "source": [
    "# Original string with tabs\n",
    "s = \"Hello\\tWorld!\\tThis is an example.\"\n",
    "\n",
    "# Expanding tabs to the default size (8 spaces)\n",
    "expanded_default = s.expandtabs()\n",
    "\n",
    "# Expanding tabs to a custom size (4 spaces)\n",
    "expanded_custom = s.expandtabs(4)\n",
    "\n",
    "# Printing the results\n",
    "print(\"Original String:\")\n",
    "print(repr(s))\n",
    "print(\"\\nExpanded with default tab size (8 spaces):\")\n",
    "print(repr(expanded_default))\n",
    "print(\"\\nExpanded with custom tab size (4 spaces):\")\n",
    "print(repr(expanded_custom))"
   ]
  },
  {
   "cell_type": "markdown",
   "id": "7f4ec77e-008b-4bee-b5d7-f0dd2ba608f1",
   "metadata": {},
   "source": [
    "### find"
   ]
  },
  {
   "cell_type": "code",
   "execution_count": 188,
   "id": "264e2994-3eea-48ac-97a5-cf7c78c32cf9",
   "metadata": {},
   "outputs": [
    {
     "data": {
      "text/plain": [
       "\u001b[1;31mDocstring:\u001b[0m\n",
       "S.find(sub[, start[, end]]) -> int\n",
       "\n",
       "Return the lowest index in S where substring sub is found,\n",
       "such that sub is contained within S[start:end].  Optional\n",
       "arguments start and end are interpreted as in slice notation.\n",
       "\n",
       "Return -1 on failure.\n",
       "\u001b[1;31mType:\u001b[0m      builtin_function_or_method"
      ]
     },
     "metadata": {},
     "output_type": "display_data"
    }
   ],
   "source": [
    "s.find?"
   ]
  },
  {
   "cell_type": "code",
   "execution_count": 190,
   "id": "f274315b-9e24-466c-be8c-4b93c24fdddd",
   "metadata": {},
   "outputs": [
    {
     "name": "stdout",
     "output_type": "stream",
     "text": [
      "7\n"
     ]
    }
   ],
   "source": [
    "text = \"Hello, world!\"\n",
    "result = text.find(\"world\")\n",
    "print(result) \n"
   ]
  },
  {
   "cell_type": "code",
   "execution_count": 192,
   "id": "37ad5db7-93ab-4d51-8519-f0bf0f9df274",
   "metadata": {},
   "outputs": [
    {
     "name": "stdout",
     "output_type": "stream",
     "text": [
      "6\n"
     ]
    }
   ],
   "source": [
    "text = \"Hello, world!\"\n",
    "result = text.find(\" \")\n",
    "print(result) "
   ]
  },
  {
   "cell_type": "code",
   "execution_count": 194,
   "id": "609d8519-5a67-4607-9892-1972051cc2e8",
   "metadata": {},
   "outputs": [
    {
     "name": "stdout",
     "output_type": "stream",
     "text": [
      "-1\n"
     ]
    }
   ],
   "source": [
    "text = \"Hello, world!\"\n",
    "result = text.find(\"-1\")\n",
    "print(result) "
   ]
  },
  {
   "cell_type": "code",
   "execution_count": 196,
   "id": "ed4b415f-9462-49e8-92a7-f60b47e0e918",
   "metadata": {},
   "outputs": [
    {
     "name": "stdout",
     "output_type": "stream",
     "text": [
      "5\n"
     ]
    }
   ],
   "source": [
    "text = \"Hello$world!\"\n",
    "result = text.find(\"$\")\n",
    "print(result) "
   ]
  },
  {
   "cell_type": "code",
   "execution_count": 198,
   "id": "83d9bfbb-cee7-4751-aa3c-e1a172071378",
   "metadata": {},
   "outputs": [
    {
     "name": "stdout",
     "output_type": "stream",
     "text": [
      "-1\n"
     ]
    }
   ],
   "source": [
    "text = \"Hello$world!\"\n",
    "result = text.find(\"zyf\")\n",
    "print(result) "
   ]
  },
  {
   "cell_type": "markdown",
   "id": "fb1b7b39-8137-44e1-9c14-1f10655d6d19",
   "metadata": {},
   "source": [
    "### format"
   ]
  },
  {
   "cell_type": "code",
   "execution_count": 201,
   "id": "652f8425-48ed-442a-9369-9573ee53d160",
   "metadata": {},
   "outputs": [
    {
     "data": {
      "text/plain": [
       "\u001b[1;31mDocstring:\u001b[0m\n",
       "S.format(*args, **kwargs) -> str\n",
       "\n",
       "Return a formatted version of S, using substitutions from args and kwargs.\n",
       "The substitutions are identified by braces ('{' and '}').\n",
       "\u001b[1;31mType:\u001b[0m      builtin_function_or_method"
      ]
     },
     "metadata": {},
     "output_type": "display_data"
    }
   ],
   "source": [
    "s.format?"
   ]
  },
  {
   "cell_type": "code",
   "execution_count": 203,
   "id": "30ee3514-9a3f-4f58-981f-0ea9175d9183",
   "metadata": {},
   "outputs": [
    {
     "name": "stdout",
     "output_type": "stream",
     "text": [
      "My name is Sai and I am 30 years old.\n"
     ]
    }
   ],
   "source": [
    "name = \"Sai\"\n",
    "age = 30\n",
    "sentence = \"My name is {} and I am {} years old.\".format(name, age)\n",
    "print(sentence)\n",
    "# Output: My name is Sailaja and I am 30 years old.\n"
   ]
  },
  {
   "cell_type": "code",
   "execution_count": 205,
   "id": "920eae15-381f-46fb-a15c-88412fbe5a45",
   "metadata": {},
   "outputs": [
    {
     "name": "stdout",
     "output_type": "stream",
     "text": [
      "I am 30 years old and my name is Sai.\n"
     ]
    }
   ],
   "source": [
    "### positional arguements\n",
    "sentence = \"I am {1} years old and my name is {0}.\".format(name, age)\n",
    "print(sentence)\n",
    "\n"
   ]
  },
  {
   "cell_type": "code",
   "execution_count": 207,
   "id": "a4e66848-f6df-4c2e-b186-5d3447c9d5db",
   "metadata": {},
   "outputs": [
    {
     "name": "stdout",
     "output_type": "stream",
     "text": [
      "My name is Sai and I live in Hyderabad.\n"
     ]
    }
   ],
   "source": [
    "### Named arguments\n",
    "sentence = \"My name is {name} and I live in {city}.\".format(name=\"Sai\", city=\"Hyderabad\")\n",
    "print(sentence)\n",
    "\n"
   ]
  },
  {
   "cell_type": "code",
   "execution_count": 209,
   "id": "f60b982c-1742-4a7b-95e8-8821a335feae",
   "metadata": {},
   "outputs": [
    {
     "name": "stdout",
     "output_type": "stream",
     "text": [
      "The price is $49.99\n"
     ]
    }
   ],
   "source": [
    "### numbered arguements\n",
    "price = 49.99\n",
    "formatted_price = \"The price is ${:.2f}\".format(price)\n",
    "print(formatted_price)\n"
   ]
  },
  {
   "cell_type": "code",
   "execution_count": 211,
   "id": "c19077cd-5ef9-471b-ae30-1e2f5644e52c",
   "metadata": {},
   "outputs": [
    {
     "name": "stdout",
     "output_type": "stream",
     "text": [
      "My name is Sai and I am 30 years old.\n"
     ]
    }
   ],
   "source": [
    "name = \"Sai\"\n",
    "age = 30\n",
    "sentence = f\"My name is {name} and I am {age} years old.\"\n",
    "print(sentence)\n",
    "\n"
   ]
  },
  {
   "cell_type": "code",
   "execution_count": 213,
   "id": "57c2ce7a-9115-4bb5-b6d4-dae750ffa9c0",
   "metadata": {},
   "outputs": [
    {
     "name": "stdout",
     "output_type": "stream",
     "text": [
      "The value multiplied by 2 is 20.\n"
     ]
    }
   ],
   "source": [
    "value = 10\n",
    "print(f\"The value multiplied by 2 is {value * 2}.\")\n"
   ]
  },
  {
   "cell_type": "markdown",
   "id": "1bb0cc85-2967-4409-9d4a-790a09912b68",
   "metadata": {},
   "source": [
    "### format_map"
   ]
  },
  {
   "cell_type": "code",
   "execution_count": 223,
   "id": "71533785-3619-4af4-a8a8-c61c0f71768f",
   "metadata": {},
   "outputs": [
    {
     "data": {
      "text/plain": [
       "\u001b[1;31mDocstring:\u001b[0m\n",
       "S.format_map(mapping) -> str\n",
       "\n",
       "Return a formatted version of S, using substitutions from mapping.\n",
       "The substitutions are identified by braces ('{' and '}').\n",
       "\u001b[1;31mType:\u001b[0m      builtin_function_or_method"
      ]
     },
     "metadata": {},
     "output_type": "display_data"
    }
   ],
   "source": [
    "s.format_map?"
   ]
  },
  {
   "cell_type": "code",
   "execution_count": null,
   "id": "6e471e67-f7a5-415a-9e97-9e7fc6441462",
   "metadata": {},
   "outputs": [],
   "source": [
    "### format() allows you to pass multiple arguments or keyword arguments directly, \n",
    "### while format_map() requires a single mapping (like a dictionary)."
   ]
  },
  {
   "cell_type": "code",
   "execution_count": 227,
   "id": "ff229c1a-d80c-4e94-9d3f-e979dc1c78bc",
   "metadata": {},
   "outputs": [
    {
     "name": "stdout",
     "output_type": "stream",
     "text": [
      "My name is Sai and I am 30 years old.\n"
     ]
    }
   ],
   "source": [
    "person = {\"name\": \"Sai\", \"age\": 30}\n",
    "sentence = \"My name is {name} and I am {age} years old.\".format_map(person)\n",
    "print(sentence)"
   ]
  },
  {
   "cell_type": "markdown",
   "id": "e3968c79-72ca-4314-93be-c64d4febf2c1",
   "metadata": {},
   "source": [
    "### index"
   ]
  },
  {
   "cell_type": "code",
   "execution_count": 216,
   "id": "16028dfa-c3fb-4fbb-b651-fd5446f1c064",
   "metadata": {},
   "outputs": [
    {
     "data": {
      "text/plain": [
       "\u001b[1;31mDocstring:\u001b[0m\n",
       "S.index(sub[, start[, end]]) -> int\n",
       "\n",
       "Return the lowest index in S where substring sub is found,\n",
       "such that sub is contained within S[start:end].  Optional\n",
       "arguments start and end are interpreted as in slice notation.\n",
       "\n",
       "Raises ValueError when the substring is not found.\n",
       "\u001b[1;31mType:\u001b[0m      builtin_function_or_method"
      ]
     },
     "metadata": {},
     "output_type": "display_data"
    }
   ],
   "source": [
    "s.index?"
   ]
  },
  {
   "cell_type": "code",
   "execution_count": 218,
   "id": "4e4aee34-5f59-413d-88a6-64494c2374a5",
   "metadata": {},
   "outputs": [
    {
     "name": "stdout",
     "output_type": "stream",
     "text": [
      "7\n"
     ]
    }
   ],
   "source": [
    "text = \"Hello, world!\"\n",
    "index = text.index(\"world\")\n",
    "print(index)\n"
   ]
  },
  {
   "cell_type": "code",
   "execution_count": 220,
   "id": "38293c3d-39bb-42b4-a1d6-1ccf7e741db4",
   "metadata": {},
   "outputs": [
    {
     "name": "stdout",
     "output_type": "stream",
     "text": [
      "14\n"
     ]
    }
   ],
   "source": [
    "text = \"Hello, world! Hello, universe!\"\n",
    "index = text.index(\"Hello\", 10)\n",
    "print(index)\n"
   ]
  },
  {
   "cell_type": "markdown",
   "id": "cb938acb-4214-4482-ad1b-a6e1d9da45ce",
   "metadata": {},
   "source": [
    "### isalnum"
   ]
  },
  {
   "cell_type": "code",
   "execution_count": 230,
   "id": "34f46757-a74c-409f-ac05-384d57297031",
   "metadata": {},
   "outputs": [
    {
     "data": {
      "text/plain": [
       "\u001b[1;31mSignature:\u001b[0m \u001b[0ms\u001b[0m\u001b[1;33m.\u001b[0m\u001b[0misalnum\u001b[0m\u001b[1;33m(\u001b[0m\u001b[1;33m)\u001b[0m\u001b[1;33m\u001b[0m\u001b[1;33m\u001b[0m\u001b[0m\n",
       "\u001b[1;31mDocstring:\u001b[0m\n",
       "Return True if the string is an alpha-numeric string, False otherwise.\n",
       "\n",
       "A string is alpha-numeric if all characters in the string are alpha-numeric and\n",
       "there is at least one character in the string.\n",
       "\u001b[1;31mType:\u001b[0m      builtin_function_or_method"
      ]
     },
     "metadata": {},
     "output_type": "display_data"
    }
   ],
   "source": [
    "s.isalnum?"
   ]
  },
  {
   "cell_type": "code",
   "execution_count": 232,
   "id": "75ecdd0d-dbd5-4f9e-88ce-7dcf0a5955de",
   "metadata": {},
   "outputs": [
    {
     "name": "stdout",
     "output_type": "stream",
     "text": [
      "True\n"
     ]
    }
   ],
   "source": [
    "text = \"Hello123\"\n",
    "print(text.isalnum())\n"
   ]
  },
  {
   "cell_type": "code",
   "execution_count": 234,
   "id": "9c25cad5-1fd6-4e36-b243-741701e3d937",
   "metadata": {},
   "outputs": [
    {
     "name": "stdout",
     "output_type": "stream",
     "text": [
      "False\n"
     ]
    }
   ],
   "source": [
    "text = \"Hello 123!\"\n",
    "print(text.isalnum())\n"
   ]
  },
  {
   "cell_type": "code",
   "execution_count": 236,
   "id": "2aca05cf-3d39-40af-95da-a2e1f9095786",
   "metadata": {},
   "outputs": [
    {
     "name": "stdout",
     "output_type": "stream",
     "text": [
      "False\n"
     ]
    }
   ],
   "source": [
    "text = \"\"\n",
    "print(text.isalnum()) "
   ]
  },
  {
   "cell_type": "code",
   "execution_count": 238,
   "id": "c5c8c775-5fb2-4285-89aa-7cd5406d85a6",
   "metadata": {},
   "outputs": [
    {
     "name": "stdout",
     "output_type": "stream",
     "text": [
      "True\n"
     ]
    }
   ],
   "source": [
    "text = \"12345\"\n",
    "print(text.isalnum())"
   ]
  },
  {
   "cell_type": "code",
   "execution_count": 240,
   "id": "de31d5d4-77df-422a-9a19-b8e4dcca8199",
   "metadata": {},
   "outputs": [
    {
     "name": "stdout",
     "output_type": "stream",
     "text": [
      "True\n"
     ]
    }
   ],
   "source": [
    "text = \"hello\"\n",
    "print(text.isalnum())\n"
   ]
  },
  {
   "cell_type": "code",
   "execution_count": 242,
   "id": "47f3d5e6-58cc-4309-983d-e94252ed03c6",
   "metadata": {},
   "outputs": [
    {
     "name": "stdout",
     "output_type": "stream",
     "text": [
      "False\n"
     ]
    }
   ],
   "source": [
    "text = \"12345@gsad\"\n",
    "print(text.isalnum())\n"
   ]
  },
  {
   "cell_type": "markdown",
   "id": "8dfcb49a-7b2b-46c1-b10b-e1348219cbf3",
   "metadata": {},
   "source": [
    "### isalpha"
   ]
  },
  {
   "cell_type": "code",
   "execution_count": 256,
   "id": "e18499b0-9629-4342-97e8-8a50216b547c",
   "metadata": {},
   "outputs": [
    {
     "data": {
      "text/plain": [
       "\u001b[1;31mSignature:\u001b[0m \u001b[0ms\u001b[0m\u001b[1;33m.\u001b[0m\u001b[0misalpha\u001b[0m\u001b[1;33m(\u001b[0m\u001b[1;33m)\u001b[0m\u001b[1;33m\u001b[0m\u001b[1;33m\u001b[0m\u001b[0m\n",
       "\u001b[1;31mDocstring:\u001b[0m\n",
       "Return True if the string is an alphabetic string, False otherwise.\n",
       "\n",
       "A string is alphabetic if all characters in the string are alphabetic and there\n",
       "is at least one character in the string.\n",
       "\u001b[1;31mType:\u001b[0m      builtin_function_or_method"
      ]
     },
     "metadata": {},
     "output_type": "display_data"
    }
   ],
   "source": [
    "s.isalpha?"
   ]
  },
  {
   "cell_type": "code",
   "execution_count": 245,
   "id": "77644726-770e-42d6-aa93-a150d4a13fdb",
   "metadata": {},
   "outputs": [
    {
     "name": "stdout",
     "output_type": "stream",
     "text": [
      "True\n"
     ]
    }
   ],
   "source": [
    "text = \"Hello\"\n",
    "print(text.isalpha())\n"
   ]
  },
  {
   "cell_type": "code",
   "execution_count": 247,
   "id": "cbf4fb77-436c-4a2b-9705-48805f2a615b",
   "metadata": {},
   "outputs": [
    {
     "name": "stdout",
     "output_type": "stream",
     "text": [
      "False\n"
     ]
    }
   ],
   "source": [
    "text = \"Hello123\"\n",
    "print(text.isalpha())"
   ]
  },
  {
   "cell_type": "code",
   "execution_count": 249,
   "id": "359c2d54-d2a7-48bb-8126-269d9ccce9d8",
   "metadata": {},
   "outputs": [
    {
     "name": "stdout",
     "output_type": "stream",
     "text": [
      "False\n"
     ]
    }
   ],
   "source": [
    "text = \"Hello World\"\n",
    "print(text.isalpha())"
   ]
  },
  {
   "cell_type": "code",
   "execution_count": 251,
   "id": "c7bb9efd-175f-49c5-bfbb-458a432abc76",
   "metadata": {},
   "outputs": [
    {
     "name": "stdout",
     "output_type": "stream",
     "text": [
      "False\n"
     ]
    }
   ],
   "source": [
    "text = \"\"\n",
    "print(text.isalpha())"
   ]
  },
  {
   "cell_type": "markdown",
   "id": "3ff8ecb9-fad7-418f-8e6c-316ba5141d44",
   "metadata": {},
   "source": [
    "### isascii"
   ]
  },
  {
   "cell_type": "code",
   "execution_count": 258,
   "id": "eaf823ec-bb13-4fd1-818a-791f09408840",
   "metadata": {},
   "outputs": [
    {
     "data": {
      "text/plain": [
       "\u001b[1;31mSignature:\u001b[0m \u001b[0ms\u001b[0m\u001b[1;33m.\u001b[0m\u001b[0misascii\u001b[0m\u001b[1;33m(\u001b[0m\u001b[1;33m)\u001b[0m\u001b[1;33m\u001b[0m\u001b[1;33m\u001b[0m\u001b[0m\n",
       "\u001b[1;31mDocstring:\u001b[0m\n",
       "Return True if all characters in the string are ASCII, False otherwise.\n",
       "\n",
       "ASCII characters have code points in the range U+0000-U+007F.\n",
       "Empty string is ASCII too.\n",
       "\u001b[1;31mType:\u001b[0m      builtin_function_or_method"
      ]
     },
     "metadata": {},
     "output_type": "display_data"
    }
   ],
   "source": [
    "s.isascii?"
   ]
  },
  {
   "cell_type": "code",
   "execution_count": 260,
   "id": "a4e4331c-c870-452e-8add-17cfeca01f6a",
   "metadata": {},
   "outputs": [
    {
     "name": "stdout",
     "output_type": "stream",
     "text": [
      "True\n"
     ]
    }
   ],
   "source": [
    "text = \"Hello, world!\"\n",
    "print(text.isascii())\n"
   ]
  },
  {
   "cell_type": "code",
   "execution_count": 262,
   "id": "bdfc8375-5bb4-45f0-86c6-493d0afbd61d",
   "metadata": {},
   "outputs": [
    {
     "name": "stdout",
     "output_type": "stream",
     "text": [
      "False\n"
     ]
    }
   ],
   "source": [
    "text = \"Café\"\n",
    "print(text.isascii()) "
   ]
  },
  {
   "cell_type": "code",
   "execution_count": 264,
   "id": "6a2528c5-412d-4bc2-9ee4-9c3cd961c57e",
   "metadata": {},
   "outputs": [
    {
     "name": "stdout",
     "output_type": "stream",
     "text": [
      "True\n"
     ]
    }
   ],
   "source": [
    "text = \"\"\n",
    "print(text.isascii())"
   ]
  },
  {
   "cell_type": "markdown",
   "id": "3abd13cd-0161-4fe8-afe4-21a768d4b957",
   "metadata": {},
   "source": [
    "### isdecimal"
   ]
  },
  {
   "cell_type": "code",
   "execution_count": 267,
   "id": "81825c86-c1eb-40ab-8dcf-cb713a06fa16",
   "metadata": {},
   "outputs": [
    {
     "data": {
      "text/plain": [
       "\u001b[1;31mSignature:\u001b[0m \u001b[0ms\u001b[0m\u001b[1;33m.\u001b[0m\u001b[0misdecimal\u001b[0m\u001b[1;33m(\u001b[0m\u001b[1;33m)\u001b[0m\u001b[1;33m\u001b[0m\u001b[1;33m\u001b[0m\u001b[0m\n",
       "\u001b[1;31mDocstring:\u001b[0m\n",
       "Return True if the string is a decimal string, False otherwise.\n",
       "\n",
       "A string is a decimal string if all characters in the string are decimal and\n",
       "there is at least one character in the string.\n",
       "\u001b[1;31mType:\u001b[0m      builtin_function_or_method"
      ]
     },
     "metadata": {},
     "output_type": "display_data"
    }
   ],
   "source": [
    "s.isdecimal?"
   ]
  },
  {
   "cell_type": "code",
   "execution_count": 269,
   "id": "7c64155a-3f11-46d1-91be-7db1f7e4501f",
   "metadata": {},
   "outputs": [
    {
     "name": "stdout",
     "output_type": "stream",
     "text": [
      "True\n"
     ]
    }
   ],
   "source": [
    "text = \"12345\"\n",
    "print(text.isdecimal()) "
   ]
  },
  {
   "cell_type": "code",
   "execution_count": 271,
   "id": "43d79123-644d-4855-bdd0-9c59dcd41c2c",
   "metadata": {},
   "outputs": [
    {
     "name": "stdout",
     "output_type": "stream",
     "text": [
      "False\n"
     ]
    }
   ],
   "source": [
    "text = \"123.45\"\n",
    "print(text.isdecimal()) "
   ]
  },
  {
   "cell_type": "code",
   "execution_count": 273,
   "id": "45b62b27-4dc7-4b7e-a17d-e06a0205604f",
   "metadata": {},
   "outputs": [
    {
     "name": "stdout",
     "output_type": "stream",
     "text": [
      "False\n"
     ]
    }
   ],
   "source": [
    "text = \"12a45\"\n",
    "print(text.isdecimal())"
   ]
  },
  {
   "cell_type": "code",
   "execution_count": 275,
   "id": "45cd6e55-b14c-41dd-858f-1f02497892f1",
   "metadata": {},
   "outputs": [
    {
     "name": "stdout",
     "output_type": "stream",
     "text": [
      "False\n"
     ]
    }
   ],
   "source": [
    "text = \"\"\n",
    "print(text.isdecimal())"
   ]
  },
  {
   "cell_type": "markdown",
   "id": "4536d8ab-d3e4-4f3b-b3b6-27fd1daf914a",
   "metadata": {},
   "source": [
    "### isdigit"
   ]
  },
  {
   "cell_type": "code",
   "execution_count": 278,
   "id": "fc3f9b48-7fa3-41dc-8170-17cbd637753a",
   "metadata": {},
   "outputs": [
    {
     "data": {
      "text/plain": [
       "\u001b[1;31mSignature:\u001b[0m \u001b[0ms\u001b[0m\u001b[1;33m.\u001b[0m\u001b[0misdigit\u001b[0m\u001b[1;33m(\u001b[0m\u001b[1;33m)\u001b[0m\u001b[1;33m\u001b[0m\u001b[1;33m\u001b[0m\u001b[0m\n",
       "\u001b[1;31mDocstring:\u001b[0m\n",
       "Return True if the string is a digit string, False otherwise.\n",
       "\n",
       "A string is a digit string if all characters in the string are digits and there\n",
       "is at least one character in the string.\n",
       "\u001b[1;31mType:\u001b[0m      builtin_function_or_method"
      ]
     },
     "metadata": {},
     "output_type": "display_data"
    }
   ],
   "source": [
    "s.isdigit?"
   ]
  },
  {
   "cell_type": "code",
   "execution_count": 280,
   "id": "15ded29b-5656-4437-ad17-ad94280a34e2",
   "metadata": {},
   "outputs": [
    {
     "name": "stdout",
     "output_type": "stream",
     "text": [
      "True\n"
     ]
    }
   ],
   "source": [
    "text = \"12345\"\n",
    "print(text.isdigit()) "
   ]
  },
  {
   "cell_type": "code",
   "execution_count": 282,
   "id": "a4226972-1a91-4e92-afb1-fcb5fd483c07",
   "metadata": {},
   "outputs": [
    {
     "name": "stdout",
     "output_type": "stream",
     "text": [
      "False\n"
     ]
    }
   ],
   "source": [
    "text = \"123a45\"\n",
    "print(text.isdigit())"
   ]
  },
  {
   "cell_type": "code",
   "execution_count": 284,
   "id": "f40e7fb3-fd40-4ba3-86d0-abfa61536496",
   "metadata": {},
   "outputs": [
    {
     "name": "stdout",
     "output_type": "stream",
     "text": [
      "True\n"
     ]
    }
   ],
   "source": [
    "text = \"²³\"\n",
    "print(text.isdigit()) "
   ]
  },
  {
   "cell_type": "code",
   "execution_count": 286,
   "id": "e7a641e4-af08-4d47-abae-42e22a74280d",
   "metadata": {},
   "outputs": [
    {
     "name": "stdout",
     "output_type": "stream",
     "text": [
      "False\n"
     ]
    }
   ],
   "source": [
    "text = \"123 456\"\n",
    "print(text.isdigit())  ### because of the space"
   ]
  },
  {
   "cell_type": "code",
   "execution_count": 288,
   "id": "0c0cd0c1-75a1-464b-910f-9c1099f933f8",
   "metadata": {},
   "outputs": [
    {
     "name": "stdout",
     "output_type": "stream",
     "text": [
      "False\n"
     ]
    }
   ],
   "source": [
    "text = \"\"\n",
    "print(text.isdigit())  "
   ]
  },
  {
   "cell_type": "code",
   "execution_count": null,
   "id": "3ddf8181-6093-4690-a749-8cc069d617c2",
   "metadata": {},
   "outputs": [],
   "source": [
    "### isdecimal() is stricter and only recognizes standard base-10 digits (0-9).\n",
    "### isdigit() includes other digit-like characters, such as Unicode superscripts or other numeric symbols."
   ]
  },
  {
   "cell_type": "markdown",
   "id": "55a6d199-37d5-4bff-94f8-e90694315671",
   "metadata": {},
   "source": [
    "### isidentifier"
   ]
  },
  {
   "cell_type": "code",
   "execution_count": 291,
   "id": "7da22889-cfcb-4ea6-ad63-e4b1f00ccd22",
   "metadata": {},
   "outputs": [
    {
     "data": {
      "text/plain": [
       "\u001b[1;31mSignature:\u001b[0m \u001b[0ms\u001b[0m\u001b[1;33m.\u001b[0m\u001b[0misidentifier\u001b[0m\u001b[1;33m(\u001b[0m\u001b[1;33m)\u001b[0m\u001b[1;33m\u001b[0m\u001b[1;33m\u001b[0m\u001b[0m\n",
       "\u001b[1;31mDocstring:\u001b[0m\n",
       "Return True if the string is a valid Python identifier, False otherwise.\n",
       "\n",
       "Call keyword.iskeyword(s) to test whether string s is a reserved identifier,\n",
       "such as \"def\" or \"class\".\n",
       "\u001b[1;31mType:\u001b[0m      builtin_function_or_method"
      ]
     },
     "metadata": {},
     "output_type": "display_data"
    }
   ],
   "source": [
    "s.isidentifier?"
   ]
  },
  {
   "cell_type": "code",
   "execution_count": 293,
   "id": "d5e8fd2a-1b35-4a20-9f10-91d15d892d1b",
   "metadata": {},
   "outputs": [
    {
     "name": "stdout",
     "output_type": "stream",
     "text": [
      "True\n"
     ]
    }
   ],
   "source": [
    "text = \"variable_name\"\n",
    "print(text.isidentifier())\n"
   ]
  },
  {
   "cell_type": "code",
   "execution_count": 295,
   "id": "00bf3437-7b7e-40ec-beea-9dd8d4137ed3",
   "metadata": {},
   "outputs": [
    {
     "name": "stdout",
     "output_type": "stream",
     "text": [
      "False\n"
     ]
    }
   ],
   "source": [
    "text = \"123variable\"\n",
    "print(text.isidentifier())  "
   ]
  },
  {
   "cell_type": "code",
   "execution_count": 297,
   "id": "5741ec2f-eade-4c13-8ead-dd8c178e152d",
   "metadata": {},
   "outputs": [
    {
     "name": "stdout",
     "output_type": "stream",
     "text": [
      "False\n"
     ]
    }
   ],
   "source": [
    "text = \"variable-name\"\n",
    "print(text.isidentifier())"
   ]
  },
  {
   "cell_type": "code",
   "execution_count": 299,
   "id": "222d1f18-a39b-4dca-9bc6-4f39d555ccf0",
   "metadata": {},
   "outputs": [
    {
     "name": "stdout",
     "output_type": "stream",
     "text": [
      "True\n"
     ]
    }
   ],
   "source": [
    "text = \"for\"\n",
    "print(text.isidentifier())"
   ]
  },
  {
   "cell_type": "code",
   "execution_count": 301,
   "id": "09a67253-8f79-4b6e-868b-2a9db50eb608",
   "metadata": {},
   "outputs": [
    {
     "name": "stdout",
     "output_type": "stream",
     "text": [
      "False\n"
     ]
    }
   ],
   "source": [
    "text = \" \"\n",
    "print(text.isidentifier())"
   ]
  },
  {
   "cell_type": "markdown",
   "id": "a552a102-1b49-4ba4-973d-62a83e614ccf",
   "metadata": {},
   "source": [
    "### islower"
   ]
  },
  {
   "cell_type": "code",
   "execution_count": 304,
   "id": "826dea60-2be6-4a38-8bc6-577678416efe",
   "metadata": {},
   "outputs": [
    {
     "data": {
      "text/plain": [
       "\u001b[1;31mSignature:\u001b[0m \u001b[0ms\u001b[0m\u001b[1;33m.\u001b[0m\u001b[0mislower\u001b[0m\u001b[1;33m(\u001b[0m\u001b[1;33m)\u001b[0m\u001b[1;33m\u001b[0m\u001b[1;33m\u001b[0m\u001b[0m\n",
       "\u001b[1;31mDocstring:\u001b[0m\n",
       "Return True if the string is a lowercase string, False otherwise.\n",
       "\n",
       "A string is lowercase if all cased characters in the string are lowercase and\n",
       "there is at least one cased character in the string.\n",
       "\u001b[1;31mType:\u001b[0m      builtin_function_or_method"
      ]
     },
     "metadata": {},
     "output_type": "display_data"
    }
   ],
   "source": [
    "s.islower?"
   ]
  },
  {
   "cell_type": "code",
   "execution_count": 306,
   "id": "b95045fc-5ae6-4a31-8319-4075fc15ae45",
   "metadata": {},
   "outputs": [
    {
     "name": "stdout",
     "output_type": "stream",
     "text": [
      "True\n"
     ]
    }
   ],
   "source": [
    "text = \"hello\"\n",
    "print(text.islower())"
   ]
  },
  {
   "cell_type": "code",
   "execution_count": 308,
   "id": "20a26b0c-90ac-40d8-87ab-a3676a5d0f68",
   "metadata": {},
   "outputs": [
    {
     "name": "stdout",
     "output_type": "stream",
     "text": [
      "False\n"
     ]
    }
   ],
   "source": [
    "text = \"Hello\"\n",
    "print(text.islower())"
   ]
  },
  {
   "cell_type": "code",
   "execution_count": 310,
   "id": "acc4458a-8999-4f8b-8477-c44d20d61b05",
   "metadata": {},
   "outputs": [
    {
     "name": "stdout",
     "output_type": "stream",
     "text": [
      "True\n"
     ]
    }
   ],
   "source": [
    "text = \"hello123!\"\n",
    "print(text.islower())"
   ]
  },
  {
   "cell_type": "code",
   "execution_count": 312,
   "id": "c4d4b69a-240b-43bc-9ddd-722f64c546fb",
   "metadata": {},
   "outputs": [
    {
     "name": "stdout",
     "output_type": "stream",
     "text": [
      "False\n"
     ]
    }
   ],
   "source": [
    "text = \"\"\n",
    "print(text.islower())"
   ]
  },
  {
   "cell_type": "markdown",
   "id": "3cbeabec-a15c-4a3e-9e53-3bcf5739d839",
   "metadata": {},
   "source": [
    "### isnumeric"
   ]
  },
  {
   "cell_type": "code",
   "execution_count": 315,
   "id": "6bf23fe1-0e99-44d0-8d47-b571621aaa62",
   "metadata": {},
   "outputs": [
    {
     "data": {
      "text/plain": [
       "\u001b[1;31mSignature:\u001b[0m \u001b[0ms\u001b[0m\u001b[1;33m.\u001b[0m\u001b[0misnumeric\u001b[0m\u001b[1;33m(\u001b[0m\u001b[1;33m)\u001b[0m\u001b[1;33m\u001b[0m\u001b[1;33m\u001b[0m\u001b[0m\n",
       "\u001b[1;31mDocstring:\u001b[0m\n",
       "Return True if the string is a numeric string, False otherwise.\n",
       "\n",
       "A string is numeric if all characters in the string are numeric and there is at\n",
       "least one character in the string.\n",
       "\u001b[1;31mType:\u001b[0m      builtin_function_or_method"
      ]
     },
     "metadata": {},
     "output_type": "display_data"
    }
   ],
   "source": [
    "s.isnumeric?"
   ]
  },
  {
   "cell_type": "code",
   "execution_count": 317,
   "id": "463c0f5e-f0f2-4444-b143-770a77aa414d",
   "metadata": {},
   "outputs": [
    {
     "name": "stdout",
     "output_type": "stream",
     "text": [
      "True\n"
     ]
    }
   ],
   "source": [
    "text = \"12345\"\n",
    "print(text.isnumeric())"
   ]
  },
  {
   "cell_type": "code",
   "execution_count": 319,
   "id": "c42e5ba4-0508-4cf4-b5c3-e6194a393022",
   "metadata": {},
   "outputs": [
    {
     "name": "stdout",
     "output_type": "stream",
     "text": [
      "False\n"
     ]
    }
   ],
   "source": [
    "text = \"123a45\"\n",
    "print(text.isnumeric())"
   ]
  },
  {
   "cell_type": "code",
   "execution_count": 321,
   "id": "51b4233f-c55a-4378-a74f-4baeaffbe0de",
   "metadata": {},
   "outputs": [
    {
     "name": "stdout",
     "output_type": "stream",
     "text": [
      "True\n"
     ]
    }
   ],
   "source": [
    "text = \"٢٣\"  # Arabic numerals\n",
    "print(text.isnumeric())  "
   ]
  },
  {
   "cell_type": "code",
   "execution_count": 323,
   "id": "4b14ea9c-f76e-4a27-ba9c-b4351c4e57ee",
   "metadata": {},
   "outputs": [
    {
     "name": "stdout",
     "output_type": "stream",
     "text": [
      "True\n",
      "True\n"
     ]
    }
   ],
   "source": [
    "text = \"²³\"  # Superscript 2 and 3\n",
    "print(text.isnumeric()) \n",
    "\n",
    "text = \"¾\"  # Fraction three-quarters\n",
    "print(text.isnumeric())  \n"
   ]
  },
  {
   "cell_type": "code",
   "execution_count": 325,
   "id": "3fdca067-31ab-411f-a830-9770ecb2c31f",
   "metadata": {},
   "outputs": [
    {
     "name": "stdout",
     "output_type": "stream",
     "text": [
      "False\n"
     ]
    }
   ],
   "source": [
    "text = \"123 456\"\n",
    "print(text.isnumeric())  "
   ]
  },
  {
   "cell_type": "code",
   "execution_count": 327,
   "id": "f430c261-19f1-4c5b-be1a-de15d5471dae",
   "metadata": {},
   "outputs": [
    {
     "name": "stdout",
     "output_type": "stream",
     "text": [
      "False\n"
     ]
    }
   ],
   "source": [
    "text = \" \"\n",
    "print(text.isnumeric())"
   ]
  },
  {
   "cell_type": "code",
   "execution_count": null,
   "id": "e53edecc-e231-4395-962f-0941d2eb795d",
   "metadata": {},
   "outputs": [],
   "source": [
    "### isnumeric() is broader than isdigit(), as it includes characters beyond the standard decimal digits.\n",
    "### isdigit() only includes base-10 digits and some digit-like characters, but not fractions or superscripts.\n",
    "### isdecimal() is the most restrictive, accepting only standard decimal digits (0–9)."
   ]
  },
  {
   "cell_type": "markdown",
   "id": "7a02e2ce-784c-4670-89f2-9b51b2254bfc",
   "metadata": {},
   "source": [
    "### isprintable"
   ]
  },
  {
   "cell_type": "code",
   "execution_count": 330,
   "id": "1c18708d-8822-4833-9339-88bb17d67809",
   "metadata": {},
   "outputs": [
    {
     "data": {
      "text/plain": [
       "\u001b[1;31mSignature:\u001b[0m \u001b[0mstr\u001b[0m\u001b[1;33m.\u001b[0m\u001b[0misprintable\u001b[0m\u001b[1;33m(\u001b[0m\u001b[0mself\u001b[0m\u001b[1;33m,\u001b[0m \u001b[1;33m/\u001b[0m\u001b[1;33m)\u001b[0m\u001b[1;33m\u001b[0m\u001b[1;33m\u001b[0m\u001b[0m\n",
       "\u001b[1;31mDocstring:\u001b[0m\n",
       "Return True if the string is printable, False otherwise.\n",
       "\n",
       "A string is printable if all of its characters are considered printable in\n",
       "repr() or if it is empty.\n",
       "\u001b[1;31mType:\u001b[0m      method_descriptor"
      ]
     },
     "metadata": {},
     "output_type": "display_data"
    }
   ],
   "source": [
    "str.isprintable?"
   ]
  },
  {
   "cell_type": "code",
   "execution_count": 332,
   "id": "d0ea5a40-aa2c-493a-937b-32a25c5c9bff",
   "metadata": {},
   "outputs": [
    {
     "name": "stdout",
     "output_type": "stream",
     "text": [
      "True\n"
     ]
    }
   ],
   "source": [
    "text = \"Hello, world!\"\n",
    "print(text.isprintable()) "
   ]
  },
  {
   "cell_type": "code",
   "execution_count": 334,
   "id": "52dc9000-8fcc-498f-9eeb-8da8ce11baf9",
   "metadata": {},
   "outputs": [
    {
     "name": "stdout",
     "output_type": "stream",
     "text": [
      "False\n"
     ]
    }
   ],
   "source": [
    "text = \"Hello\\nWorld\"  # Contains a newline character\n",
    "print(text.isprintable())"
   ]
  },
  {
   "cell_type": "code",
   "execution_count": 336,
   "id": "dc78422a-1a94-4658-9967-725a2aa58c4f",
   "metadata": {},
   "outputs": [
    {
     "name": "stdout",
     "output_type": "stream",
     "text": [
      "False\n"
     ]
    }
   ],
   "source": [
    "text = \"Hello\\tWorld\"  # Contains a tab character\n",
    "print(text.isprintable())"
   ]
  },
  {
   "cell_type": "code",
   "execution_count": 338,
   "id": "bd965579-55de-4149-bef5-69362768a888",
   "metadata": {},
   "outputs": [
    {
     "name": "stdout",
     "output_type": "stream",
     "text": [
      "True\n"
     ]
    }
   ],
   "source": [
    "text = \"\"\n",
    "print(text.isprintable())  "
   ]
  },
  {
   "cell_type": "code",
   "execution_count": 340,
   "id": "f2ea271e-2a4e-49e2-986d-b2fa18907de0",
   "metadata": {},
   "outputs": [
    {
     "name": "stdout",
     "output_type": "stream",
     "text": [
      "False\n"
     ]
    }
   ],
   "source": [
    "text = \"Hello\\u200BWorld\"  # Contains a zero-width space\n",
    "print(text.isprintable()) "
   ]
  },
  {
   "cell_type": "markdown",
   "id": "81edd9de-ab16-4a5d-82be-bda0dd20ac5c",
   "metadata": {},
   "source": [
    "### isspace"
   ]
  },
  {
   "cell_type": "code",
   "execution_count": 343,
   "id": "624aa793-b7dd-48f4-acd8-859f2af2398b",
   "metadata": {},
   "outputs": [
    {
     "data": {
      "text/plain": [
       "\u001b[1;31mSignature:\u001b[0m \u001b[0ms\u001b[0m\u001b[1;33m.\u001b[0m\u001b[0misspace\u001b[0m\u001b[1;33m(\u001b[0m\u001b[1;33m)\u001b[0m\u001b[1;33m\u001b[0m\u001b[1;33m\u001b[0m\u001b[0m\n",
       "\u001b[1;31mDocstring:\u001b[0m\n",
       "Return True if the string is a whitespace string, False otherwise.\n",
       "\n",
       "A string is whitespace if all characters in the string are whitespace and there\n",
       "is at least one character in the string.\n",
       "\u001b[1;31mType:\u001b[0m      builtin_function_or_method"
      ]
     },
     "metadata": {},
     "output_type": "display_data"
    }
   ],
   "source": [
    "s.isspace?"
   ]
  },
  {
   "cell_type": "code",
   "execution_count": 345,
   "id": "15126126-7bea-4a3b-b65c-35d81aa29425",
   "metadata": {},
   "outputs": [
    {
     "name": "stdout",
     "output_type": "stream",
     "text": [
      "True\n"
     ]
    }
   ],
   "source": [
    "text = \"   \\t\\n\"\n",
    "print(text.isspace()) "
   ]
  },
  {
   "cell_type": "code",
   "execution_count": 347,
   "id": "5d6a23d7-30cd-4f0c-90a8-494ea42f957a",
   "metadata": {},
   "outputs": [
    {
     "name": "stdout",
     "output_type": "stream",
     "text": [
      "False\n"
     ]
    }
   ],
   "source": [
    "text = \"Hello World\"\n",
    "print(text.isspace()) "
   ]
  },
  {
   "cell_type": "markdown",
   "id": "2b258f95-6417-4fb0-be58-4d6599d4079c",
   "metadata": {},
   "source": [
    "### istitle"
   ]
  },
  {
   "cell_type": "code",
   "execution_count": 349,
   "id": "43c3a887-cf1a-48ca-98f4-647714dd7eb0",
   "metadata": {},
   "outputs": [
    {
     "data": {
      "text/plain": [
       "\u001b[1;31mSignature:\u001b[0m \u001b[0mstr\u001b[0m\u001b[1;33m.\u001b[0m\u001b[0mistitle\u001b[0m\u001b[1;33m(\u001b[0m\u001b[0mself\u001b[0m\u001b[1;33m,\u001b[0m \u001b[1;33m/\u001b[0m\u001b[1;33m)\u001b[0m\u001b[1;33m\u001b[0m\u001b[1;33m\u001b[0m\u001b[0m\n",
       "\u001b[1;31mDocstring:\u001b[0m\n",
       "Return True if the string is a title-cased string, False otherwise.\n",
       "\n",
       "In a title-cased string, upper- and title-case characters may only\n",
       "follow uncased characters and lowercase characters only cased ones.\n",
       "\u001b[1;31mType:\u001b[0m      method_descriptor"
      ]
     },
     "metadata": {},
     "output_type": "display_data"
    }
   ],
   "source": [
    "str.istitle?"
   ]
  },
  {
   "cell_type": "code",
   "execution_count": 352,
   "id": "705bd229-7cbd-4edd-9385-00b6ed43eb4a",
   "metadata": {},
   "outputs": [
    {
     "name": "stdout",
     "output_type": "stream",
     "text": [
      "True\n"
     ]
    }
   ],
   "source": [
    "text = \"Hello World\"\n",
    "print(text.istitle())"
   ]
  },
  {
   "cell_type": "code",
   "execution_count": 354,
   "id": "d3b93c67-7a2a-432b-be30-2107111e1b67",
   "metadata": {},
   "outputs": [
    {
     "name": "stdout",
     "output_type": "stream",
     "text": [
      "False\n"
     ]
    }
   ],
   "source": [
    "text = \"hello world\"\n",
    "print(text.istitle())  "
   ]
  },
  {
   "cell_type": "code",
   "execution_count": 356,
   "id": "4f9a5f5f-2c8d-4e80-bda5-6ec96fa4f1c6",
   "metadata": {},
   "outputs": [
    {
     "name": "stdout",
     "output_type": "stream",
     "text": [
      "False\n"
     ]
    }
   ],
   "source": [
    "text = \"Hello world\"\n",
    "print(text.istitle()) "
   ]
  },
  {
   "cell_type": "markdown",
   "id": "83f2fe0f-579c-47b0-bed0-0c0788a0f6d4",
   "metadata": {},
   "source": [
    "### isupper()"
   ]
  },
  {
   "cell_type": "code",
   "execution_count": 359,
   "id": "d40ae7ea-2aa4-4668-8978-bfd18d5ddb82",
   "metadata": {},
   "outputs": [
    {
     "data": {
      "text/plain": [
       "\u001b[1;31mSignature:\u001b[0m \u001b[0ms\u001b[0m\u001b[1;33m.\u001b[0m\u001b[0misupper\u001b[0m\u001b[1;33m(\u001b[0m\u001b[1;33m)\u001b[0m\u001b[1;33m\u001b[0m\u001b[1;33m\u001b[0m\u001b[0m\n",
       "\u001b[1;31mDocstring:\u001b[0m\n",
       "Return True if the string is an uppercase string, False otherwise.\n",
       "\n",
       "A string is uppercase if all cased characters in the string are uppercase and\n",
       "there is at least one cased character in the string.\n",
       "\u001b[1;31mType:\u001b[0m      builtin_function_or_method"
      ]
     },
     "metadata": {},
     "output_type": "display_data"
    }
   ],
   "source": [
    "s.isupper?"
   ]
  },
  {
   "cell_type": "code",
   "execution_count": 361,
   "id": "e1e99ca9-14fa-4c16-94fc-bb3c77ad18b4",
   "metadata": {},
   "outputs": [
    {
     "name": "stdout",
     "output_type": "stream",
     "text": [
      "True\n"
     ]
    }
   ],
   "source": [
    "text = \"HELLO WORLD\"\n",
    "print(text.isupper()) "
   ]
  },
  {
   "cell_type": "code",
   "execution_count": 363,
   "id": "0b4da8c6-eb06-444e-8002-f2c5bddd0580",
   "metadata": {},
   "outputs": [
    {
     "name": "stdout",
     "output_type": "stream",
     "text": [
      "False\n"
     ]
    }
   ],
   "source": [
    "text = \"Hello World\"\n",
    "print(text.isupper())"
   ]
  },
  {
   "cell_type": "code",
   "execution_count": 365,
   "id": "b264fd65-e2fe-470b-9d8e-20e6fe170788",
   "metadata": {},
   "outputs": [
    {
     "name": "stdout",
     "output_type": "stream",
     "text": [
      "True\n"
     ]
    }
   ],
   "source": [
    "text = \"HELLO 123!\"\n",
    "print(text.isupper())"
   ]
  },
  {
   "cell_type": "markdown",
   "id": "7920e961-4798-4f87-a98e-4ff02b9f8579",
   "metadata": {},
   "source": [
    "### join()"
   ]
  },
  {
   "cell_type": "code",
   "execution_count": 372,
   "id": "adab014c-c53d-45fd-9959-7cc102aa7900",
   "metadata": {},
   "outputs": [
    {
     "data": {
      "text/plain": [
       "\u001b[1;31mSignature:\u001b[0m \u001b[0ms\u001b[0m\u001b[1;33m.\u001b[0m\u001b[0mjoin\u001b[0m\u001b[1;33m(\u001b[0m\u001b[0miterable\u001b[0m\u001b[1;33m,\u001b[0m \u001b[1;33m/\u001b[0m\u001b[1;33m)\u001b[0m\u001b[1;33m\u001b[0m\u001b[1;33m\u001b[0m\u001b[0m\n",
       "\u001b[1;31mDocstring:\u001b[0m\n",
       "Concatenate any number of strings.\n",
       "\n",
       "The string whose method is called is inserted in between each given string.\n",
       "The result is returned as a new string.\n",
       "\n",
       "Example: '.'.join(['ab', 'pq', 'rs']) -> 'ab.pq.rs'\n",
       "\u001b[1;31mType:\u001b[0m      builtin_function_or_method"
      ]
     },
     "metadata": {},
     "output_type": "display_data"
    }
   ],
   "source": [
    "s.join?"
   ]
  },
  {
   "cell_type": "code",
   "execution_count": 374,
   "id": "84d52fce-fc2c-47af-9697-7e784efd02b4",
   "metadata": {},
   "outputs": [
    {
     "name": "stdout",
     "output_type": "stream",
     "text": [
      "Hello world\n"
     ]
    }
   ],
   "source": [
    "words = [\"Hello\", \"world\"]\n",
    "result = \" \".join(words)\n",
    "print(result)\n"
   ]
  },
  {
   "cell_type": "code",
   "execution_count": 376,
   "id": "43382d0e-edc0-498f-82d3-edd4745f77f9",
   "metadata": {},
   "outputs": [
    {
     "name": "stdout",
     "output_type": "stream",
     "text": [
      "1, 2, 3\n"
     ]
    }
   ],
   "source": [
    "numbers = [\"1\", \"2\", \"3\"]\n",
    "result = \", \".join(numbers)\n",
    "print(result) "
   ]
  },
  {
   "cell_type": "code",
   "execution_count": 378,
   "id": "6faee746-55f9-47cf-adf7-5dce29a5b4af",
   "metadata": {},
   "outputs": [
    {
     "name": "stdout",
     "output_type": "stream",
     "text": [
      "Hello\n"
     ]
    }
   ],
   "source": [
    "chars = [\"H\", \"e\", \"l\", \"l\", \"o\"]\n",
    "result = \"\".join(chars)\n",
    "print(result) "
   ]
  },
  {
   "cell_type": "code",
   "execution_count": null,
   "id": "fd5b7f06-9a73-48cb-8827-6599f44fcdd8",
   "metadata": {},
   "outputs": [],
   "source": [
    "## isspace() checks if a string is made up entirely of whitespace characters.\n",
    "## istitle() checks if a string is in title case.\n",
    "## isupper() checks if all alphabetic characters in a string are uppercase.\n",
    "## join() combines elements of an iterable into a single string with a specified separator."
   ]
  },
  {
   "cell_type": "markdown",
   "id": "f9f6bbf3-49ed-432d-b740-2c8ddbd84d76",
   "metadata": {},
   "source": [
    "### ljust"
   ]
  },
  {
   "cell_type": "code",
   "execution_count": 381,
   "id": "2d7e7450-0629-439e-a021-f289dc0e5003",
   "metadata": {},
   "outputs": [
    {
     "data": {
      "text/plain": [
       "\u001b[1;31mSignature:\u001b[0m \u001b[0ms\u001b[0m\u001b[1;33m.\u001b[0m\u001b[0mljust\u001b[0m\u001b[1;33m(\u001b[0m\u001b[0mwidth\u001b[0m\u001b[1;33m,\u001b[0m \u001b[0mfillchar\u001b[0m\u001b[1;33m=\u001b[0m\u001b[1;34m' '\u001b[0m\u001b[1;33m,\u001b[0m \u001b[1;33m/\u001b[0m\u001b[1;33m)\u001b[0m\u001b[1;33m\u001b[0m\u001b[1;33m\u001b[0m\u001b[0m\n",
       "\u001b[1;31mDocstring:\u001b[0m\n",
       "Return a left-justified string of length width.\n",
       "\n",
       "Padding is done using the specified fill character (default is a space).\n",
       "\u001b[1;31mType:\u001b[0m      builtin_function_or_method"
      ]
     },
     "metadata": {},
     "output_type": "display_data"
    }
   ],
   "source": [
    "s.ljust?"
   ]
  },
  {
   "cell_type": "code",
   "execution_count": 383,
   "id": "1112df8e-a1ff-4e72-a62a-0c4558b355a2",
   "metadata": {},
   "outputs": [
    {
     "name": "stdout",
     "output_type": "stream",
     "text": [
      "Hello     \n"
     ]
    }
   ],
   "source": [
    "text = \"Hello\"\n",
    "result = text.ljust(10)\n",
    "print(result)  "
   ]
  },
  {
   "cell_type": "code",
   "execution_count": 385,
   "id": "e2659f57-dc96-4277-b93e-19826966eeee",
   "metadata": {},
   "outputs": [
    {
     "name": "stdout",
     "output_type": "stream",
     "text": [
      "Hello*****\n"
     ]
    }
   ],
   "source": [
    "text = \"Hello\"\n",
    "result = text.ljust(10, '*')\n",
    "print(result)"
   ]
  },
  {
   "cell_type": "markdown",
   "id": "831c2aeb-6d78-4f0a-b76b-326d2b9b9f87",
   "metadata": {},
   "source": [
    "### lower"
   ]
  },
  {
   "cell_type": "code",
   "execution_count": 388,
   "id": "972c38d2-9680-4a77-938b-c15ae58e8762",
   "metadata": {},
   "outputs": [
    {
     "data": {
      "text/plain": [
       "\u001b[1;31mSignature:\u001b[0m \u001b[0ms\u001b[0m\u001b[1;33m.\u001b[0m\u001b[0mlower\u001b[0m\u001b[1;33m(\u001b[0m\u001b[1;33m)\u001b[0m\u001b[1;33m\u001b[0m\u001b[1;33m\u001b[0m\u001b[0m\n",
       "\u001b[1;31mDocstring:\u001b[0m Return a copy of the string converted to lowercase.\n",
       "\u001b[1;31mType:\u001b[0m      builtin_function_or_method"
      ]
     },
     "metadata": {},
     "output_type": "display_data"
    }
   ],
   "source": [
    "s.lower?"
   ]
  },
  {
   "cell_type": "code",
   "execution_count": 390,
   "id": "ce774788-abce-42fc-998c-6bfd2efb013e",
   "metadata": {},
   "outputs": [
    {
     "name": "stdout",
     "output_type": "stream",
     "text": [
      "hello world\n"
     ]
    }
   ],
   "source": [
    "text = \"Hello World\"\n",
    "result = text.lower()\n",
    "print(result) "
   ]
  },
  {
   "cell_type": "markdown",
   "id": "ddeebb79-c6eb-4732-bc12-50f1b8854618",
   "metadata": {},
   "source": [
    "### lstrip"
   ]
  },
  {
   "cell_type": "code",
   "execution_count": 393,
   "id": "202b322f-82ba-4696-a4d6-b94a3bf32f29",
   "metadata": {},
   "outputs": [
    {
     "data": {
      "text/plain": [
       "\u001b[1;31mSignature:\u001b[0m \u001b[0ms\u001b[0m\u001b[1;33m.\u001b[0m\u001b[0mlstrip\u001b[0m\u001b[1;33m(\u001b[0m\u001b[0mchars\u001b[0m\u001b[1;33m=\u001b[0m\u001b[1;32mNone\u001b[0m\u001b[1;33m,\u001b[0m \u001b[1;33m/\u001b[0m\u001b[1;33m)\u001b[0m\u001b[1;33m\u001b[0m\u001b[1;33m\u001b[0m\u001b[0m\n",
       "\u001b[1;31mDocstring:\u001b[0m\n",
       "Return a copy of the string with leading whitespace removed.\n",
       "\n",
       "If chars is given and not None, remove characters in chars instead.\n",
       "\u001b[1;31mType:\u001b[0m      builtin_function_or_method"
      ]
     },
     "metadata": {},
     "output_type": "display_data"
    }
   ],
   "source": [
    "s.lstrip?"
   ]
  },
  {
   "cell_type": "code",
   "execution_count": 395,
   "id": "f0bdd79f-2d3e-4aa7-bc32-2319c71dd207",
   "metadata": {},
   "outputs": [
    {
     "name": "stdout",
     "output_type": "stream",
     "text": [
      "Hello World\n"
     ]
    }
   ],
   "source": [
    "text = \"   Hello World\"\n",
    "result = text.lstrip()\n",
    "print(result)  \n"
   ]
  },
  {
   "cell_type": "code",
   "execution_count": 397,
   "id": "08c3898e-793d-421f-856e-8e1c5e7d49a9",
   "metadata": {},
   "outputs": [
    {
     "name": "stdout",
     "output_type": "stream",
     "text": [
      "yHello World\n"
     ]
    }
   ],
   "source": [
    "text = \"xxxyHello World\"\n",
    "result = text.lstrip('x')\n",
    "print(result) "
   ]
  },
  {
   "cell_type": "markdown",
   "id": "8f685abb-03ee-4815-b822-c2d763df296e",
   "metadata": {},
   "source": [
    "### maketrans"
   ]
  },
  {
   "cell_type": "code",
   "execution_count": 400,
   "id": "e5aa5d23-98de-4406-8fd5-0aa31a8833b1",
   "metadata": {},
   "outputs": [
    {
     "data": {
      "text/plain": [
       "\u001b[1;31mDocstring:\u001b[0m\n",
       "Return a translation table usable for str.translate().\n",
       "\n",
       "If there is only one argument, it must be a dictionary mapping Unicode\n",
       "ordinals (integers) or characters to Unicode ordinals, strings or None.\n",
       "Character keys will be then converted to ordinals.\n",
       "If there are two arguments, they must be strings of equal length, and\n",
       "in the resulting dictionary, each character in x will be mapped to the\n",
       "character at the same position in y. If there is a third argument, it\n",
       "must be a string, whose characters will be mapped to None in the result.\n",
       "\u001b[1;31mType:\u001b[0m      builtin_function_or_method"
      ]
     },
     "metadata": {},
     "output_type": "display_data"
    }
   ],
   "source": [
    "s.maketrans?"
   ]
  },
  {
   "cell_type": "code",
   "execution_count": 402,
   "id": "d1d01527-59c8-4ea8-aa7d-ddf0db6e53f4",
   "metadata": {},
   "outputs": [
    {
     "name": "stdout",
     "output_type": "stream",
     "text": [
      "1 2 3\n"
     ]
    }
   ],
   "source": [
    "table = str.maketrans(\"abc\", \"123\")\n",
    "text = \"a b c\"\n",
    "result = text.translate(table)\n",
    "print(result)"
   ]
  },
  {
   "cell_type": "code",
   "execution_count": 404,
   "id": "5d352492-42e8-4712-9389-734ac5280dba",
   "metadata": {},
   "outputs": [
    {
     "name": "stdout",
     "output_type": "stream",
     "text": [
      "lophone\n"
     ]
    }
   ],
   "source": [
    "table = str.maketrans(\"\", \"\", \"xyz\")\n",
    "text = \"xylophone\"\n",
    "result = text.translate(table)\n",
    "print(result) \n"
   ]
  },
  {
   "cell_type": "markdown",
   "id": "9faf3653-6452-4787-9537-c57e200d86be",
   "metadata": {},
   "source": [
    "###  partition"
   ]
  },
  {
   "cell_type": "code",
   "execution_count": 407,
   "id": "84831ec9-17f5-4e7f-a4e6-b464ae252337",
   "metadata": {},
   "outputs": [
    {
     "data": {
      "text/plain": [
       "\u001b[1;31mSignature:\u001b[0m \u001b[0ms\u001b[0m\u001b[1;33m.\u001b[0m\u001b[0mpartition\u001b[0m\u001b[1;33m(\u001b[0m\u001b[0msep\u001b[0m\u001b[1;33m,\u001b[0m \u001b[1;33m/\u001b[0m\u001b[1;33m)\u001b[0m\u001b[1;33m\u001b[0m\u001b[1;33m\u001b[0m\u001b[0m\n",
       "\u001b[1;31mDocstring:\u001b[0m\n",
       "Partition the string into three parts using the given separator.\n",
       "\n",
       "This will search for the separator in the string.  If the separator is found,\n",
       "returns a 3-tuple containing the part before the separator, the separator\n",
       "itself, and the part after it.\n",
       "\n",
       "If the separator is not found, returns a 3-tuple containing the original string\n",
       "and two empty strings.\n",
       "\u001b[1;31mType:\u001b[0m      builtin_function_or_method"
      ]
     },
     "metadata": {},
     "output_type": "display_data"
    }
   ],
   "source": [
    "s.partition?"
   ]
  },
  {
   "cell_type": "code",
   "execution_count": 409,
   "id": "8c6cbf07-29f2-4903-8f33-e9a8f3824a49",
   "metadata": {},
   "outputs": [
    {
     "name": "stdout",
     "output_type": "stream",
     "text": [
      "('Hello', ', ', 'World!')\n"
     ]
    }
   ],
   "source": [
    "text = \"Hello, World!\"\n",
    "result = text.partition(\", \")\n",
    "print(result)  "
   ]
  },
  {
   "cell_type": "code",
   "execution_count": 411,
   "id": "6223e49c-01dd-4af6-a39c-ec45ae484160",
   "metadata": {},
   "outputs": [
    {
     "name": "stdout",
     "output_type": "stream",
     "text": [
      "('Hello World', '', '')\n"
     ]
    }
   ],
   "source": [
    "text = \"Hello World\"\n",
    "result = text.partition(\", \")\n",
    "print(result)  "
   ]
  },
  {
   "cell_type": "markdown",
   "id": "df888cce-23cd-4190-97a9-44f4640046a3",
   "metadata": {},
   "source": [
    "### removeprefix"
   ]
  },
  {
   "cell_type": "code",
   "execution_count": 414,
   "id": "8baf5cbd-b79f-4965-9159-35a025d8ef18",
   "metadata": {},
   "outputs": [
    {
     "data": {
      "text/plain": [
       "\u001b[1;31mSignature:\u001b[0m \u001b[0ms\u001b[0m\u001b[1;33m.\u001b[0m\u001b[0mremoveprefix\u001b[0m\u001b[1;33m(\u001b[0m\u001b[0mprefix\u001b[0m\u001b[1;33m,\u001b[0m \u001b[1;33m/\u001b[0m\u001b[1;33m)\u001b[0m\u001b[1;33m\u001b[0m\u001b[1;33m\u001b[0m\u001b[0m\n",
       "\u001b[1;31mDocstring:\u001b[0m\n",
       "Return a str with the given prefix string removed if present.\n",
       "\n",
       "If the string starts with the prefix string, return string[len(prefix):].\n",
       "Otherwise, return a copy of the original string.\n",
       "\u001b[1;31mType:\u001b[0m      builtin_function_or_method"
      ]
     },
     "metadata": {},
     "output_type": "display_data"
    }
   ],
   "source": [
    "s.removeprefix?"
   ]
  },
  {
   "cell_type": "code",
   "execution_count": 416,
   "id": "aa51266c-0f0a-4b18-9d0f-dd1b8c5f3f96",
   "metadata": {},
   "outputs": [
    {
     "name": "stdout",
     "output_type": "stream",
     "text": [
      "World\n"
     ]
    }
   ],
   "source": [
    "text = \"HelloWorld\"\n",
    "result = text.removeprefix(\"Hello\")\n",
    "print(result)"
   ]
  },
  {
   "cell_type": "code",
   "execution_count": 418,
   "id": "6957bd41-6950-472a-b2be-44a7081e2379",
   "metadata": {},
   "outputs": [
    {
     "name": "stdout",
     "output_type": "stream",
     "text": [
      "HelloWorld\n"
     ]
    }
   ],
   "source": [
    "text = \"HelloWorld\"\n",
    "result = text.removeprefix(\"Hi\")\n",
    "print(result)  "
   ]
  },
  {
   "cell_type": "markdown",
   "id": "c99ba117-a997-421f-afa7-b507752438e4",
   "metadata": {},
   "source": [
    "### removesuffix"
   ]
  },
  {
   "cell_type": "code",
   "execution_count": 421,
   "id": "45e3d737-608f-4e8e-bec5-58b7be86509d",
   "metadata": {},
   "outputs": [
    {
     "data": {
      "text/plain": [
       "\u001b[1;31mSignature:\u001b[0m \u001b[0ms\u001b[0m\u001b[1;33m.\u001b[0m\u001b[0mremovesuffix\u001b[0m\u001b[1;33m(\u001b[0m\u001b[0msuffix\u001b[0m\u001b[1;33m,\u001b[0m \u001b[1;33m/\u001b[0m\u001b[1;33m)\u001b[0m\u001b[1;33m\u001b[0m\u001b[1;33m\u001b[0m\u001b[0m\n",
       "\u001b[1;31mDocstring:\u001b[0m\n",
       "Return a str with the given suffix string removed if present.\n",
       "\n",
       "If the string ends with the suffix string and that suffix is not empty,\n",
       "return string[:-len(suffix)]. Otherwise, return a copy of the original\n",
       "string.\n",
       "\u001b[1;31mType:\u001b[0m      builtin_function_or_method"
      ]
     },
     "metadata": {},
     "output_type": "display_data"
    }
   ],
   "source": [
    "s.removesuffix?"
   ]
  },
  {
   "cell_type": "code",
   "execution_count": 423,
   "id": "cf78e26c-04d5-4fbe-969e-ba794bd71b8c",
   "metadata": {},
   "outputs": [
    {
     "name": "stdout",
     "output_type": "stream",
     "text": [
      "Hello\n"
     ]
    }
   ],
   "source": [
    "text = \"HelloWorld\"\n",
    "result = text.removesuffix(\"World\")\n",
    "print(result) "
   ]
  },
  {
   "cell_type": "code",
   "execution_count": 1,
   "id": "8c4bf4a0-6dd0-4b6b-b5c2-1b6138c56a7c",
   "metadata": {},
   "outputs": [
    {
     "name": "stdout",
     "output_type": "stream",
     "text": [
      "HelloUniverse\n"
     ]
    }
   ],
   "source": [
    "text = \"HelloWorld\"\n",
    "result = text.removesuffix(\"World\")\n",
    "result_with_suffix = result + \"Universe\"  # Adding \"Universe\" as the suffix\n",
    "print(result_with_suffix)\n"
   ]
  },
  {
   "cell_type": "code",
   "execution_count": null,
   "id": "b76ec854-f4d9-45b9-97a2-699bb7ef91ab",
   "metadata": {},
   "outputs": [],
   "source": []
  }
 ],
 "metadata": {
  "kernelspec": {
   "display_name": "Python 3 (ipykernel)",
   "language": "python",
   "name": "python3"
  },
  "language_info": {
   "codemirror_mode": {
    "name": "ipython",
    "version": 3
   },
   "file_extension": ".py",
   "mimetype": "text/x-python",
   "name": "python",
   "nbconvert_exporter": "python",
   "pygments_lexer": "ipython3",
   "version": "3.12.4"
  }
 },
 "nbformat": 4,
 "nbformat_minor": 5
}
