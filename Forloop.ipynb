{
 "cells": [
  {
   "cell_type": "code",
   "execution_count": 3,
   "id": "bb3651dd-aefd-43fc-b1a2-9e2f219c853b",
   "metadata": {},
   "outputs": [
    {
     "name": "stdout",
     "output_type": "stream",
     "text": [
      "[10, 23, 35, 46, 38, 91]\n",
      "[10, 23, 35, 46, 38, 91]\n",
      "[10, 23, 35, 46, 38, 91]\n",
      "[10, 23, 35, 46, 38, 91]\n",
      "[10, 23, 35, 46, 38, 91]\n",
      "[10, 23, 35, 46, 38, 91]\n"
     ]
    }
   ],
   "source": [
    "## For loop\n",
    "num =[10,23,35,46,38,91]\n",
    "for number in num:\n",
    "    print(num)"
   ]
  },
  {
   "cell_type": "code",
   "execution_count": 5,
   "id": "ada782ef-877f-44f7-b14a-94e44a4804b9",
   "metadata": {},
   "outputs": [
    {
     "name": "stdout",
     "output_type": "stream",
     "text": [
      "filesample\n",
      "filesample\n",
      "filesample\n",
      "filesample\n",
      "filesample\n",
      "filesample\n",
      "filesample\n",
      "filesample\n",
      "filesample\n",
      "filesample\n"
     ]
    }
   ],
   "source": [
    "## For loop\n",
    "value =(\"file\" \"sample\")\n",
    "for number in value:\n",
    "    print(value)"
   ]
  },
  {
   "cell_type": "code",
   "execution_count": 9,
   "id": "66c48acf-864b-4907-bfc2-eace184c18b5",
   "metadata": {},
   "outputs": [
    {
     "ename": "TypeError",
     "evalue": "'int' object is not iterable",
     "output_type": "error",
     "traceback": [
      "\u001b[1;31m---------------------------------------------------------------------------\u001b[0m",
      "\u001b[1;31mTypeError\u001b[0m                                 Traceback (most recent call last)",
      "Cell \u001b[1;32mIn[9], line 2\u001b[0m\n\u001b[0;32m      1\u001b[0m value \u001b[38;5;241m=\u001b[39m\u001b[38;5;28mint\u001b[39m(\u001b[38;5;241m11\u001b[39m)\n\u001b[1;32m----> 2\u001b[0m \u001b[38;5;28;01mfor\u001b[39;00m number \u001b[38;5;129;01min\u001b[39;00m value:\n\u001b[0;32m      3\u001b[0m     \u001b[38;5;28mprint\u001b[39m(value)\n",
      "\u001b[1;31mTypeError\u001b[0m: 'int' object is not iterable"
     ]
    }
   ],
   "source": [
    "value =int(11)\n",
    "for number in value:\n",
    "    print(value)"
   ]
  },
  {
   "cell_type": "code",
   "execution_count": 11,
   "id": "d3ee67af-8805-4d04-96dd-37d54e88196f",
   "metadata": {},
   "outputs": [
    {
     "name": "stdout",
     "output_type": "stream",
     "text": [
      "[1, 4, 5]\n",
      "[1, 4, 5]\n",
      "[1, 4, 5]\n"
     ]
    }
   ],
   "source": [
    "value =[1,4,5]\n",
    "for number in value:\n",
    "    print(value)"
   ]
  },
  {
   "cell_type": "code",
   "execution_count": 13,
   "id": "0369eeff-18bf-45f5-ac06-c57bd76be9ee",
   "metadata": {},
   "outputs": [
    {
     "ename": "TypeError",
     "evalue": "'bool' object is not iterable",
     "output_type": "error",
     "traceback": [
      "\u001b[1;31m---------------------------------------------------------------------------\u001b[0m",
      "\u001b[1;31mTypeError\u001b[0m                                 Traceback (most recent call last)",
      "Cell \u001b[1;32mIn[13], line 1\u001b[0m\n\u001b[1;32m----> 1\u001b[0m \u001b[38;5;28;01mfor\u001b[39;00m number \u001b[38;5;129;01min\u001b[39;00m \u001b[38;5;28;01mFalse\u001b[39;00m:\n\u001b[0;32m      2\u001b[0m     \u001b[38;5;28mprint\u001b[39m(value)\n",
      "\u001b[1;31mTypeError\u001b[0m: 'bool' object is not iterable"
     ]
    }
   ],
   "source": [
    "for number in False:\n",
    "    print(value)"
   ]
  },
  {
   "cell_type": "code",
   "execution_count": 15,
   "id": "2e820f57-d6aa-4143-b0be-9a81c22decca",
   "metadata": {},
   "outputs": [
    {
     "ename": "TypeError",
     "evalue": "'NoneType' object is not iterable",
     "output_type": "error",
     "traceback": [
      "\u001b[1;31m---------------------------------------------------------------------------\u001b[0m",
      "\u001b[1;31mTypeError\u001b[0m                                 Traceback (most recent call last)",
      "Cell \u001b[1;32mIn[15], line 1\u001b[0m\n\u001b[1;32m----> 1\u001b[0m \u001b[38;5;28;01mfor\u001b[39;00m number \u001b[38;5;129;01min\u001b[39;00m \u001b[38;5;28;01mNone\u001b[39;00m:\n\u001b[0;32m      2\u001b[0m     \u001b[38;5;28mprint\u001b[39m(value)\n",
      "\u001b[1;31mTypeError\u001b[0m: 'NoneType' object is not iterable"
     ]
    }
   ],
   "source": [
    "for number in None:\n",
    "    print(value)"
   ]
  },
  {
   "cell_type": "code",
   "execution_count": 17,
   "id": "8878754f-ada6-4d77-b556-21cbb1ecdb92",
   "metadata": {},
   "outputs": [
    {
     "ename": "TypeError",
     "evalue": "'float' object is not iterable",
     "output_type": "error",
     "traceback": [
      "\u001b[1;31m---------------------------------------------------------------------------\u001b[0m",
      "\u001b[1;31mTypeError\u001b[0m                                 Traceback (most recent call last)",
      "Cell \u001b[1;32mIn[17], line 1\u001b[0m\n\u001b[1;32m----> 1\u001b[0m \u001b[38;5;28;01mfor\u001b[39;00m number \u001b[38;5;129;01min\u001b[39;00m \u001b[38;5;241m12.5\u001b[39m:\n\u001b[0;32m      2\u001b[0m     \u001b[38;5;28mprint\u001b[39m(value)\n",
      "\u001b[1;31mTypeError\u001b[0m: 'float' object is not iterable"
     ]
    }
   ],
   "source": [
    "for number in 12.5:\n",
    "    print(value)"
   ]
  },
  {
   "cell_type": "code",
   "execution_count": 19,
   "id": "b65a101f-bd0c-4216-82bd-ba883b64eab3",
   "metadata": {},
   "outputs": [
    {
     "ename": "TypeError",
     "evalue": "'int' object is not iterable",
     "output_type": "error",
     "traceback": [
      "\u001b[1;31m---------------------------------------------------------------------------\u001b[0m",
      "\u001b[1;31mTypeError\u001b[0m                                 Traceback (most recent call last)",
      "Cell \u001b[1;32mIn[19], line 1\u001b[0m\n\u001b[1;32m----> 1\u001b[0m \u001b[38;5;28;01mfor\u001b[39;00m number \u001b[38;5;129;01min\u001b[39;00m \u001b[38;5;241m12\u001b[39m:\n\u001b[0;32m      2\u001b[0m     \u001b[38;5;28mprint\u001b[39m(value)\n",
      "\u001b[1;31mTypeError\u001b[0m: 'int' object is not iterable"
     ]
    }
   ],
   "source": [
    "for number in 12:\n",
    "    print(value)"
   ]
  },
  {
   "cell_type": "code",
   "execution_count": 29,
   "id": "380b13cf-35f0-4758-87c6-062f17328efc",
   "metadata": {},
   "outputs": [
    {
     "name": "stdout",
     "output_type": "stream",
     "text": [
      "name\n",
      "address\n"
     ]
    }
   ],
   "source": [
    "value = {\"name\":\"A\", \"address\":\"HYD\"}\n",
    "for number in value:\n",
    "    print(number)"
   ]
  },
  {
   "cell_type": "code",
   "execution_count": 27,
   "id": "1c19ab68-3fc4-4f6c-84f7-b98a3319a4ec",
   "metadata": {},
   "outputs": [
    {
     "name": "stdout",
     "output_type": "stream",
     "text": [
      "hello\n"
     ]
    }
   ],
   "source": [
    "for number in []:\n",
    "    print(value)\n",
    "print(\"hello\")\n"
   ]
  },
  {
   "cell_type": "code",
   "execution_count": 33,
   "id": "d78e0095-e7a0-449a-a5d6-6581d503cf83",
   "metadata": {},
   "outputs": [
    {
     "name": "stdout",
     "output_type": "stream",
     "text": [
      "10 +ve\n",
      "-5 -VE\n",
      "6 +ve\n",
      "-10 -VE\n",
      "9 +ve\n",
      "0 +ve\n",
      "Done\n"
     ]
    }
   ],
   "source": [
    "numbers = [10,-5,6,-10,9,0]\n",
    "for num in numbers:\n",
    "    if num>=0:\n",
    "        print(num,\"+ve\")\n",
    "    else:\n",
    "        print(num,\"-VE\")\n",
    "print(\"Done\")\n",
    "        "
   ]
  },
  {
   "cell_type": "code",
   "execution_count": 39,
   "id": "5d29ad6c-6843-48a8-8c89-6f00c954efdf",
   "metadata": {},
   "outputs": [
    {
     "name": "stdout",
     "output_type": "stream",
     "text": [
      "4\n",
      "2\n"
     ]
    }
   ],
   "source": [
    "numbers = [10,-5,6,-10,9,0]\n",
    "p_n=0\n",
    "n_n=0\n",
    "for num in numbers:\n",
    "    if num>=0:\n",
    "        p_n=p_n+1\n",
    "    else:\n",
    "        n_n=n_n+1\n",
    "print(p_n)\n",
    "print(n_n)"
   ]
  },
  {
   "cell_type": "code",
   "execution_count": 1,
   "id": "4ad42b59-1d66-438e-a1cf-30bf72a5de47",
   "metadata": {},
   "outputs": [
    {
     "name": "stdout",
     "output_type": "stream",
     "text": [
      "Hi\n",
      "hello\n"
     ]
    }
   ],
   "source": [
    "for i in \"1234\":\n",
    "    if i==\"2\":\n",
    "        print(\"Hi\")\n",
    "print(\"hello\")"
   ]
  },
  {
   "cell_type": "code",
   "execution_count": 3,
   "id": "702ea2e7-662d-47b2-9166-93b5f262e09d",
   "metadata": {},
   "outputs": [
    {
     "name": "stdout",
     "output_type": "stream",
     "text": [
      "hello\n"
     ]
    }
   ],
   "source": [
    "for i in \"1234\":\n",
    "    break\n",
    "    if i==\"2\":\n",
    "        print(\"Hi\")\n",
    "print(\"hello\")"
   ]
  },
  {
   "cell_type": "code",
   "execution_count": 9,
   "id": "44274a10-2b37-452b-af52-7514547ebd9d",
   "metadata": {},
   "outputs": [
    {
     "name": "stdout",
     "output_type": "stream",
     "text": [
      "How are you\n",
      "Hi\n",
      "Hi\n",
      "How are you\n",
      "hello\n"
     ]
    }
   ],
   "source": [
    "for i in \"1234\":\n",
    "    if i in\"23\":\n",
    "        print(\"Hi\")\n",
    "    else:\n",
    "        print(\"How are you\")\n",
    "print(\"hello\")"
   ]
  },
  {
   "cell_type": "code",
   "execution_count": 11,
   "id": "d942a954-2af1-48a9-802c-d305f482780b",
   "metadata": {},
   "outputs": [
    {
     "name": "stdout",
     "output_type": "stream",
     "text": [
      "How are you\n",
      "hello\n"
     ]
    }
   ],
   "source": [
    "for i in \"1234\":\n",
    "    if i in\"23\":\n",
    "        print(\"Hi\")\n",
    "    else:\n",
    "        print(\"How are you\")\n",
    "        break\n",
    "print(\"hello\")"
   ]
  },
  {
   "cell_type": "code",
   "execution_count": 13,
   "id": "8be23431-f372-4a8d-a7e0-b303280de989",
   "metadata": {},
   "outputs": [
    {
     "name": "stdout",
     "output_type": "stream",
     "text": [
      "How are you\n",
      "Hi\n",
      "hello\n"
     ]
    }
   ],
   "source": [
    "for i in \"1234\":\n",
    "    if i in\"23\":\n",
    "        print(\"Hi\")\n",
    "        break\n",
    "    else:\n",
    "        print(\"How are you\")\n",
    "print(\"hello\")"
   ]
  },
  {
   "cell_type": "code",
   "execution_count": 15,
   "id": "28e5269e-8ed1-4af1-8cba-95e5aa85c87b",
   "metadata": {},
   "outputs": [
    {
     "name": "stdout",
     "output_type": "stream",
     "text": [
      "How are you\n",
      "hello\n"
     ]
    }
   ],
   "source": [
    "for i in \"1234\":\n",
    "    if i in\"23\":\n",
    "        print(\"Hi\")\n",
    "    else:\n",
    "        print(\"How are you\")\n",
    "    break\n",
    "print(\"hello\")"
   ]
  },
  {
   "cell_type": "code",
   "execution_count": 46,
   "id": "b4bf7c2b-599e-4d0a-ba96-2211204062ea",
   "metadata": {},
   "outputs": [
    {
     "name": "stdout",
     "output_type": "stream",
     "text": [
      "3\n"
     ]
    }
   ],
   "source": [
    "l =[10,-20,-30,45,67,-56]\n",
    "# print each num +ve \n",
    "# how many +ve num are there\n",
    "# does it has -Ve numb\n",
    "i_n=0\n",
    "for i in l:\n",
    "    if i>=0:\n",
    "        i_n=i_n+1\n",
    "print(i_n)"
   ]
  },
  {
   "cell_type": "code",
   "execution_count": 54,
   "id": "58dcf7d5-060f-4124-a64e-d6af6f45de5f",
   "metadata": {},
   "outputs": [
    {
     "name": "stdout",
     "output_type": "stream",
     "text": [
      "3 -ve num\n"
     ]
    }
   ],
   "source": [
    "l =[10,-20,-30,45,67,-56]\n",
    "# print each num +ve \n",
    "# how many +ve num are there\n",
    "# does it has -Ve numb\n",
    "i_n=0\n",
    "for i in l:\n",
    "    if i<0:\n",
    "        i_n=i_n+1\n",
    "print(i_n, \"-ve num\")"
   ]
  },
  {
   "cell_type": "code",
   "execution_count": null,
   "id": "b9d09942-5427-4806-b90c-df38bfa37df1",
   "metadata": {},
   "outputs": [],
   "source": [
    "l =[10,-20,-30,45,67,-56]\n",
    "# print each num +ve \n",
    "# how many +ve num are there\n",
    "# does it has -Ve numb\n",
    "i_n=0\n",
    "for i in l:\n",
    "    print(i_n)\n",
    "    if i<0:\n",
    "        i_n=i_n+1\n",
    "if i_n==0:\n",
    "    print(\"it doesnothas -ve num\")\n",
    "else:\n",
    "print(i_n, \"-ve num\""
   ]
  },
  {
   "cell_type": "code",
   "execution_count": 3,
   "id": "100bdfc3-e051-4d84-a8c9-317923f73554",
   "metadata": {},
   "outputs": [
    {
     "name": "stdout",
     "output_type": "stream",
     "text": [
      "x=10, y=20,z=30\n",
      "x=10, y=20,z=-10\n",
      "x=10, y=20,z=200\n",
      "None None None\n"
     ]
    }
   ],
   "source": [
    "def add(x,y):\n",
    "    z=x+y\n",
    "    print(f\"x={x}, y={y},z={z}\")\n",
    "def sub(x,y):\n",
    "    z=x-y\n",
    "    print(f\"x={x}, y={y},z={z}\")\n",
    "def mul(x,y):\n",
    "    z=x*y\n",
    "    print(f\"x={x}, y={y},z={z}\")\n",
    "res1 = add(10,20)\n",
    "res2 = sub(10,20)\n",
    "res3 = mul(10,20)\n",
    "print(res1,res2,res3)"
   ]
  },
  {
   "cell_type": "code",
   "execution_count": 5,
   "id": "3f96e1d4-ac91-4c80-95d8-5a08b37e7936",
   "metadata": {},
   "outputs": [
    {
     "name": "stdout",
     "output_type": "stream",
     "text": [
      "x=10, y=20,z=30\n",
      "x=10, y=20,z=-10\n",
      "x=10, y=20,z=200\n",
      "A B C|\n"
     ]
    }
   ],
   "source": [
    "def add(x,y):\n",
    "    z=x+y\n",
    "    print(f\"x={x}, y={y},z={z}\")\n",
    "    return \"A\"\n",
    "def sub(x,y):\n",
    "    z=x-y\n",
    "    print(f\"x={x}, y={y},z={z}\")\n",
    "    return \"B\"\n",
    "def mul(x,y):\n",
    "    z=x*y\n",
    "    print(f\"x={x}, y={y},z={z}\")\n",
    "    return \"C|\"\n",
    "res1 = add(10,20)\n",
    "res2 = sub(10,20)\n",
    "res3 = mul(10,20)\n",
    "print(res1,res2,res3)"
   ]
  },
  {
   "cell_type": "code",
   "execution_count": 7,
   "id": "90c204eb-bf6e-4686-a8f2-254a7bfae310",
   "metadata": {},
   "outputs": [
    {
     "name": "stdout",
     "output_type": "stream",
     "text": [
      "x=10, y=20,z=30\n",
      "x=10, y=20,z=-10\n",
      "x=10, y=20,z=200\n",
      "A B 200\n"
     ]
    }
   ],
   "source": [
    "def add(x,y):\n",
    "    z=x+y\n",
    "    print(f\"x={x}, y={y},z={z}\")\n",
    "    return \"A\"\n",
    "def sub(x,y):\n",
    "    z=x-y\n",
    "    print(f\"x={x}, y={y},z={z}\")\n",
    "    return \"B\"\n",
    "def mul(x,y):\n",
    "    z=x*y\n",
    "    print(f\"x={x}, y={y},z={z}\")\n",
    "    return z\n",
    "res1 = add(10,20)\n",
    "res2 = sub(10,20)\n",
    "res3 = mul(10,20)\n",
    "print(res1,res2,res3)"
   ]
  },
  {
   "cell_type": "code",
   "execution_count": 9,
   "id": "ce0ff52a-aa6e-4027-822a-dea485d0fcf1",
   "metadata": {},
   "outputs": [
    {
     "name": "stdout",
     "output_type": "stream",
     "text": [
      "result= 3\n",
      "res= None\n"
     ]
    }
   ],
   "source": [
    "def add(x,y):\n",
    "    z=x+y\n",
    "    print(\"result=\",z)\n",
    "res = add(1,2)\n",
    "print(\"res=\",res)"
   ]
  },
  {
   "cell_type": "code",
   "execution_count": 11,
   "id": "c6a350c4-d681-47ad-9c61-fd16a006a6b4",
   "metadata": {},
   "outputs": [
    {
     "name": "stdout",
     "output_type": "stream",
     "text": [
      "result= 3\n",
      "res= 3\n"
     ]
    }
   ],
   "source": [
    "def add(x,y):\n",
    "    z=x+y\n",
    "    print(\"result=\",z)\n",
    "    return z\n",
    "res = add(1,2)\n",
    "print(\"res=\",res)"
   ]
  },
  {
   "cell_type": "code",
   "execution_count": 15,
   "id": "039ba615-cdb3-41b1-9d0b-6b529590f1f5",
   "metadata": {},
   "outputs": [
    {
     "name": "stdout",
     "output_type": "stream",
     "text": [
      "result= -1\n"
     ]
    }
   ],
   "source": [
    "def operations(x,y):\n",
    "    z=x+y\n",
    "    a= x-y\n",
    "    c=x*y\n",
    "    return a\n",
    "res = operations(1,2)\n",
    "print(\"result=\",res)"
   ]
  },
  {
   "cell_type": "code",
   "execution_count": 17,
   "id": "d12832ce-b9dc-40c1-ad7e-dcd89c9d74cd",
   "metadata": {},
   "outputs": [
    {
     "name": "stdout",
     "output_type": "stream",
     "text": [
      "result= (-1, 2, 3)\n"
     ]
    }
   ],
   "source": [
    "def operations(x,y):\n",
    "    z=x+y\n",
    "    a= x-y\n",
    "    c=x*y\n",
    "    return a,c,z\n",
    "res = operations(1,2)\n",
    "print(\"result=\",res)"
   ]
  },
  {
   "cell_type": "code",
   "execution_count": 19,
   "id": "bd36353c-562e-45d9-8d65-e83ebaac4426",
   "metadata": {},
   "outputs": [
    {
     "name": "stdout",
     "output_type": "stream",
     "text": [
      "result= 3\n"
     ]
    }
   ],
   "source": [
    "def operations(x,y):\n",
    "    z=x+y\n",
    "    return z\n",
    "    print(\"Hi\")\n",
    "    a= x-y\n",
    "    return a\n",
    "    print(\"HYD\")\n",
    "    c=x*y\n",
    "    return c\n",
    "res = operations(1,2)\n",
    "print(\"result=\",res)"
   ]
  },
  {
   "cell_type": "code",
   "execution_count": 21,
   "id": "c8f3f4c8-4669-4e51-8260-6ca00cc17e4c",
   "metadata": {},
   "outputs": [
    {
     "name": "stdout",
     "output_type": "stream",
     "text": [
      "Hi\n",
      "result= 3\n"
     ]
    }
   ],
   "source": [
    "def operations(x,y):\n",
    "    z=x+y\n",
    "    print(\"Hi\")\n",
    "    return z\n",
    "    a= x-y\n",
    "    return a\n",
    "    print(\"HYD\")\n",
    "    c=x*y\n",
    "    return c\n",
    "res = operations(1,2)\n",
    "print(\"result=\",res)"
   ]
  },
  {
   "cell_type": "code",
   "execution_count": 27,
   "id": "b43daa47-fcb4-4270-b5e9-275635586abc",
   "metadata": {},
   "outputs": [
    {
     "name": "stdout",
     "output_type": "stream",
     "text": [
      "Hi\n",
      "result= hello\n",
      "Hi\n",
      "result= HYD\n"
     ]
    }
   ],
   "source": [
    "def fun(x):\n",
    "    print(\"Hi\")\n",
    "    if x>0:\n",
    "        return \"hello\"\n",
    "        print(\"H\")\n",
    "    else:\n",
    "        return \"HYD\"\n",
    "        print(\"I\")\n",
    "res = fun(10)\n",
    "print(\"result=\",res)\n",
    "res1=fun(-10)\n",
    "print(\"result=\", res1)"
   ]
  },
  {
   "cell_type": "code",
   "execution_count": null,
   "id": "e720d0bf-0a77-4bff-9d52-8c0e77acd6db",
   "metadata": {},
   "outputs": [],
   "source": []
  }
 ],
 "metadata": {
  "kernelspec": {
   "display_name": "Python 3 (ipykernel)",
   "language": "python",
   "name": "python3"
  },
  "language_info": {
   "codemirror_mode": {
    "name": "ipython",
    "version": 3
   },
   "file_extension": ".py",
   "mimetype": "text/x-python",
   "name": "python",
   "nbconvert_exporter": "python",
   "pygments_lexer": "ipython3",
   "version": "3.12.4"
  }
 },
 "nbformat": 4,
 "nbformat_minor": 5
}
