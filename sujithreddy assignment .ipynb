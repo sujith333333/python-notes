{
 "cells": [
  {
   "cell_type": "markdown",
   "id": "cebd35c7-bc2e-4656-a24d-7b498af94537",
   "metadata": {},
   "source": [
    "#### 1.Take the input from the user for(Total number of people,Number of seats for bus. Based on two inputs Decide how many number of buses required\n"
   ]
  },
  {
   "cell_type": "code",
   "execution_count": null,
   "id": "1be808a6-71fa-49cf-af35-c6276fd0988b",
   "metadata": {},
   "outputs": [],
   "source": [
    "No_of_seats = int(input('seats'))\n",
    "No_of_people = int(input('people'))\n",
    "no_of_buses_needed = No_of_people // No_of_seats\n",
    "print(no_of_buses_needed)"
   ]
  },
  {
   "cell_type": "markdown",
   "id": "d2dd525f-e703-4d18-9d8c-2f0d6d8fa39a",
   "metadata": {},
   "source": [
    "#### 2. take temperature from the user and convert foreign heat -> Celsius.\n"
   ]
  },
  {
   "cell_type": "code",
   "execution_count": null,
   "id": "b09744e0-2952-4b14-b111-2bf06178cf30",
   "metadata": {},
   "outputs": [],
   "source": [
    "foriegnheat=float(97.5)\n",
    "celsius= (foriegnheat-32)*5/9\n",
    "print(f\"Temperature in Celsius: {celsius:.2f}°C\")"
   ]
  },
  {
   "cell_type": "markdown",
   "id": "5574bdeb-cbe9-4665-988f-a098441366a1",
   "metadata": {},
   "source": [
    "#### 3. Take temperature from the user and convert Celsius → foreign heat\n"
   ]
  },
  {
   "cell_type": "code",
   "execution_count": null,
   "id": "e2c6bc68-7001-4155-bd1d-424f1ec7f140",
   "metadata": {},
   "outputs": [],
   "source": [
    "celusis = float(37.59)\n",
    "foriegnheat = (celsius * 9 / 5) + 32\n",
    "print(f\"temperature in foriegnheat: {foriegnheat:.2f}°F\")"
   ]
  },
  {
   "cell_type": "markdown",
   "id": "c4e2386d-f4e3-4271-8f05-eaed655fb18a",
   "metadata": {},
   "source": [
    "### 4 take four number from the user (variables name it as x1,x2,x3,x4)  Do the below operations (x1+x2)**2, (x3+x4)**3\n",
    "variance\n",
    " standard deviation: sqrt(variance):  User math module. Math.sqrt(variance)\n",
    " Regression\n",
    " \ty=mx+b\n",
    "          m=1.23\n",
    "         b=0.045\n",
    "          find out y\n",
    "        y=m*(x1+x2+x3+x4)+b\n",
    "   Find the average of four numbers Find the sum of four numbers"
   ]
  },
  {
   "cell_type": "code",
   "execution_count": null,
   "id": "6bd7d6e5-8887-43aa-8c82-8f851eba29ed",
   "metadata": {},
   "outputs": [],
   "source": [
    "import math \n",
    "x1 = int(input(\"Enter the value of x1: \"))\n",
    "x2 = int(input(\"Enter the value of x2: \"))\n",
    "x3 = int(input(\"Enter the value of x3: \"))\n",
    "x4 = int(input(\"Enter the value of x4: \"))\n",
    "\n",
    "# Calculating the expressions\n",
    "result1 = (x1 + x2) ** 2\n",
    "result2 = (x3 + x4) ** 3\n",
    "\n",
    "# Printing the results\n",
    "print(\"The result of (x1 + x2)^2 is:\", result1)\n",
    "print(\"The result of (x3 + x4)^3 is:\", result2)\n",
    "\n",
    "### mean value \n",
    "mean = (x1 + x2+ x3 + x4 )//4 \n",
    "print(mean)\n",
    "## Squared Differences\n",
    "numbers = (x1 , x2, x3 , x4 )\n",
    "sum_sqd_numbers = 0\n",
    "sqd_numbers = []\n",
    "for i in numbers:\n",
    "    sqd = (i - mean) ** 2\n",
    "    sum_sqd_numbers += sqd\n",
    "    sqd_numbers.append(sqd)\n",
    "variance = sum_sqd_numbers/(4-1)\n",
    "print(\" variance : \",variance)    \n",
    "# standard deviationRegression\n",
    "std_dev = math.sqrt(variance)\n",
    "#print(std_dev)\n",
    "# Regression\n",
    "\n",
    "## y=mx+b\n",
    "m=1.23\n",
    "b=0.045\n",
    "y  =  m * (x1+x2+x3+x4) +b\n",
    "print(\"regression : \", y)\n",
    "print(\"standard deviationRegression : \",std_dev)\n",
    "print(\"average of four numbers : \",mean)\n",
    "print(\"sum of 4 numbers : \",(x1+x2+x3+x4))\n",
    "\n"
   ]
  },
  {
   "cell_type": "markdown",
   "id": "4b002907-1ad0-4873-9089-82cc9df97c4d",
   "metadata": {},
   "source": [
    "#### 5.Take the distance in km Show that in cm, meters, in milli meters, cents, feets, yards\n"
   ]
  },
  {
   "cell_type": "code",
   "execution_count": null,
   "id": "d1e72494-b3b5-42f0-8165-03ef56044d3a",
   "metadata": {},
   "outputs": [],
   "source": [
    "kilometers = int(input(\"Enter the value in Kms:\"))\n",
    "meters = kilometers * 1000\n",
    "centimeters = kilometers * 100000\n",
    "millimeters = kilometers * 1000000\n",
    "feet = kilometers * 3280.84  # feet\n",
    "yards = kilometers * 1093.61  # yards\n",
    "cents = kilometers * 247.105  # cents (land area)\n",
    "print(\"meters\",meters)\n",
    "print(\"centimeters\",centimeters)\n",
    "print(\"millimeters\",millimeters)\n",
    "print(\"feet\",feet)\n",
    "print(\"yards\",yards)\n",
    "print(\"cents\",cents)"
   ]
  },
  {
   "cell_type": "markdown",
   "id": "405e4b48-9138-47e0-aaed-e72dcd6fe8b0",
   "metadata": {},
   "source": [
    "#### 6.Take the size of your hard disk in GB Show that in MB, KB, TB, PB\n"
   ]
  },
  {
   "cell_type": "code",
   "execution_count": null,
   "id": "89d07eea-4eef-47d2-84c1-d2ac281093ae",
   "metadata": {},
   "outputs": [],
   "source": [
    "GB = int(input(\"enter a gb value\"))\n",
    "MB = GB*1024\n",
    "KB = GB*1024*1024\n",
    "TB=GB/1024\n",
    "PB=GB/(1024*1024)\n",
    "print(MB)\n",
    "print(KB)\n",
    "print(TB)\n",
    "print(PB)"
   ]
  },
  {
   "cell_type": "markdown",
   "id": "0e305ed8-0bb0-408c-87b2-6ab7304e272f",
   "metadata": {},
   "source": [
    "#### 7.  Take name, age, height from the user and print like below The details of the person: Name:name of the person, Age:age of the person, Height:height of the person"
   ]
  },
  {
   "cell_type": "code",
   "execution_count": null,
   "id": "76ba644a-01fd-4d63-b820-54b60212a8af",
   "metadata": {},
   "outputs": [],
   "source": [
    "#Note: make sure that no space between : and a value and should be space after “COMA”\n",
    "name = \"Jayaram\"\n",
    "age = 1.6\n",
    "height = 3.5356234\n",
    "weight = 10.343856783\n",
    "\n",
    "print(\"Name: %s, Age: %.1f, Height: %.2f, Weight: %.3f\" % (name, age, height, weight))\n"
   ]
  },
  {
   "cell_type": "markdown",
   "id": "c89b557a-1719-48d9-8982-60a90ab84402",
   "metadata": {},
   "source": [
    "#### 8. BMI calculation: take required parameters for BMI calculation from the user and calculate BMI of the person\n"
   ]
  },
  {
   "cell_type": "code",
   "execution_count": null,
   "id": "00b0b521-ee29-407c-8f27-ae902c454f7d",
   "metadata": {},
   "outputs": [],
   "source": [
    "weight = float(input(\"enter weight:\"))\n",
    "height = float(input(\"enter height:\"))\n",
    "bmi = weight / (height ** 2)\n",
    "print(\"bmi\",bmi)"
   ]
  },
  {
   "cell_type": "raw",
   "id": "d6c284ba-08f5-4d61-a214-95aec9b3caea",
   "metadata": {},
   "source": [
    "#### 9. name=\"Jayaram\"\n",
    "age=1.6\n",
    "height=3.5356234\n",
    "weight=10.343856783\n",
    "By using above inputs print the output\n"
   ]
  },
  {
   "cell_type": "code",
   "execution_count": null,
   "id": "502a6d26-e94f-45a7-b4d1-14a33c991c1b",
   "metadata": {},
   "outputs": [],
   "source": [
    "Name = str(input(\"Enter a name:\"))\n",
    "age = float(input(\"enter your age:\"))\n",
    "height = float(input(\"enter your height:\"))\n",
    "weight = float(input(\"enter your weight:\"))\n",
    "print(\"Name:%s, age:%f, height:%f, weight:%f\"%(Name,age,height,weight))"
   ]
  },
  {
   "cell_type": "markdown",
   "id": "9f7975e7-48bf-4cf3-9072-1f56235e5b3e",
   "metadata": {},
   "source": [
    "#### 10. Take three upper case letters from the user convert in to small case."
   ]
  },
  {
   "cell_type": "code",
   "execution_count": null,
   "id": "ac5712cc-7bba-49db-ae5c-c2f4aaab26ad",
   "metadata": {},
   "outputs": [],
   "source": [
    "letter1 = input(\"Enter the first uppercase letter: \")\n",
    "letter2 = input(\"Enter the second uppercase letter: \")\n",
    "letter3 = input(\"Enter the third uppercase letter: \")\n",
    "lowercase1 = chr(ord(letter1) + 32)\n",
    "lowercase2 = chr(ord(letter2) + 32)\n",
    "lowercase3 = chr(ord(letter3) + 32)\n",
    "\n",
    "\n",
    "print(f\"Lowercase letters: {lowercase1}, {lowercase2}, {lowercase3}\")\n"
   ]
  },
  {
   "cell_type": "markdown",
   "id": "39b2378b-d9bf-4ecc-bb37-170498777ad5",
   "metadata": {},
   "source": [
    "#### 11. take base and exponent value from the user and print like in mathematics:\n",
    "####   example: base=2, exponent=3: 23\n",
    "#### Use: 2\\u00b3"
   ]
  },
  {
   "cell_type": "code",
   "execution_count": null,
   "id": "dfd9b392-acb3-4a69-9e7e-b620b5548407",
   "metadata": {},
   "outputs": [],
   "source": [
    "\n",
    "base = int(input(\"Enter the base: \"))\n",
    "exponent = int(input(\"Enter the exponent: \"))\n",
    "\n",
    "# Convert exponent to superscript using Unicode\n",
    "superscripts = {\n",
    "    '0': '\\u2070', '1': '\\u00b9', '2': '\\u00b2', '3': '\\u00b3', \n",
    "    '4': '\\u2074', '5': '\\u2075', '6': '\\u2076', '7': '\\u2077', \n",
    "    '8': '\\u2078', '9': '\\u2079'\n",
    "}\n",
    "exponent_str = ''.join(superscripts[digit] for digit in str(exponent))\n",
    "\n",
    "# Display the result in the mathematical format\n",
    "print(f\"{base}{exponent_str}\")\n"
   ]
  },
  {
   "cell_type": "markdown",
   "id": "69127a9d-030d-40e2-aa12-345b9c5c3a70",
   "metadata": {},
   "source": [
    "#### 12.Take some groceries cost prices and print total cost and average cost, what is the max cost, what is the minimum cost.\n"
   ]
  },
  {
   "cell_type": "code",
   "execution_count": null,
   "id": "49d15e45-ada3-4644-a2f7-b97760fc3c76",
   "metadata": {},
   "outputs": [],
   "source": [
    "groceries = [10,57,45,38]\n",
    "print(\"max:\",max(groceries))\n",
    "print(\"min:\",min(groceries))\n",
    "groceries_sum=sum(groceries)\n",
    "print(\"sum:\",groceries_sum,)\n",
    "count_groceries=len(groceries)\n",
    "print(\"count:\",count_groceries,)\n",
    "avg = groceries_sum / count_groceries\n",
    "print(\"avg:\",avg)\n"
   ]
  },
  {
   "cell_type": "markdown",
   "id": "bdb54905-96fe-4c00-9274-4924eed997cf",
   "metadata": {},
   "source": [
    "### 13. Take the input from the user for(Total number of people, total number of buses, Number of seats for bus, adjust factor). Based on four inputs\n",
    "Decide whether there is sufficient buses or not and give solution for how many extra buses required.\r\n",
    "\n"
   ]
  },
  {
   "cell_type": "code",
   "execution_count": null,
   "id": "527e7e56-f153-453a-87f2-9840194c20f5",
   "metadata": {},
   "outputs": [],
   "source": [
    "number_of_people = int(input(\"enter number of people :\"))\n",
    "number_of_buses = int(input(\"enter number of buses:\"))\n",
    "number_of_seats = int(input(\"enter number of seats:\"))\n",
    "number_of_adjust_factor = int(input(\"enter number of adjust factor :\"))\n",
    "total_seats = (number_of_buses*number_of_seats)-(number_of_buses*number_of_adjust_factor)\n",
    "if total_seats >= number_of_people:\n",
    "    print(\"suffient buses\")\n",
    "else:\n",
    "    required_seats = number_of_people-number_of_seats\n",
    "    needed_buses = required_seats/(number_of_seats*number_of_adjust_factor)\n",
    "    \n",
    "\n",
    "\n"
   ]
  },
  {
   "cell_type": "markdown",
   "id": "a817bb43-20b4-4489-96d5-4540c7baa82e",
   "metadata": {},
   "source": [
    "### 14.Take number from the user decide whether it is even or odd."
   ]
  },
  {
   "cell_type": "code",
   "execution_count": 3,
   "id": "ab6eeeef-f24f-4d50-8d29-1fe4e8af3868",
   "metadata": {},
   "outputs": [
    {
     "name": "stdin",
     "output_type": "stream",
     "text": [
      "Enter a number:  52\n"
     ]
    },
    {
     "name": "stdout",
     "output_type": "stream",
     "text": [
      "52 is an even number.\n"
     ]
    }
   ],
   "source": [
    "number = int(input(\"Enter a number: \"))\n",
    "if number % 2 == 0:\n",
    "    print(f\"{number} is an even number.\")\n",
    "else:\n",
    "    print(f\"{number} is an odd number.\")"
   ]
  },
  {
   "cell_type": "markdown",
   "id": "227b9459-6d97-4f96-bc54-c2d1b2b7486b",
   "metadata": {},
   "source": [
    "### 15.take number from the user decide whether it is positive number or negative number"
   ]
  },
  {
   "cell_type": "code",
   "execution_count": 13,
   "id": "1db4dff9-339d-4349-b214-172b5695292b",
   "metadata": {},
   "outputs": [
    {
     "name": "stdin",
     "output_type": "stream",
     "text": [
      "Enter a number:  85\n"
     ]
    },
    {
     "name": "stdout",
     "output_type": "stream",
     "text": [
      "85.0 is a positive number.\n"
     ]
    }
   ],
   "source": [
    "num = float(input(\"Enter a number: \"))\n",
    "if num > 0:\n",
    "    print(f\"{num} is a positive number.\")\n",
    "elif number < 0:\n",
    "    print(f\"{num} is a negative number.\")\n",
    "else:\n",
    "    print(\"The number is zero.\")\n"
   ]
  },
  {
   "cell_type": "markdown",
   "id": "31693af9-8cb9-4e9f-8cd2-c9f3d0f48f0d",
   "metadata": {},
   "source": [
    "### 16.take a string from the user print the length. if the user not given anything then show an error message"
   ]
  },
  {
   "cell_type": "code",
   "execution_count": 19,
   "id": "3f36d40c-e9c6-47b1-b282-3f8764a89cfc",
   "metadata": {},
   "outputs": [
    {
     "name": "stdin",
     "output_type": "stream",
     "text": [
      "Enter a string:  \n"
     ]
    },
    {
     "name": "stdout",
     "output_type": "stream",
     "text": [
      "Error: no input.\n"
     ]
    }
   ],
   "source": [
    "user_input = input(\"Enter a string: \")\n",
    "if user_input:\n",
    "    print(f\"The length of the string is {len(user_input)} characters.\")\n",
    "else:\n",
    "    print(\"Error: no input.\")\n"
   ]
  },
  {
   "cell_type": "markdown",
   "id": "6a1f498c-528e-410e-a43e-78b21a818f52",
   "metadata": {},
   "source": [
    "### 17.code to perform mathematical operations. take two numbers from the user and show the below menu\n",
    "\t1. add,\n",
    "\t2. sub,\t\n",
    "\t3. mul,\n",
    " \t4.div, \n",
    "\t5.quit\n",
    "\tEnter an option:\n",
    "\t\tbased on the option need to perform an operations\n"
   ]
  },
  {
   "cell_type": "code",
   "execution_count": 1,
   "id": "83003301-75b4-4b6d-b46c-071657415957",
   "metadata": {},
   "outputs": [
    {
     "name": "stdout",
     "output_type": "stream",
     "text": [
      "1.add\n",
      "2.sub\n",
      "3.mul\n",
      "4.division\n"
     ]
    },
    {
     "name": "stdin",
     "output_type": "stream",
     "text": [
      "Enter a option 4\n"
     ]
    },
    {
     "name": "stdout",
     "output_type": "stream",
     "text": [
      "0.5\n",
      "Thank you\n"
     ]
    }
   ],
   "source": [
    "a= 1000\n",
    "b=2000\n",
    "print(\"1.add\\n2.sub\\n3.mul\\n4.division\")\n",
    "opt = input(\"Enter a option\")\n",
    "if opt ==\"1\":\n",
    "    print(a+b)\n",
    "if opt ==\"2\":\n",
    "    print(a-b)\n",
    "if opt ==\"3\":\n",
    "    print(a*b)\n",
    "if opt ==\"4\":\n",
    "    print(a/b)\n",
    "else:\n",
    "    print(\"Enter a valid option\")\n",
    "print(\"Thank you\")"
   ]
  },
  {
   "cell_type": "markdown",
   "id": "ca1b8077-a073-48cf-8afb-1ad14c399fa9",
   "metadata": {},
   "source": [
    "### 18. show the menu:\n",
    "   \t\t 1. kids\n",
    "    \t\t2. Men's\n",
    "   \t\t 3. Women's\n",
    "    \t\tShow the corresponding message based on the selection.\n",
    "\t\tOption:1: you are a kid\n",
    "                                           2: you are a gentlemen\n",
    "                                            3: you are a good women\n",
    "\n",
    " Mention error message if the option value >3.\n"
   ]
  },
  {
   "cell_type": "code",
   "execution_count": 9,
   "id": "8c62d84a-e24c-499a-8177-e14395671fc5",
   "metadata": {},
   "outputs": [
    {
     "name": "stdout",
     "output_type": "stream",
     "text": [
      "Select an option:\n",
      "1. Kids\n",
      "2. Men's\n",
      "3. Women's\n"
     ]
    },
    {
     "name": "stdin",
     "output_type": "stream",
     "text": [
      "Enter your option (1-3):  4\n"
     ]
    },
    {
     "name": "stdout",
     "output_type": "stream",
     "text": [
      "Error: Invalid option! Please select a value between 1 and 3.\n"
     ]
    }
   ],
   "source": [
    "print(\"Select an option:\")\n",
    "print(\"1. Kids\")\n",
    "print(\"2. Men's\")\n",
    "print(\"3. Women's\")\n",
    "option = int(input(\"Enter your option (1-3): \"))\n",
    "if option == 1:\n",
    "    print(\"You are a kid\")\n",
    "elif option == 2:\n",
    "    print(\"You are a gentleman\")\n",
    "elif option == 3:\n",
    "    print(\"You are a good woman\")\n",
    "else:\n",
    "    print(\"Error: Invalid option! Please select a value between 1 and 3.\")\n"
   ]
  },
  {
   "cell_type": "markdown",
   "id": "23f74b18-5d71-4b5b-941d-e9706a5d74bd",
   "metadata": {},
   "source": [
    "### 19. write a program to chcek given substring is there in actual string or not?\n",
    "example: act=\"python is a pure object oriented programing language\"\n",
    "check whether “pure” is there in act or not.\n",
    "Note: Use in operator\n"
   ]
  },
  {
   "cell_type": "code",
   "execution_count": 13,
   "id": "5e6da26c-af9b-4e16-8ce5-2121e104bddf",
   "metadata": {},
   "outputs": [
    {
     "name": "stdout",
     "output_type": "stream",
     "text": [
      "The substring \"pure\" is present in the actual string.\n"
     ]
    }
   ],
   "source": [
    "act = \"python is a pure object oriented programming language\"\n",
    "substring = \"pure\"\n",
    "if substring in act:\n",
    "    print(f'The substring \"{substring}\" is present in the actual string.')\n",
    "else:\n",
    "    print(f'The substring \"{substring}\" is not present in the actual string.')\n"
   ]
  },
  {
   "cell_type": "markdown",
   "id": "7254c232-3a5a-4de7-9975-8dac7838e44e",
   "metadata": {},
   "source": [
    "### 20 Take three numbers from the user and decide which is big"
   ]
  },
  {
   "cell_type": "code",
   "execution_count": 18,
   "id": "e3f90bee-9cd8-4568-84ae-902f08206193",
   "metadata": {},
   "outputs": [
    {
     "name": "stdin",
     "output_type": "stream",
     "text": [
      "Enter the first number:  5\n",
      "Enter the second number:  9\n",
      "Enter the third number:  2\n"
     ]
    },
    {
     "name": "stdout",
     "output_type": "stream",
     "text": [
      "The largest number is: 9.0\n"
     ]
    }
   ],
   "source": [
    "num1 = float(input(\"Enter the first number: \"))\n",
    "num2 = float(input(\"Enter the second number: \"))\n",
    "num3 = float(input(\"Enter the third number: \"))\n",
    "if num1 >= num2 and num1 >= num3:\n",
    "    print(f\"The largest number is: {num1}\")\n",
    "elif num2 >= num1 and num2 >= num3:\n",
    "    print(f\"The largest number is: {num2}\")\n",
    "else:\n",
    "    print(f\"The largest number is: {num3}\")\n"
   ]
  },
  {
   "cell_type": "markdown",
   "id": "35fff288-89ab-4a7b-89c5-e11cf5573b4a",
   "metadata": {},
   "source": [
    "### 21. Take age and gender from the user and decide whether he is eligible for \tmarriage in India or not.\n",
    "Age criteria: men age>24, women>21\n"
   ]
  },
  {
   "cell_type": "code",
   "execution_count": 28,
   "id": "e8adad4f-76eb-4cc7-9af7-6a551fbb5b4c",
   "metadata": {},
   "outputs": [
    {
     "name": "stdin",
     "output_type": "stream",
     "text": [
      "Enter your age:  21\n",
      "Enter your gender (male/female):  female\n"
     ]
    },
    {
     "name": "stdout",
     "output_type": "stream",
     "text": [
      "Not eligible for marriage in India.\n"
     ]
    }
   ],
   "source": [
    "age = int(input(\"Enter your age: \"))\n",
    "gender = input(\"Enter your gender (male/female): \")\n",
    "if gender == 'male':\n",
    "        if age > 24:\n",
    "            print(\"Eligible for marriage in India.\")\n",
    "            \n",
    "        else:\n",
    "             print(\"Not eligible for marriage in India.\")\n",
    "if gender == 'female':\n",
    "        if age > 21:\n",
    "            print(\"Eligible for marriage in India.\")\n",
    "        else:\n",
    "            print(\"Not eligible for marriage in India.\")\n",
    "else:\n",
    "     print(\"Invalid gender input. Please enter 'male' or 'female'.\")\n"
   ]
  },
  {
   "cell_type": "markdown",
   "id": "13664cd4-a963-4df9-b54f-36533eeb2b65",
   "metadata": {},
   "source": [
    "### 22. Take an age  and gender from the user: and mention that what he/she can \tdo in india.\n",
    "\t\"\"\"\n",
    "\t\tconditions\n",
    "1. Theatre: 5 for men 7 for women\n",
    "    \t2. Voting system: 18 for men and women\n",
    "    \t3. Marriage in india: 23 for men and for women >21\n",
    "    \t4. For govt jobs: (min:18, max:32)  for men and (min:18, max:34) for \twomen\n",
    "   \t \t5. For driving licence: (min:18, max:60) for men and women\n",
    "\tEligibility:\n",
    "   \t\t1. theatre\n",
    "\t\t\t2.  Voting system\n",
    "\t\t\t3.  Marriage in india\n",
    "\t\t\t4.  For govt obs\n",
    "\t\t\t5. For driving licence:\n",
    "\tEnter an option:\n",
    "\t\tGender:\n",
    "\t\t\t1. men\n",
    "\t\t\t2. women\n",
    "\tEnter an option:\n",
    "\t\tEnter an age of person:\n"
   ]
  },
  {
   "cell_type": "code",
   "execution_count": 3,
   "id": "db8fc1c7-94c2-4bd4-9f71-cc9bdc58bdf4",
   "metadata": {},
   "outputs": [
    {
     "name": "stdout",
     "output_type": "stream",
     "text": [
      "Eligibility:\n",
      "\t1. Theatre\n",
      "\t2. Voting system\n",
      "\t3. Marriage in India\n",
      "\t4. Government jobs\n",
      "\t5. Driving license\n"
     ]
    },
    {
     "name": "stdin",
     "output_type": "stream",
     "text": [
      "Enter the option (1-5):  4\n"
     ]
    },
    {
     "name": "stdout",
     "output_type": "stream",
     "text": [
      "Gender:\n",
      "\t1. Men\n",
      "\t2. Women\n"
     ]
    },
    {
     "name": "stdin",
     "output_type": "stream",
     "text": [
      "Enter the gender option (1-2):  1\n",
      "Enter the age of the person:  22\n"
     ]
    },
    {
     "name": "stdout",
     "output_type": "stream",
     "text": [
      "Eligible for government jobs in India.\n"
     ]
    }
   ],
   "source": [
    "# Display options to the user\n",
    "print(\"Eligibility:\\n\\t1. Theatre\\n\\t2. Voting system\\n\\t3. Marriage in India\\n\\t4. Government jobs\\n\\t5. Driving license\")\n",
    "\n",
    "# Get user input for options and details\n",
    "option = input(\"Enter the option (1-5): \")\n",
    "print(\"Gender:\\n\\t1. Men\\n\\t2. Women\")\n",
    "gender_option = input(\"Enter the gender option (1-2): \")\n",
    "age = int(input(\"Enter the age of the person: \"))\n",
    "\n",
    "# Check eligibility based on gender and option\n",
    "if gender_option == '1':  # Men\n",
    "    if option == '1' and age >= 5:\n",
    "        print(\"Eligible for theatre in India.\")\n",
    "    elif option == '2' and age >= 18:\n",
    "        print(\"Eligible for voting in India.\")\n",
    "    elif option == '3' and age >= 23:\n",
    "        print(\"Eligible for marriage in India.\")\n",
    "    elif option == '4' and 18 <= age <= 32:\n",
    "        print(\"Eligible for government jobs in India.\")\n",
    "    elif option == '5' and 18 <= age <= 60:\n",
    "        print(\"Eligible for a driving license in India.\")\n",
    "    else:\n",
    "        print(\"Not eligible or invalid option.\")\n",
    "\n",
    "elif gender_option == '2':  # Women\n",
    "    if option == '1' and age >= 7:\n",
    "        print(\"Eligible for theatre in India.\")\n",
    "    elif option == '2' and age >= 18:\n",
    "        print(\"Eligible for voting in India.\")\n",
    "    elif option == '3' and age > 21:\n",
    "        print(\"Eligible for marriage in India.\")\n",
    "    elif option == '4' and 18 <= age <= 34:\n",
    "        print(\"Eligible for government jobs in India.\")\n",
    "    elif option == '5' and 18 <= age <= 60:\n",
    "        print(\"Eligible for a driving license in India.\")\n",
    "    else:\n",
    "        print(\"Not eligible or invalid option.\")\n",
    "\n",
    "else: \n",
    "    print(\"Invalid gender option. Please enter 1 for Men or 2 for Women.\")"
   ]
  },
  {
   "cell_type": "code",
   "execution_count": 5,
   "id": "26b89ab7-0eae-4c5c-9856-431aee065789",
   "metadata": {},
   "outputs": [
    {
     "name": "stdout",
     "output_type": "stream",
     "text": [
      "Eligibility:\n",
      "\t1. Theatre\n",
      "\t2. Voting system\n",
      "\t3. Marriage in India\n",
      "\t4. Government jobs\n",
      "\t5. Driving license\n"
     ]
    },
    {
     "name": "stdin",
     "output_type": "stream",
     "text": [
      "Enter the option (1-5):  5\n"
     ]
    },
    {
     "name": "stdout",
     "output_type": "stream",
     "text": [
      "Gender:\n",
      "\t1. Men\n",
      "\t2. Women\n"
     ]
    },
    {
     "name": "stdin",
     "output_type": "stream",
     "text": [
      "Enter the gender option (1-2):  2\n",
      "Enter the age of the person:  18\n"
     ]
    },
    {
     "name": "stdout",
     "output_type": "stream",
     "text": [
      "Eligible for driving license in India\n"
     ]
    }
   ],
   "source": [
    "# Display options to the user\n",
    "print(\"Eligibility:\\n\\t1. Theatre\\n\\t2. Voting system\\n\\t3. Marriage in India\\n\\t4. Government jobs\\n\\t5. Driving license\")\n",
    "\n",
    "# Get user input for options and details\n",
    "option = input(\"Enter the option (1-5): \")\n",
    "print(\"Gender:\\n\\t1. Men\\n\\t2. Women\")\n",
    "gender_option = input(\"Enter the gender option (1-2): \")\n",
    "age = int(input(\"Enter the age of the person: \"))\n",
    "\n",
    "# checking based on option and gender\n",
    "if option == '1' :\n",
    "    if gender_option == '1' and age>=5:\n",
    "        print(\"Eligible for going to theatre in India\")\n",
    "    elif gender_option == '2' and age>=7:\n",
    "        print(\"Eligible for going to theatre in India\")\n",
    "    else:\n",
    "        print(\"Invalid Gender Option. Please enter 1 for men or 2 for women\")\n",
    "elif option == '2' :\n",
    "    if gender_option == '1' and age>=18:\n",
    "        print(\"Eligible for voting in India\")\n",
    "    elif gender_option == '2' and age>=18:\n",
    "        print(\"Eligible for voting in India\")\n",
    "    else:\n",
    "        print(\"Invalid Gender Option. Please enter 1 for men or 2 for women\")        \n",
    "elif option == '3' :\n",
    "    if gender_option == '1' and age>=23:\n",
    "        print(\"Eligible for marriage in India\")\n",
    "    elif gender_option =='2' and age>21:\n",
    "        print(\"Eligible for marriage in India\")\n",
    "    else:\n",
    "        print(\"Invalid Gender Option. Please enter 1 for men or 2 for women\")   \n",
    "elif option == '4' :\n",
    "    if gender_option == '1' and 18 <= age <= 32:\n",
    "        print(\"Eligible for government jobs in India\")\n",
    "    elif gender_option =='2' and 18 <= age <= 34:\n",
    "        print(\"Eligible for government jobs in India\")\n",
    "    else:\n",
    "        print(\"Invalid Gender Option. Please enter 1 for men or 2 for women\")   \n",
    "elif option == '5' :\n",
    "    if gender_option == '1' and 18 <= age <= 60:\n",
    "        print(\"Eligible for driving license in India\")\n",
    "    elif gender_option =='2' and 18 <= age <= 60:\n",
    "        print(\"Eligible for driving license in India\")\n",
    "    else:\n",
    "        print(\"Invalid Gender Option. Please enter 1 for men or 2 for women\") \n",
    "else:\n",
    "    print(\"Invalid Option\")"
   ]
  },
  {
   "cell_type": "markdown",
   "id": "385d17f8-6742-490a-a1e0-8fa615d028d7",
   "metadata": {},
   "source": [
    "### 23. operating systems:\n",
    "\t1.windows\n",
    "\t2.android\n",
    "\t3.mac\n",
    "Enter an option:\n",
    "\n",
    "If the user enters 1 then show \"Goto first floor and buy windows laptop or mobile\"\n",
    "If the user enters 2 then show \"Goto second floor and buy adroid mobiles\"\n",
    "If the user enters 3 then show \"Goto third floor and buy mac laptop or iphones\"\n",
    "If the user enters other than 1 or 2 or 3 then show \"There is only three floors, please select 1 or 2 or 3\"\n"
   ]
  },
  {
   "cell_type": "code",
   "execution_count": 46,
   "id": "bc96be95-9867-42f6-95a4-71909c5f4b11",
   "metadata": {},
   "outputs": [
    {
     "name": "stdout",
     "output_type": "stream",
     "text": [
      "1. Windows\n",
      "2. Android\n",
      "3. Mac\n"
     ]
    },
    {
     "name": "stdin",
     "output_type": "stream",
     "text": [
      "Enter a option 3\n"
     ]
    },
    {
     "name": "stdout",
     "output_type": "stream",
     "text": [
      "3 <class 'int'>\n",
      "Go to third floor and buy mac laptop or ,iphones\n"
     ]
    }
   ],
   "source": [
    "print(\"1. Windows\")\n",
    "print(\"2. Android\")\n",
    "print(\"3. Mac\")\n",
    "opt = int(input(\"Enter a option\"))\n",
    "print(opt, type(opt))\n",
    "if opt ==1:\n",
    "    print(\"Go to first floor and buy windows laptop or ,mobile\")\n",
    "if opt ==2:\n",
    "    print(\"Go to second floor and buy android mobile\")\n",
    "if opt ==3:\n",
    "    print(\"Go to third floor and buy mac laptop or ,iphones\")"
   ]
  },
  {
   "cell_type": "code",
   "execution_count": 50,
   "id": "0fae285d-952c-4d11-9af1-5bf5fac3cf64",
   "metadata": {},
   "outputs": [
    {
     "name": "stdout",
     "output_type": "stream",
     "text": [
      "1. Windows\n",
      "2. Android\n",
      "3. Mac\n"
     ]
    },
    {
     "name": "stdin",
     "output_type": "stream",
     "text": [
      "Enter a option 2\n"
     ]
    },
    {
     "name": "stdout",
     "output_type": "stream",
     "text": [
      "2 <class 'str'>\n",
      "Go to second floor and buy android mobile\n"
     ]
    }
   ],
   "source": [
    "print(\"1. Windows\")\n",
    "print(\"2. Android\")\n",
    "print(\"3. Mac\")\n",
    "opt = input(\"Enter a option\")\n",
    "print(opt, type(opt))\n",
    "if opt ==\"1\":\n",
    "    print(\"Go to first floor and buy windows laptop or ,mobile\")\n",
    "if opt ==\"2\":\n",
    "    print(\"Go to second floor and buy android mobile\")\n",
    "if opt ==\"3\":\n",
    "    print(\"Go to third floor and buy mac laptop or ,iphones\")"
   ]
  },
  {
   "cell_type": "markdown",
   "id": "567065c1-eb46-49f0-9d38-376774fe6722",
   "metadata": {},
   "source": [
    "### 24.Given an age, figure out whether someone's a baby, toddler, child, teenager, adult or old codger."
   ]
  },
  {
   "cell_type": "code",
   "execution_count": 9,
   "id": "f3b4a3f4-98c3-402d-93dd-dd253bb4e234",
   "metadata": {},
   "outputs": [
    {
     "name": "stdout",
     "output_type": "stream",
     "text": [
      "1. baby\n",
      "2. toddler\n",
      "3. child\n",
      "4, teenager\n",
      "5, adult or old codger\n"
     ]
    },
    {
     "name": "stdin",
     "output_type": "stream",
     "text": [
      "Enter a option 3\n"
     ]
    },
    {
     "name": "stdout",
     "output_type": "stream",
     "text": [
      "3\n"
     ]
    },
    {
     "ename": "NameError",
     "evalue": "name 'opt' is not defined",
     "output_type": "error",
     "traceback": [
      "\u001b[1;31m---------------------------------------------------------------------------\u001b[0m",
      "\u001b[1;31mNameError\u001b[0m                                 Traceback (most recent call last)",
      "Cell \u001b[1;32mIn[9], line 10\u001b[0m\n\u001b[0;32m      8\u001b[0m \u001b[38;5;28;01mif\u001b[39;00m opt_age \u001b[38;5;241m==\u001b[39m\u001b[38;5;124m\"\u001b[39m\u001b[38;5;124m1\u001b[39m\u001b[38;5;124m\"\u001b[39m:\n\u001b[0;32m      9\u001b[0m     \u001b[38;5;28mprint\u001b[39m(\u001b[38;5;124m\"\u001b[39m\u001b[38;5;124mGo to first floor and buy windows laptop or ,mobile\u001b[39m\u001b[38;5;124m\"\u001b[39m)\n\u001b[1;32m---> 10\u001b[0m \u001b[38;5;28;01mif\u001b[39;00m opt \u001b[38;5;241m==\u001b[39m\u001b[38;5;124m\"\u001b[39m\u001b[38;5;124m2\u001b[39m\u001b[38;5;124m\"\u001b[39m:\n\u001b[0;32m     11\u001b[0m     \u001b[38;5;28mprint\u001b[39m(\u001b[38;5;124m\"\u001b[39m\u001b[38;5;124mGo to second floor and buy android mobile\u001b[39m\u001b[38;5;124m\"\u001b[39m)\n\u001b[0;32m     12\u001b[0m \u001b[38;5;28;01mif\u001b[39;00m opt \u001b[38;5;241m==\u001b[39m\u001b[38;5;124m\"\u001b[39m\u001b[38;5;124m3\u001b[39m\u001b[38;5;124m\"\u001b[39m:\n",
      "\u001b[1;31mNameError\u001b[0m: name 'opt' is not defined"
     ]
    }
   ],
   "source": [
    "print(\"1. baby\")\n",
    "print(\"2. toddler\")\n",
    "print(\"3. child\")\n",
    "print(\"4, teenager\")\n",
    "print(\"5, adult or old codger\")\n",
    "opt_age = input(\"Enter a option\")\n",
    "print(opt_age)\n",
    "if opt_age ==\"1\":\n",
    "    print(\"Go to first floor and buy windows laptop or ,mobile\")\n",
    "if opt ==\"2\":\n",
    "    print(\"Go to second floor and buy android mobile\")\n",
    "if opt ==\"3\":\n",
    "    print(\"Go to third floor and buy mac laptop or ,iphones\")"
   ]
  },
  {
   "cell_type": "markdown",
   "id": "f32c985a-3cfc-44f0-b698-39eda0f1c8d9",
   "metadata": {},
   "source": [
    "### 25.Take two number a,b from the user and check whether a is divisible by b or not"
   ]
  },
  {
   "cell_type": "code",
   "execution_count": 12,
   "id": "50185744-0c4f-459b-bb82-e468578b960b",
   "metadata": {},
   "outputs": [
    {
     "name": "stdin",
     "output_type": "stream",
     "text": [
      "Enter number a: 5.2\n",
      "Enter number b: 2\n"
     ]
    },
    {
     "name": "stdout",
     "output_type": "stream",
     "text": [
      "5.2 is not divisible by 2.0\n"
     ]
    }
   ],
   "source": [
    "a = input(\"Enter number a:\")\n",
    "b= input(\"Enter number b:\")\n",
    "a = float(a)\n",
    "b = float(b)\n",
    "if a%b == 0:\n",
    "    print(f\"{a} is divisible by {b}\")\n",
    "else:\n",
    "    print(f\"{a} is not divisible by {b}\")"
   ]
  },
  {
   "cell_type": "markdown",
   "id": "f082e249-e1ea-4363-8a8d-2926ec0f9c18",
   "metadata": {},
   "source": [
    "### 26. Take a letter from the user and print that letter belongs to which category I.e is it a small letter or capital letter or number or special symbol"
   ]
  },
  {
   "cell_type": "code",
   "execution_count": 17,
   "id": "a19278e5-3be4-46df-85cd-040df39d6611",
   "metadata": {},
   "outputs": [
    {
     "name": "stdin",
     "output_type": "stream",
     "text": [
      "Enter a character:  a\n"
     ]
    },
    {
     "name": "stdout",
     "output_type": "stream",
     "text": [
      "The given character is a small letter\n"
     ]
    }
   ],
   "source": [
    "character = input(\"Enter a character: \")\n",
    "\n",
    "ascii_value = ord(character)\n",
    "\n",
    "if (32 <= ascii_value <= 47) or (58 <= ascii_value <= 64) or (91 <= ascii_value <= 96) or (123 <= ascii_value <= 126):\n",
    "    print(\"The given character is a special symbol\")\n",
    "\n",
    "elif 48 <= ascii_value <= 57:\n",
    "    print(\"The given character is a number\")\n",
    "\n",
    "elif 65 <= ascii_value <= 90:\n",
    "    print(\"The given character is a capital letter\")\n",
    "\n",
    "elif 97 <= ascii_value <= 122:\n",
    "    print(\"The given character is a small letter\")\n",
    "else:\n",
    "    print(\"Invalid input\")"
   ]
  },
  {
   "cell_type": "markdown",
   "id": "6fee30d2-76e3-4630-887b-1899f8c05648",
   "metadata": {},
   "source": [
    "### 25. take a number from the user and check whether it is prime?"
   ]
  },
  {
   "cell_type": "code",
   "execution_count": 1,
   "id": "24805657-31a5-452e-be19-576daedd799e",
   "metadata": {},
   "outputs": [
    {
     "name": "stdin",
     "output_type": "stream",
     "text": [
      " Enter a value 5\n"
     ]
    },
    {
     "name": "stdout",
     "output_type": "stream",
     "text": [
      "not prime\n",
      "5\n"
     ]
    }
   ],
   "source": [
    "num = int(input(\" Enter a value\"))\n",
    "print(f\"prime number\" if num<=1  else \"not prime\")\n",
    "print(num)"
   ]
  },
  {
   "cell_type": "markdown",
   "id": "bd9aeffe-2d7e-45ac-bd72-da106bd2a6ea",
   "metadata": {},
   "source": [
    "### 26. take a string from the user and check contains only digits or not?"
   ]
  },
  {
   "cell_type": "code",
   "execution_count": 11,
   "id": "8303857f-dc0d-4317-84a2-0e1e01a1e2e1",
   "metadata": {},
   "outputs": [
    {
     "name": "stdin",
     "output_type": "stream",
     "text": [
      "Enter a avalue 123\n"
     ]
    },
    {
     "name": "stdout",
     "output_type": "stream",
     "text": [
      "The string is a digit \n",
      "The string is a digit \n",
      "The string is a digit \n"
     ]
    }
   ],
   "source": [
    "value = input(\"Enter a avalue\")\n",
    "for char in value:\n",
    "    if 48 <= ord((char)) <= 57:\n",
    "        print(\"The string is a digit \")\n",
    "    else:\n",
    "        print(\" not a digit\")"
   ]
  },
  {
   "cell_type": "code",
   "execution_count": 13,
   "id": "68f6575e-1ba8-4c9e-815c-eea9e5869271",
   "metadata": {},
   "outputs": [
    {
     "name": "stdin",
     "output_type": "stream",
     "text": [
      "Enter a avalue a1@\n"
     ]
    },
    {
     "name": "stdout",
     "output_type": "stream",
     "text": [
      " not a digit\n",
      "The string is a digit \n",
      " not a digit\n"
     ]
    }
   ],
   "source": [
    "value = input(\"Enter a avalue\")\n",
    "for char in value:\n",
    "    if 48 <= ord((char)) <= 57:\n",
    "        print(\"The string is a digit \")\n",
    "    else:\n",
    "        print(\" not a digit\")"
   ]
  },
  {
   "cell_type": "markdown",
   "id": "11cf41b2-47b6-4cec-8da4-50535dfc735a",
   "metadata": {},
   "source": [
    "### 27. take a string from the user and check contains only  alphabets or not?"
   ]
  },
  {
   "cell_type": "code",
   "execution_count": 37,
   "id": "245d697b-4c97-4f21-88b8-2d9c82d6fe51",
   "metadata": {},
   "outputs": [
    {
     "name": "stdin",
     "output_type": "stream",
     "text": [
      "Enter a value sjhaf\n"
     ]
    },
    {
     "name": "stdout",
     "output_type": "stream",
     "text": [
      "The string is a alphabets\n"
     ]
    }
   ],
   "source": [
    "string= input(\"Enter a value\")\n",
    "k = (65 <= ord(char) <= 90 and 97 <= ord(char) <= 122 for char in string)\n",
    "if k:\n",
    "    print(\"The string is a alphabets\")\n",
    "else:\n",
    "    print(\"not a alphabet\")"
   ]
  },
  {
   "cell_type": "code",
   "execution_count": 49,
   "id": "da3d557c-5854-483e-8373-81b670257927",
   "metadata": {},
   "outputs": [
    {
     "name": "stdin",
     "output_type": "stream",
     "text": [
      "Enter a avalue jefd\n"
     ]
    },
    {
     "name": "stdout",
     "output_type": "stream",
     "text": [
      " not a digit\n"
     ]
    }
   ],
   "source": []
  },
  {
   "cell_type": "code",
   "execution_count": 51,
   "id": "c6db4d73-a8e7-452a-b0f0-997b3538a4c1",
   "metadata": {},
   "outputs": [
    {
     "name": "stdin",
     "output_type": "stream",
     "text": [
      "Enter a value:  svsb\n"
     ]
    },
    {
     "name": "stdout",
     "output_type": "stream",
     "text": [
      "'s' is an alphabet.\n",
      "'v' is an alphabet.\n",
      "'s' is an alphabet.\n",
      "'b' is an alphabet.\n"
     ]
    }
   ],
   "source": [
    "value = input(\"Enter a value: \")\n",
    "for char in value:\n",
    "    if 65 <= ord(char) <= 90 or 97 <= ord(char) <= 122:\n",
    "        print(f\"'{char}' is an alphabet.\")\n",
    "    else:\n",
    "        print(f\"'{char}' is not an alphabet.\")\n"
   ]
  },
  {
   "cell_type": "markdown",
   "id": "94915ca0-2078-48d3-842b-a7c192717469",
   "metadata": {},
   "source": [
    "### 28. take a string from the user and check contains only  special chars or not?"
   ]
  },
  {
   "cell_type": "code",
   "execution_count": 58,
   "id": "6be85ac8-4e40-4b2c-a4d9-dd00287fdbf9",
   "metadata": {},
   "outputs": [
    {
     "name": "stdin",
     "output_type": "stream",
     "text": [
      "Enter a value:  @@@gsga\n"
     ]
    },
    {
     "name": "stdout",
     "output_type": "stream",
     "text": [
      "'@' is an special chars.\n",
      "'@' is an special chars.\n",
      "'@' is an special chars.\n",
      "'g' is not an special chars.\n",
      "'s' is not an special chars.\n",
      "'g' is not an special chars.\n",
      "'a' is not an special chars.\n"
     ]
    }
   ],
   "source": [
    "value = input(\"Enter a value: \")\n",
    "for char in value:\n",
    "    if (32 <= ord(char)<= 47) or (58 <=ord(char) <= 64) or (91 <= ord(char) <= 96) or (123 <= ord(char) <= 126):\n",
    "        print(f\"'{char}' is an special chars.\")\n",
    "    else:\n",
    "        print(f\"'{char}' is not an special chars.\")"
   ]
  },
  {
   "cell_type": "markdown",
   "id": "21264753-f35f-4e30-b138-81ac3342f154",
   "metadata": {},
   "source": [
    "### 29.take a string from the user and check contains only  capital letters or not?"
   ]
  },
  {
   "cell_type": "code",
   "execution_count": 61,
   "id": "f74d18b9-5154-4126-9933-10cb2bf4e6fa",
   "metadata": {},
   "outputs": [
    {
     "name": "stdin",
     "output_type": "stream",
     "text": [
      "Enter a value:  GHasnsjn\n"
     ]
    },
    {
     "name": "stdout",
     "output_type": "stream",
     "text": [
      "'G' is an capital.\n",
      "'H' is an capital.\n",
      "'a' is not an capital letter.\n",
      "'s' is not an capital letter.\n",
      "'n' is not an capital letter.\n",
      "'s' is not an capital letter.\n",
      "'j' is not an capital letter.\n",
      "'n' is not an capital letter.\n"
     ]
    }
   ],
   "source": [
    "value = input(\"Enter a value: \")\n",
    "for char in value:\n",
    "    if 65 <= ord(char) <= 90:\n",
    "    \n",
    "        print(f\"'{char}' is an capital.\")\n",
    "    else:\n",
    "        print(f\"'{char}' is not an capital letter.\")"
   ]
  },
  {
   "cell_type": "markdown",
   "id": "24b450e6-e4b9-4554-be2e-c366f69ac532",
   "metadata": {},
   "source": [
    "### 30.take a string from the user and check contains only  small letters or not?"
   ]
  },
  {
   "cell_type": "code",
   "execution_count": 64,
   "id": "cdf42d67-0d20-41ff-8e24-3605e67321db",
   "metadata": {},
   "outputs": [
    {
     "name": "stdin",
     "output_type": "stream",
     "text": [
      "Enter a value:  ashbbGHBHBh\n"
     ]
    },
    {
     "name": "stdout",
     "output_type": "stream",
     "text": [
      "'a' is an small.\n",
      "'s' is an small.\n",
      "'h' is an small.\n",
      "'b' is an small.\n",
      "'b' is an small.\n",
      "'G' is not an small letter.\n",
      "'H' is not an small letter.\n",
      "'B' is not an small letter.\n",
      "'H' is not an small letter.\n",
      "'B' is not an small letter.\n",
      "'h' is an small.\n"
     ]
    }
   ],
   "source": [
    "value = input(\"Enter a value: \")\n",
    "for char in value:\n",
    "    if 97 <= ord(char) <= 122:\n",
    "    \n",
    "        print(f\"'{char}' is an small.\")\n",
    "    else:\n",
    "        print(f\"'{char}' is not an small letter.\")"
   ]
  },
  {
   "cell_type": "markdown",
   "id": "8425e87e-93c6-40d6-8fae-c8e31a4722e3",
   "metadata": {},
   "source": [
    "### 31. WAP to replace last n occurrence of give string.\n",
    "For example:”apple,orange,apple,grape,orange,apple,apple,orange”\n",
    "source: “apple”\n",
    "last occurrences: 2\n",
    "replace with: APPLE\n",
    "output:”apple,orange,apple,grape,orange,APPLE,APPLE,orange”\n"
   ]
  },
  {
   "cell_type": "code",
   "execution_count": null,
   "id": "83fd52ec-6955-4452-a2c7-1a3174d36f98",
   "metadata": {},
   "outputs": [],
   "source": []
  },
  {
   "cell_type": "markdown",
   "id": "6fbe009e-7598-4f95-b68e-f5b0bacf1789",
   "metadata": {},
   "source": [
    "### 32. WAP to check given string contains numbers or not. it should consider float numbers also."
   ]
  },
  {
   "cell_type": "code",
   "execution_count": 7,
   "id": "d7274bfd-e568-46f2-b51d-4e38e214b8ea",
   "metadata": {},
   "outputs": [
    {
     "name": "stdin",
     "output_type": "stream",
     "text": [
      "enter your string: asdjkjans24235.832\n"
     ]
    },
    {
     "name": "stdout",
     "output_type": "stream",
     "text": [
      "given string contains numbers: asdjkjans24235.832\n"
     ]
    }
   ],
   "source": [
    "given_string = input(\"enter your string:\")\n",
    "input = any(48 <= ord(char) <= 57  for char in given_string)\n",
    "if input:\n",
    "    print(\"given string contains numbers:\",given_string)\n",
    "else:\n",
    "    print(\"given string not contains numbers:\",given_string)"
   ]
  },
  {
   "cell_type": "markdown",
   "id": "8ad276e9-e785-48c9-aa43-90582a360571",
   "metadata": {},
   "source": [
    "### 33. Convert the total string in to lower case. Without using lower() function.\n"
   ]
  },
  {
   "cell_type": "code",
   "execution_count": 4,
   "id": "eb87a1d5-b581-4058-9dd1-d1606cb4e9f7",
   "metadata": {},
   "outputs": [
    {
     "name": "stdin",
     "output_type": "stream",
     "text": [
      "Enter your string:  HI \n"
     ]
    },
    {
     "name": "stdout",
     "output_type": "stream",
     "text": [
      " hi \n"
     ]
    }
   ],
   "source": [
    "string = input(\"Enter your string: \")\n",
    "lower_case = ' '\n",
    "for char in string:\n",
    "    if 65 <= ord(char) <= 78:  \n",
    "        lower_case += chr(ord(char) + 32)  \n",
    "    else:\n",
    "        lower_case += char\n",
    "print(lower_case)"
   ]
  },
  {
   "cell_type": "markdown",
   "id": "c5c0f69c-da6a-4f04-afe4-10b8f66670ab",
   "metadata": {},
   "source": [
    "### 34. Convert the total string in to upper case. Without using upper() function."
   ]
  },
  {
   "cell_type": "code",
   "execution_count": 2,
   "id": "c76c58ed-5ecd-47d4-8560-dedbcafb7c46",
   "metadata": {},
   "outputs": [
    {
     "name": "stdin",
     "output_type": "stream",
     "text": [
      " aaAAzz\n"
     ]
    },
    {
     "name": "stdout",
     "output_type": "stream",
     "text": [
      "AAAAZZ\n"
     ]
    }
   ],
   "source": [
    "str1 = input()\n",
    "new_str= \"\"\n",
    "for i in str1:\n",
    "    if 65 <= ord(i) <= 90:\n",
    "        new_str += i\n",
    "    else :\n",
    "        new_str += chr((ord(i))-32)\n",
    "print(new_str)"
   ]
  },
  {
   "cell_type": "markdown",
   "id": "c8e655d0-5d69-4060-a258-f2e6a9e93df4",
   "metadata": {},
   "source": [
    "### 35. Show the below menu to the user until and until user select quit and display corresponding os message"
   ]
  },
  {
   "cell_type": "code",
   "execution_count": 7,
   "id": "22ebde40-b779-4257-9d8d-d8a57cb53656",
   "metadata": {},
   "outputs": [
    {
     "ename": "IndentationError",
     "evalue": "expected an indented block after 'if' statement on line 10 (2842896367.py, line 11)",
     "output_type": "error",
     "traceback": [
      "\u001b[1;36m  Cell \u001b[1;32mIn[7], line 11\u001b[1;36m\u001b[0m\n\u001b[1;33m    print(\"thank you\")\u001b[0m\n\u001b[1;37m    ^\u001b[0m\n\u001b[1;31mIndentationError\u001b[0m\u001b[1;31m:\u001b[0m expected an indented block after 'if' statement on line 10\n"
     ]
    }
   ],
   "source": [
    "def menu():\n",
    "    print(\"Menu:\\n 1.windows\\n 2.Linux\\n 3.mac\\n 4.quit\")\n",
    "    opt = option()\n",
    "    \n",
    "menu()\n",
    "def option():\n",
    "    option = input(\"select an option \")\n",
    "    return option\n",
    "def input():\n",
    "    if opt == \"4\":\n",
    "    print(\"thank you\")\n",
    "    \n",
    "elif opt in [\"1\",\"2\",\"3\"]:\n",
    "    menu()\n",
    "    opt = option()"
   ]
  },
  {
   "cell_type": "markdown",
   "id": "351b32f6-cfe6-4347-affb-6b59afb81aef",
   "metadata": {},
   "source": [
    "### 36. take a string from the user and check contains at least one digit or not?"
   ]
  },
  {
   "cell_type": "code",
   "execution_count": 3,
   "id": "78c36eed-665f-47f7-a162-33a8bf2614fa",
   "metadata": {},
   "outputs": [
    {
     "name": "stdin",
     "output_type": "stream",
     "text": [
      "enter your string: egfw\n"
     ]
    },
    {
     "name": "stdout",
     "output_type": "stream",
     "text": [
      "given string not contains digit: egfw\n"
     ]
    }
   ],
   "source": [
    "given_string = input(\"enter your string:\")\n",
    "k = any(48 <= ord(char) <= 57  for char in given_string)\n",
    "if k:\n",
    "    print(\"given string contains digit:\",given_string)\n",
    "else:\n",
    "    print(\"given string not contains digit:\",given_string)"
   ]
  },
  {
   "cell_type": "markdown",
   "id": "771c1626-52e3-4f3e-8fd0-7ba623f343eb",
   "metadata": {},
   "source": [
    "### 37. take a string from the user and check contains at least one alphabets or not?\n"
   ]
  },
  {
   "cell_type": "code",
   "execution_count": 5,
   "id": "0dceb1e3-89c3-47a0-b7e8-2d93f7573b27",
   "metadata": {},
   "outputs": [
    {
     "name": "stdin",
     "output_type": "stream",
     "text": [
      "enter your string: wgwHG\n"
     ]
    },
    {
     "name": "stdout",
     "output_type": "stream",
     "text": [
      "given string not contains alphabets: wgwHG\n"
     ]
    }
   ],
   "source": [
    "given_string = input(\"enter your string:\")\n",
    "k = any(65 <= ord(char) <= 90 and 97 <= ord(char) <= 122   for char in given_string)\n",
    "if k:\n",
    "    print(\"given string contains alphabets:\",given_string)\n",
    "else:\n",
    "    print(\"given string not contains alphabets:\",given_string)"
   ]
  },
  {
   "cell_type": "markdown",
   "id": "c8488d94-2a15-48fe-882f-58bbcc034faa",
   "metadata": {},
   "source": [
    "### #38  take a string from the user and check contains at least one chars or not?"
   ]
  },
  {
   "cell_type": "code",
   "execution_count": 10,
   "id": "7d934517-16f2-4f19-b344-a5fa23b287e1",
   "metadata": {},
   "outputs": [
    {
     "name": "stdin",
     "output_type": "stream",
     "text": [
      " hiHbja24\n"
     ]
    },
    {
     "name": "stdout",
     "output_type": "stream",
     "text": [
      "Yes it contains chars\n"
     ]
    }
   ],
   "source": [
    "userInput = input()\n",
    "iscontains = False\n",
    "for i in userInput:\n",
    "    if i.isalpha():\n",
    "        iscontains = True\n",
    "        break\n",
    "if(iscontains):\n",
    "    print(\"Yes it contains chars\")\n",
    "else:\n",
    "    print(\"No it doesn't contain chars\")"
   ]
  },
  {
   "cell_type": "markdown",
   "id": "9c893038-7327-4e6d-b18f-4803fefb4485",
   "metadata": {},
   "source": [
    "### 39. take a string from the user and check contains at least one capital letter or not?\n"
   ]
  },
  {
   "cell_type": "code",
   "execution_count": 7,
   "id": "d2799bb3-3f73-4d14-8d89-11b7c79c4029",
   "metadata": {},
   "outputs": [
    {
     "name": "stdin",
     "output_type": "stream",
     "text": [
      "enter your string : HUqefjn\n"
     ]
    },
    {
     "name": "stdout",
     "output_type": "stream",
     "text": [
      "given string contains capital letter: HUqefjn\n"
     ]
    }
   ],
   "source": [
    "given_string = input(\"enter your string :\")\n",
    "k = any(65 <=ord(char) <=90 for char in given_string)\n",
    "if k :\n",
    "    print (\"given string contains capital letter:\",given_string)\n",
    "else:\n",
    "    print(\"given string contains not a capital letter:\",given_string)"
   ]
  },
  {
   "cell_type": "markdown",
   "id": "d86e5feb-c8c6-4916-b6f5-ce27ed9f9273",
   "metadata": {},
   "source": [
    "### 40. take a string from the user and check contains at least one small letter or not?\n"
   ]
  },
  {
   "cell_type": "code",
   "execution_count": 9,
   "id": "9d4b34fb-b58b-47f8-950b-5f47f322bf67",
   "metadata": {},
   "outputs": [
    {
     "name": "stdin",
     "output_type": "stream",
     "text": [
      "enter your string: wejguHHJH\n"
     ]
    },
    {
     "name": "stdout",
     "output_type": "stream",
     "text": [
      "given string contains small letter: wejguHHJH\n"
     ]
    }
   ],
   "source": [
    "given_string = input(\"enter your string:\")\n",
    "t = any( 97 <=ord(char) <=122 for char in given_string)\n",
    "if t :\n",
    "     print (\"given string contains small letter:\",given_string)\n",
    "else:\n",
    "    print(\"given string contains not a small letter:\",given_string)"
   ]
  },
  {
   "cell_type": "markdown",
   "id": "aa772197-32f4-49e8-b0b2-40d8797d7cb2",
   "metadata": {},
   "source": [
    "### 41. Print the first 100 odd numbers"
   ]
  },
  {
   "cell_type": "code",
   "execution_count": 3,
   "id": "64559715-4e4e-4415-9238-44c36029829c",
   "metadata": {},
   "outputs": [
    {
     "name": "stdin",
     "output_type": "stream",
     "text": [
      "enter your number: 100\n"
     ]
    },
    {
     "name": "stdout",
     "output_type": "stream",
     "text": [
      "odd numbers : 1\n",
      "odd numbers : 3\n",
      "odd numbers : 5\n",
      "odd numbers : 7\n",
      "odd numbers : 9\n",
      "odd numbers : 11\n",
      "odd numbers : 13\n",
      "odd numbers : 15\n",
      "odd numbers : 17\n",
      "odd numbers : 19\n",
      "odd numbers : 21\n",
      "odd numbers : 23\n",
      "odd numbers : 25\n",
      "odd numbers : 27\n",
      "odd numbers : 29\n",
      "odd numbers : 31\n",
      "odd numbers : 33\n",
      "odd numbers : 35\n",
      "odd numbers : 37\n",
      "odd numbers : 39\n",
      "odd numbers : 41\n",
      "odd numbers : 43\n",
      "odd numbers : 45\n",
      "odd numbers : 47\n",
      "odd numbers : 49\n",
      "odd numbers : 51\n",
      "odd numbers : 53\n",
      "odd numbers : 55\n",
      "odd numbers : 57\n",
      "odd numbers : 59\n",
      "odd numbers : 61\n",
      "odd numbers : 63\n",
      "odd numbers : 65\n",
      "odd numbers : 67\n",
      "odd numbers : 69\n",
      "odd numbers : 71\n",
      "odd numbers : 73\n",
      "odd numbers : 75\n",
      "odd numbers : 77\n",
      "odd numbers : 79\n",
      "odd numbers : 81\n",
      "odd numbers : 83\n",
      "odd numbers : 85\n",
      "odd numbers : 87\n",
      "odd numbers : 89\n",
      "odd numbers : 91\n",
      "odd numbers : 93\n",
      "odd numbers : 95\n",
      "odd numbers : 97\n",
      "odd numbers : 99\n"
     ]
    }
   ],
   "source": [
    "x = int(input(\"enter your number:\"))\n",
    "for i in range(x):\n",
    "    if (i % 2!= 0):\n",
    "        print(\"odd numbers :\",i)\n",
    "   "
   ]
  },
  {
   "cell_type": "code",
   "execution_count": null,
   "id": "a0c20d96-9aef-4d8d-a7b7-40929518511c",
   "metadata": {},
   "outputs": [],
   "source": []
  },
  {
   "cell_type": "markdown",
   "id": "9a3ca1f8-2c12-4b0a-8d3a-917524a2fdb8",
   "metadata": {},
   "source": [
    "### 42. Determine the factors of a number entered  by the user\n"
   ]
  },
  {
   "cell_type": "code",
   "execution_count": 11,
   "id": "1ce6ca21-cfe5-442c-8791-38c62e6f0fdd",
   "metadata": {},
   "outputs": [
    {
     "name": "stdin",
     "output_type": "stream",
     "text": [
      "Enter your factors number : 5\n"
     ]
    },
    {
     "name": "stdout",
     "output_type": "stream",
     "text": [
      "5\n",
      "20\n",
      "60\n",
      "120\n",
      "120\n",
      "facttors: 120\n"
     ]
    }
   ],
   "source": [
    "\n",
    "x = int(input(\"Enter your factors number :\"))\n",
    "fact = 1\n",
    "for i in range(x,0,-1):\n",
    "    fact = fact * i\n",
    "    print(fact)\n",
    "print(\"facttors:\",fact)"
   ]
  },
  {
   "cell_type": "markdown",
   "id": "b7636df8-e447-4aca-ac6f-fc42a1516e11",
   "metadata": {},
   "source": [
    "### '43. Play a number guessing game (User enters a guess, you print YES or Higher or Lower).This should continue until and until user gives a correct number or want to quit in the middle.Get a hidden number by using random.randint(1,100)"
   ]
  },
  {
   "cell_type": "code",
   "execution_count": 7,
   "id": "f399f4b7-bbd3-4be4-9835-0ae1035b13ec",
   "metadata": {},
   "outputs": [
    {
     "name": "stdin",
     "output_type": "stream",
     "text": [
      "Enter your number: 13\n"
     ]
    },
    {
     "name": "stdout",
     "output_type": "stream",
     "text": [
      "not guessng correct: 5\n"
     ]
    },
    {
     "name": "stdin",
     "output_type": "stream",
     "text": [
      "Enter your number: 12\n"
     ]
    },
    {
     "name": "stdout",
     "output_type": "stream",
     "text": [
      "not guessng correct: 5\n"
     ]
    },
    {
     "name": "stdin",
     "output_type": "stream",
     "text": [
      "Enter your number: 1\n"
     ]
    },
    {
     "name": "stdout",
     "output_type": "stream",
     "text": [
      "not guessng correct: 5\n"
     ]
    },
    {
     "name": "stdin",
     "output_type": "stream",
     "text": [
      "Enter your number: asj\n"
     ]
    },
    {
     "ename": "ValueError",
     "evalue": "invalid literal for int() with base 10: 'asj'",
     "output_type": "error",
     "traceback": [
      "\u001b[1;31m---------------------------------------------------------------------------\u001b[0m",
      "\u001b[1;31mValueError\u001b[0m                                Traceback (most recent call last)",
      "Cell \u001b[1;32mIn[7], line 5\u001b[0m\n\u001b[0;32m      3\u001b[0m guessing \u001b[38;5;241m=\u001b[39m \u001b[38;5;28;01mNone\u001b[39;00m\n\u001b[0;32m      4\u001b[0m \u001b[38;5;28;01mwhile\u001b[39;00m guessing \u001b[38;5;241m!=\u001b[39m x:\n\u001b[1;32m----> 5\u001b[0m     guessing \u001b[38;5;241m=\u001b[39m \u001b[38;5;28mint\u001b[39m(\u001b[38;5;28minput\u001b[39m(\u001b[38;5;124m\"\u001b[39m\u001b[38;5;124mEnter your number:\u001b[39m\u001b[38;5;124m\"\u001b[39m))\n\u001b[0;32m      6\u001b[0m     \u001b[38;5;28;01mif\u001b[39;00m guessing \u001b[38;5;241m==\u001b[39m x:\n\u001b[0;32m      7\u001b[0m         \u001b[38;5;28mprint\u001b[39m(\u001b[38;5;124m\"\u001b[39m\u001b[38;5;124mguessing correct:\u001b[39m\u001b[38;5;124m\"\u001b[39m,x)\n",
      "\u001b[1;31mValueError\u001b[0m: invalid literal for int() with base 10: 'asj'"
     ]
    }
   ],
   "source": [
    "import random\n",
    "x = random.randint(1,100)\n",
    "guessing = None\n",
    "while guessing != x:\n",
    "    guessing = int(input(\"Enter your number:\"))\n",
    "    if guessing == x:\n",
    "        print(\"guessing correct:\",x)\n",
    "    else:\n",
    "        print(\"not guessng correct:\",x)"
   ]
  },
  {
   "cell_type": "markdown",
   "id": "a028a5ac-320d-4562-8697-6f299e8e2d5d",
   "metadata": {},
   "source": [
    "### 44. Take two numbers from the user a,b check whether a is divisible by b or not?\n"
   ]
  },
  {
   "cell_type": "code",
   "execution_count": 9,
   "id": "da481326-f7eb-4b2e-83cf-d644b11f1b7a",
   "metadata": {},
   "outputs": [
    {
     "name": "stdin",
     "output_type": "stream",
     "text": [
      "Enter your number : 10\n",
      "Enter your number : 5\n"
     ]
    },
    {
     "name": "stdout",
     "output_type": "stream",
     "text": [
      "10 is divisible  5\n"
     ]
    }
   ],
   "source": [
    "x = int(input(\"Enter your number :\"))\n",
    "y = int(input(\"Enter your number :\"))\n",
    "if (x % y == 0):\n",
    "    print( x , \"is divisible \",y)\n",
    "else:\n",
    "    print(x,\"is not divisible\",y)"
   ]
  },
  {
   "cell_type": "code",
   "execution_count": null,
   "id": "ff30b565-14b5-4c77-a1f2-98098edd179c",
   "metadata": {},
   "outputs": [],
   "source": []
  },
  {
   "cell_type": "markdown",
   "id": "4605b082-77ce-4365-a190-7a4abf3fdbb4",
   "metadata": {},
   "source": [
    "### 47. Write a program to find out biggest number in the given numbers.\n"
   ]
  },
  {
   "cell_type": "code",
   "execution_count": 13,
   "id": "64e8a41e-3612-4d71-b4b6-5579076adbec",
   "metadata": {},
   "outputs": [
    {
     "name": "stdin",
     "output_type": "stream",
     "text": [
      "Enter your number : 54\n"
     ]
    },
    {
     "name": "stdout",
     "output_type": "stream",
     "text": [
      "[0, 1, 2, 3, 4, 5, 6, 7, 8, 9, 10, 11, 12, 13, 14, 15, 16, 17, 18, 19, 20, 21, 22, 23, 24, 25, 26, 27, 28, 29, 30, 31, 32, 33, 34, 35, 36, 37, 38, 39, 40, 41, 42, 43, 44, 45, 46, 47, 48, 49, 50, 51, 52, 53] max_of_given_numbers 53 \n"
     ]
    }
   ],
   "source": [
    "Given_numbers = int(input(\"Enter your number :\"))\n",
    "biggest_number = []\n",
    "for i in range( Given_numbers):\n",
    "    biggest_number.append(i)\n",
    "    k = max(biggest_number)\n",
    "    \n",
    "print(f\"{biggest_number} max_of_given_numbers {k} \")"
   ]
  },
  {
   "cell_type": "markdown",
   "id": "6fc55f2a-ff68-49bd-96f4-7cb365ff4e19",
   "metadata": {},
   "source": [
    "### 48. find out the index of third occurrence of given substring\n"
   ]
  },
  {
   "cell_type": "code",
   "execution_count": 13,
   "id": "1060cf37-ab3a-451c-b51a-5a47132b9133",
   "metadata": {},
   "outputs": [
    {
     "name": "stdin",
     "output_type": "stream",
     "text": [
      " hello\n"
     ]
    },
    {
     "name": "stdout",
     "output_type": "stream",
     "text": [
      "l\n"
     ]
    }
   ],
   "source": [
    "userInput = input()\n",
    "print(userInput[2])"
   ]
  },
  {
   "cell_type": "markdown",
   "id": "428dd032-d1d2-458e-97ac-4af1dfa7d55e",
   "metadata": {},
   "source": [
    "### #49. find out the index nth occurrence of given substring\n"
   ]
  },
  {
   "cell_type": "code",
   "execution_count": 18,
   "id": "6dfdcf86-af7a-40d3-8e50-f90f272caec8",
   "metadata": {},
   "outputs": [
    {
     "name": "stdin",
     "output_type": "stream",
     "text": [
      " hello\n",
      " 3\n"
     ]
    },
    {
     "name": "stdout",
     "output_type": "stream",
     "text": [
      "l\n"
     ]
    }
   ],
   "source": [
    "userInput = input()\n",
    "n = int(input())\n",
    "print(userInput[n])"
   ]
  },
  {
   "cell_type": "markdown",
   "id": "45484c68-1897-4cf4-af4a-eb764583f87f",
   "metadata": {},
   "source": [
    "### 50. Take some single digit numbers from the user and findout min, maximum\n"
   ]
  },
  {
   "cell_type": "code",
   "execution_count": 21,
   "id": "3201d53c-ab32-4f53-ba7d-638c973d25fd",
   "metadata": {},
   "outputs": [
    {
     "name": "stdin",
     "output_type": "stream",
     "text": [
      " 4566\n"
     ]
    },
    {
     "name": "stdout",
     "output_type": "stream",
     "text": [
      "6\n",
      "4\n"
     ]
    }
   ],
   "source": [
    "num = input()\n",
    "maxnum = int(num[0])\n",
    "minnum = int(num[0])\n",
    "for i in num:\n",
    "    if(maxnum< int(i)):\n",
    "        maxnum = int(i)\n",
    "    if (minnum > int(i)):\n",
    "        minnum = int(i)\n",
    "print(maxnum)\n",
    "print(minnum)"
   ]
  },
  {
   "cell_type": "markdown",
   "id": "f812f7a8-62a2-4e44-91af-52378f743257",
   "metadata": {},
   "source": [
    "### 51. print the number in proper mathematical way.\n",
    "Consider that we have 6 digit numbers.\n",
    "\n",
    "Number format WAP> 10 -> 000010\n",
    "\n",
    "           100 ->  000100 \n",
    "\n",
    "          1000 ->  001000 \n",
    "\n",
    "      2345678  ->  2345678 \n",
    "If the number has more than 6 digits then print as it is.'''\n"
   ]
  },
  {
   "cell_type": "code",
   "execution_count": 26,
   "id": "c996fc21-b061-42c7-98cd-39e694773b34",
   "metadata": {},
   "outputs": [
    {
     "name": "stdin",
     "output_type": "stream",
     "text": [
      " 54\n"
     ]
    },
    {
     "name": "stdout",
     "output_type": "stream",
     "text": [
      "000054\n"
     ]
    }
   ],
   "source": [
    "\n",
    "num = input()\n",
    "l = len(num)\n",
    "if(l >=6 ):\n",
    "    print(num)\n",
    "r = 6-l\n",
    "print(r*\"0\"+ num)"
   ]
  },
  {
   "cell_type": "markdown",
   "id": "f0b42c0d-e629-437c-9b5d-015c8a65f0fb",
   "metadata": {},
   "source": [
    "### 52. names =\"emp1,emp2,emp3,emp4\" iterate through the employee names.\n"
   ]
  },
  {
   "cell_type": "code",
   "execution_count": 29,
   "id": "3b50f971-8476-47c2-aeb0-c1dcb3f13da5",
   "metadata": {},
   "outputs": [
    {
     "name": "stdin",
     "output_type": "stream",
     "text": [
      " emp1,emp2,emp3,emp4\n"
     ]
    },
    {
     "name": "stdout",
     "output_type": "stream",
     "text": [
      "emp1\n",
      "emp2\n",
      "emp3\n",
      "emp4\n"
     ]
    }
   ],
   "source": [
    "Employ_names = input().split(\",\")\n",
    "for i in Employ_names:\n",
    "    print(i)"
   ]
  },
  {
   "cell_type": "markdown",
   "id": "bb1645ec-8f0b-47e8-b971-e9346323bbe7",
   "metadata": {},
   "source": [
    "### 53. Take actual string, source string, destination string. replce first nth occurrences of source string with destination string of actual string.\n"
   ]
  },
  {
   "cell_type": "code",
   "execution_count": 34,
   "id": "860e651e-2a72-493e-a03b-b57e1bca963f",
   "metadata": {},
   "outputs": [
    {
     "name": "stdin",
     "output_type": "stream",
     "text": [
      " i love myself\n",
      " like\n",
      " love\n"
     ]
    },
    {
     "name": "stdout",
     "output_type": "stream",
     "text": [
      "i like myself\n"
     ]
    }
   ],
   "source": [
    "actual_string= input()\n",
    "source_string = input()\n",
    "destination_string = input()\n",
    "\n",
    "str1 = actual_string.replace(destination_string,source_string)\n",
    "print(str1)"
   ]
  },
  {
   "cell_type": "markdown",
   "id": "8208c1cc-29bf-43bb-8435-6b203fba389a",
   "metadata": {},
   "source": [
    "### 55. Take numbers from the user and find out min, maximum, sum, average\n"
   ]
  },
  {
   "cell_type": "code",
   "execution_count": 37,
   "id": "a4c9538e-c594-45a5-a6d6-732a85a15856",
   "metadata": {},
   "outputs": [
    {
     "name": "stdin",
     "output_type": "stream",
     "text": [
      " 15,25,64\n"
     ]
    },
    {
     "name": "stdout",
     "output_type": "stream",
     "text": [
      "Maximum element in the array is: 64\n",
      "Minimum element in the array is: 15\n",
      "Sum of all elements in the array is: 104\n"
     ]
    }
   ],
   "source": [
    "nums = list(map(int,input(\"\").split(\",\")))\n",
    "\n",
    "mini = nums[0]\n",
    "maxi = nums[0]\n",
    "sumint = 0\n",
    "\n",
    "for i in nums:\n",
    "    if(mini>i):\n",
    "        mini=i\n",
    "    if(maxi<i):\n",
    "        maxi = i\n",
    "    sumint +=i\n",
    "    \n",
    "print(f\"Maximum element in the array is: {maxi}\")\n",
    "print(f\"Minimum element in the array is: {mini}\")\n",
    "print(f\"Sum of all elements in the array is: {sumint}\")"
   ]
  },
  {
   "cell_type": "markdown",
   "id": "be199085-b2f8-462b-974e-4273f3d9d73f",
   "metadata": {},
   "source": [
    "### 54.Take two numbers from the user and perform the following menu-driven operations:\n",
    "Addition\n",
    "Multiplication\n",
    "Division\n",
    "Square Root\n",
    "Power (a^b)\n",
    "Subtraction\n",
    "After the user selects an operation, perform the corresponding calculation.\n",
    "\n",
    "Note:\n",
    "\n",
    "The user may give integers or float numbers.\n",
    "You should check whether the input strings are valid digits (i.e., the string should be convertible to a float).\n",
    "If the input cannot be converted to a valid number, display the error message: \"Improper string given\"."
   ]
  },
  {
   "cell_type": "code",
   "execution_count": 40,
   "id": "3b8bde2a-7ba2-4aaa-9348-c186588836f3",
   "metadata": {},
   "outputs": [
    {
     "name": "stdin",
     "output_type": "stream",
     "text": [
      "Enter the first number:  5\n",
      "Enter the second number:  6\n"
     ]
    },
    {
     "name": "stdout",
     "output_type": "stream",
     "text": [
      "\n",
      "Menu:\n",
      "1. Addition\n",
      "2. Multiplication\n",
      "3. Division\n",
      "4. Square Root\n",
      "5. Power (a^b)\n",
      "6. Subtraction\n",
      "7. Quit\n"
     ]
    },
    {
     "name": "stdin",
     "output_type": "stream",
     "text": [
      "Select an operation (1-7):  5\n"
     ]
    },
    {
     "name": "stdout",
     "output_type": "stream",
     "text": [
      "Power: 5.0^6.0 = 15625.0\n"
     ]
    }
   ],
   "source": [
    "# Taking two inputs from the user\n",
    "num1 = input(\"Enter the first number: \")\n",
    "num2 = input(\"Enter the second number: \")\n",
    "\n",
    "# Checking if both inputs can be converted to float manually\n",
    "if ('.' in num1 or num1.isdigit()) and ('.' in num2 or num2.isdigit()):\n",
    "    num1 = float(num1)\n",
    "    num2 = float(num2)\n",
    "\n",
    "    # Displaying the menu\n",
    "    print(\"\\nMenu:\")\n",
    "    print(\"1. Addition\")\n",
    "    print(\"2. Multiplication\")\n",
    "    print(\"3. Division\")\n",
    "    print(\"4. Square Root\")\n",
    "    print(\"5. Power (a^b)\")\n",
    "    print(\"6. Subtraction\")\n",
    "    print(\"7. Quit\")\n",
    "\n",
    "    # Taking the user's choice\n",
    "    choice = input(\"Select an operation (1-7): \")\n",
    "\n",
    "    # If statement for each menu option\n",
    "    if choice == '1':\n",
    "        print(f\"Addition: {num1} + {num2} = {num1 + num2}\")\n",
    "\n",
    "    elif choice == '2':\n",
    "        print(f\"Multiplication: {num1} * {num2} = {num1 * num2}\")\n",
    "\n",
    "    elif choice == '3':\n",
    "        if num2 != 0:\n",
    "            print(f\"Division: {num1} / {num2} = {num1 / num2}\")\n",
    "        else:\n",
    "            print(\"Error: Division by zero is not allowed.\")\n",
    "\n",
    "    elif choice == '4':\n",
    "        from math import sqrt\n",
    "        if num1 >= 0:\n",
    "            print(f\"Square Root of {num1} is {sqrt(num1)}\")\n",
    "        else:\n",
    "            print(\"Error: Square root of negative numbers is not defined.\")\n",
    "\n",
    "        if num2 >= 0:\n",
    "             print(f\"Square Root of {num2} is {sqrt(num2)}\")\n",
    "        else:\n",
    "            print(\"Error: Square root of negative numbers is not defined.\")\n",
    "\n",
    "    elif choice == '5':\n",
    "        print(f\"Power: {num1}^{num2} = {num1 ** num2}\")\n",
    "\n",
    "    elif choice == '6':\n",
    "        print(f\"Subtraction: {num1} - {num2} = {num1 - num2}\")\n",
    "\n",
    "    elif choice == '7':\n",
    "        print(\"Exiting...\")\n",
    "\n",
    "    else:\n",
    "        print(\"Invalid choice. Please select a valid option.\")\n",
    "\n",
    "else:\n",
    "    print(\"Error: Improper string given. Please enter valid numbers.\")"
   ]
  },
  {
   "cell_type": "markdown",
   "id": "08b244d6-d6c7-4025-9ccc-7d85c62c931f",
   "metadata": {},
   "source": [
    "### 56 Problem Statement\n",
    "Given the list of numbers:\n",
    "\n",
    "l = [1, 2, 3, 5, 7, 8, 9, 10, 11, 12, 13, 20, 22, 23, 24, 25, 26, 27, 20, 21, 22, 4]\n",
    "Find out the following:\n",
    "\n",
    "Number of even numbers\n",
    "Number of odd numbers\n",
    "Number of positive numbers\n",
    "Number of negative numbers\n",
    "Number of prime numbers\n",
    "Number of perfect numbers\n",
    "Number of Armstrong numbers\n",
    "Number of palindrome numbers\n",
    "Definitions:\n",
    "\n",
    "Even Numbers: Numbers divisible by 2.\n",
    "Odd Numbers: Numbers not divisible by 2.\n",
    "Positive Numbers: Numbers greater than zero.\n",
    "Negative Numbers: Numbers less than zero.\n",
    "Prime Numbers: Numbers greater than 1 that are only divisible by 1 and themselves.\n",
    "Perfect Numbers: Numbers equal to the sum of their proper divisors (excluding themselves).\n",
    "Armstrong Numbers: Numbers equal to the sum of their digits each raised to the power of the number of digits.\n",
    "Palindrome Numbers: Numbers that read the same forward and backward.\n",
    "Calculate and display the counts for each category."
   ]
  },
  {
   "cell_type": "code",
   "execution_count": 43,
   "id": "d14a6d59-f475-4672-b2b6-56ff11ee0088",
   "metadata": {},
   "outputs": [
    {
     "name": "stdout",
     "output_type": "stream",
     "text": [
      "Even numbers: 11\n",
      "Odd numbers: 11\n",
      "Positive numbers: 22\n",
      "Negative numbers: 0\n",
      "Prime numbers: 7\n",
      "Perfect numbers: 0\n",
      "Armstrong numbers: 8\n",
      "Palindrome numbers: 11\n"
     ]
    }
   ],
   "source": [
    "# Given list of numbers\n",
    "l = [1, 2, 3, 5, 7, 8, 9, 10, 11, 12, 13, 20, 22, 23, 24, 25, 26, 27, 20, 21, 22, 4]\n",
    "\n",
    "# Initialize counters\n",
    "even_count = odd_count = positive_count = negative_count = prime_count = perfect_count = armstrong_count = palindrome_count = 0\n",
    "\n",
    "# Iterate over each number in the list\n",
    "for num in l:\n",
    "    # Even or odd check\n",
    "    if num % 2 == 0:\n",
    "        even_count += 1\n",
    "    else:\n",
    "        odd_count += 1\n",
    "    \n",
    "    # Positive or negative check\n",
    "    if num > 0:\n",
    "        positive_count += 1\n",
    "    elif num < 0:\n",
    "        negative_count += 1\n",
    "    \n",
    "    # Prime check\n",
    "    if num > 1:\n",
    "        is_prime = True\n",
    "        for i in range(2, int(num**0.5) + 1):\n",
    "            if num % i == 0:\n",
    "                is_prime = False\n",
    "                break\n",
    "        if is_prime:\n",
    "            prime_count += 1\n",
    "    \n",
    "    # Perfect number check\n",
    "    if num > 0:\n",
    "        divisors_sum = 0\n",
    "        for i in range(1, num):\n",
    "            if num % i == 0:\n",
    "                divisors_sum += i\n",
    "        if divisors_sum == num:\n",
    "            perfect_count += 1\n",
    "    \n",
    "    # Armstrong number check\n",
    "    num_str = str(num)\n",
    "    armstrong_sum = 0\n",
    "    for digit in num_str:\n",
    "        armstrong_sum += int(digit) ** len(num_str)\n",
    "    if armstrong_sum == num:\n",
    "        armstrong_count += 1\n",
    "    \n",
    "    # Palindrome check\n",
    "    num_str = str(num)\n",
    "    if num_str == num_str[::-1]:\n",
    "        palindrome_count += 1\n",
    "\n",
    "# Display the results\n",
    "print(f\"Even numbers: {even_count}\")\n",
    "print(f\"Odd numbers: {odd_count}\")\n",
    "print(f\"Positive numbers: {positive_count}\")\n",
    "print(f\"Negative numbers: {negative_count}\")\n",
    "print(f\"Prime numbers: {prime_count}\")\n",
    "print(f\"Perfect numbers: {perfect_count}\")\n",
    "print(f\"Armstrong numbers: {armstrong_count}\")\n",
    "print(f\"Palindrome numbers: {palindrome_count}\")"
   ]
  },
  {
   "cell_type": "markdown",
   "id": "cccb3187-993a-4f73-b37b-1db33d26ede7",
   "metadata": {},
   "source": [
    "### 57 Problem Statement\n",
    "Take a string input from the user and perform the following tasks:\n",
    "\n",
    "Find out how many digits are there.\n",
    "Find out how many special symbols are there.\n",
    "Find out how many small (lowercase) letters are there.\n",
    "Find out how many capital (uppercase) letters are there.\n",
    "Definitions:\n",
    "\n",
    "Digits: Characters from 0 to 9.\n",
    "Special Symbols: Characters that are neither digits nor letters (e.g., @, #, !, etc.).\n",
    "Small Letters: Lowercase letters from a to z.\n",
    "Capital Letters: Uppercase letters from A to Z.\n",
    "Calculate and display the counts for each of these categories."
   ]
  },
  {
   "cell_type": "code",
   "execution_count": 46,
   "id": "72b9cd4b-a6fe-4687-abd3-cb4107a8ffc4",
   "metadata": {},
   "outputs": [
    {
     "name": "stdin",
     "output_type": "stream",
     "text": [
      "Enter a string:  hasf\n"
     ]
    },
    {
     "name": "stdout",
     "output_type": "stream",
     "text": [
      "Number of digits: 0\n",
      "Number of special symbols: 0\n",
      "Number of small letters: 4\n",
      "Number of capital letters: 0\n"
     ]
    }
   ],
   "source": [
    "# Take a string input from the user\n",
    "user_input = input(\"Enter a string: \")\n",
    "\n",
    "# Initialize counters\n",
    "digit_count = 0\n",
    "special_symbol_count = 0\n",
    "small_letter_count = 0\n",
    "capital_letter_count = 0\n",
    "\n",
    "# Iterate through each character in the string\n",
    "for char in user_input:\n",
    "    if char.isdigit():\n",
    "        digit_count += 1\n",
    "    elif char.isalpha():\n",
    "        if char.islower():\n",
    "            small_letter_count += 1\n",
    "        elif char.isupper():\n",
    "            capital_letter_count += 1\n",
    "    else:\n",
    "        special_symbol_count += 1\n",
    "\n",
    "# Display the results\n",
    "print(f\"Number of digits: {digit_count}\")\n",
    "print(f\"Number of special symbols: {special_symbol_count}\")\n",
    "print(f\"Number of small letters: {small_letter_count}\")\n",
    "print(f\"Number of capital letters: {capital_letter_count}\")"
   ]
  },
  {
   "cell_type": "markdown",
   "id": "e9b25cd3-2029-482b-96ec-5d9632072939",
   "metadata": {},
   "source": [
    "### 58. Take a char from the user and find out how many number of occurrences are there in given string"
   ]
  },
  {
   "cell_type": "code",
   "execution_count": 49,
   "id": "2f67970a-45f0-42b4-9909-1ff75244e8e9",
   "metadata": {},
   "outputs": [
    {
     "name": "stdin",
     "output_type": "stream",
     "text": [
      "Enter the string:  ashbfhba\n",
      "Enter the character to find:  a\n"
     ]
    },
    {
     "name": "stdout",
     "output_type": "stream",
     "text": [
      "The character 'a' appears 2 times in the string.\n"
     ]
    }
   ],
   "source": [
    "# Take the string input from the user\n",
    "input_string = input(\"Enter the string: \")\n",
    "\n",
    "# Take the character input from the user\n",
    "char_to_find = input(\"Enter the character to find: \")\n",
    "\n",
    "# Initialize the counter\n",
    "count = 0\n",
    "\n",
    "# Iterate through each character in the string\n",
    "for char in input_string:\n",
    "    if char == char_to_find:\n",
    "        count += 1\n",
    "\n",
    "# Display the result\n",
    "print(f\"The character '{char_to_find}' appears {count} times in the string.\")"
   ]
  },
  {
   "cell_type": "markdown",
   "id": "9695fc20-07e8-4b01-b2c1-7b1865baebc9",
   "metadata": {},
   "source": [
    "### 61. Reverse the string.> \n",
    "62 without effecting the special symbols. It involves three variations. Write code for three variations. "
   ]
  },
  {
   "cell_type": "code",
   "execution_count": 53,
   "id": "1b5f1539-ccf3-45ab-9314-f2420c915d6b",
   "metadata": {},
   "outputs": [
    {
     "name": "stdout",
     "output_type": "stream",
     "text": [
      "^%$987^$%6fed54$#,321cba\n"
     ]
    }
   ],
   "source": [
    "str1 =\"abc123,#$45def6%$^789$%^\"\n",
    "reve_str1 = \"\"\n",
    "for i in str1:\n",
    "    reve_str1 = i + reve_str1\n",
    "print(reve_str1)\n"
   ]
  },
  {
   "cell_type": "markdown",
   "id": "578f7859-d586-41f7-b128-6c0deb733227",
   "metadata": {},
   "source": [
    "### 63.Input: abc123,#$45def6%$^789$%^, output: 9876fe,#$d54321%$^cba$%^ "
   ]
  },
  {
   "cell_type": "code",
   "execution_count": 56,
   "id": "302f4fb6-33d8-4601-9c22-87e996663d8c",
   "metadata": {},
   "outputs": [
    {
     "name": "stdout",
     "output_type": "stream",
     "text": [
      "9876fe,#$d54321%$^cba$%^\n"
     ]
    }
   ],
   "source": [
    "str2 = \"abc123,#$45def6%$^789$%^\"\n",
    "rev = str2[::-1]\n",
    "list_q = list(str2)\n",
    "main = \"\"\n",
    "for i in str2:\n",
    "    if i.isalnum():\n",
    "        main += i\n",
    "rev_main=list(main[::-1])\n",
    "count = 0\n",
    "for i in str2:\n",
    "    if i.isalnum():\n",
    "        index = str2.index(i)\n",
    "        list_q[index] = rev_main[count]\n",
    "        count+=1\n",
    "    else:\n",
    "        index = str2.index(i)\n",
    "        list_q[index] = str2[index]\n",
    "str3 = \"\"\n",
    "for i in list_q:\n",
    "    str3+=i\n",
    "print(str3)"
   ]
  },
  {
   "cell_type": "markdown",
   "id": "815313f7-0ee8-49b4-9aa9-735c6ea6a33f",
   "metadata": {},
   "source": [
    "### 64.Input: \"123,#$456%$^789$%^\", Output: 321,#$654%$^987$%^ Only numbers has to reverse. "
   ]
  },
  {
   "cell_type": "code",
   "execution_count": 59,
   "id": "0fa8f30f-0e8e-402a-b124-e2c10e621b1e",
   "metadata": {},
   "outputs": [
    {
     "name": "stdout",
     "output_type": "stream",
     "text": [
      "321,#$654%$^987$%^\n"
     ]
    }
   ],
   "source": [
    "str_1 = \"123,#$456%$^789$%^\"\n",
    "ov = \"\"\n",
    "tp = \"\"\n",
    "for i in str_1:\n",
    "    if i.isdigit():\n",
    "        tp += i\n",
    "    else:\n",
    "        ov += tp[::-1]+i\n",
    "        tp = ''\n",
    "print(ov)"
   ]
  },
  {
   "cell_type": "code",
   "execution_count": null,
   "id": "3d83a078-d5a7-4edc-961c-9b00d12963d6",
   "metadata": {},
   "outputs": [],
   "source": []
  }
 ],
 "metadata": {
  "kernelspec": {
   "display_name": "Python 3 (ipykernel)",
   "language": "python",
   "name": "python3"
  },
  "language_info": {
   "codemirror_mode": {
    "name": "ipython",
    "version": 3
   },
   "file_extension": ".py",
   "mimetype": "text/x-python",
   "name": "python",
   "nbconvert_exporter": "python",
   "pygments_lexer": "ipython3",
   "version": "3.12.4"
  }
 },
 "nbformat": 4,
 "nbformat_minor": 5
}
