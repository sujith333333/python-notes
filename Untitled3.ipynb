{
 "cells": [
  {
   "cell_type": "code",
   "execution_count": null,
   "id": "884e82df-eeec-4c7e-8d07-ecea25f7836e",
   "metadata": {},
   "outputs": [],
   "source": [
    "l={\"rohit\":70,\"kohli\":70,\"jadeja\":40,\"klrahul\":40}\n",
    "print"
   ]
  }
 ],
 "metadata": {
  "kernelspec": {
   "display_name": "Python 3 (ipykernel)",
   "language": "python",
   "name": "python3"
  },
  "language_info": {
   "codemirror_mode": {
    "name": "ipython",
    "version": 3
   },
   "file_extension": ".py",
   "mimetype": "text/x-python",
   "name": "python",
   "nbconvert_exporter": "python",
   "pygments_lexer": "ipython3",
   "version": "3.12.4"
  }
 },
 "nbformat": 4,
 "nbformat_minor": 5
}
