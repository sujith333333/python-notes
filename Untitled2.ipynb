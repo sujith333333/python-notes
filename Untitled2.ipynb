{
 "cells": [
  {
   "cell_type": "code",
   "execution_count": 1,
   "id": "69cf0181-a787-4798-a141-c40aa65a4ba5",
   "metadata": {},
   "outputs": [
    {
     "name": "stdout",
     "output_type": "stream",
     "text": [
      "k None\n",
      "l [1, 2, 3, 4, 5]\n"
     ]
    }
   ],
   "source": [
    "l=[1,2,3,4]\n",
    "k=l.append(5)\n",
    "print(\"k\",k)\n",
    "print(\"l\",l)"
   ]
  },
  {
   "cell_type": "code",
   "execution_count": 3,
   "id": "d1e64218-003f-438f-b066-11a9ac4ba679",
   "metadata": {},
   "outputs": [
    {
     "name": "stdout",
     "output_type": "stream",
     "text": [
      "[1, 2, 3, 4, [1, 2], [3, 4], 5, [6, 7]]\n"
     ]
    }
   ],
   "source": [
    "l=[1,2,3,4]\n",
    "l.extend([[1,2],[3,4],5,[6,7]])\n",
    "print(l)"
   ]
  },
  {
   "cell_type": "code",
   "execution_count": 5,
   "id": "7f3e50b9-e05a-41ec-9c92-a165ef7709db",
   "metadata": {},
   "outputs": [
    {
     "name": "stdout",
     "output_type": "stream",
     "text": [
      "k= None\n",
      "l= [1, 2, 3, 4]\n"
     ]
    }
   ],
   "source": [
    "l=[1,2,3,4]\n",
    "k=l.sort()\n",
    "print(\"k=\",k)\n",
    "print(\"l=\",l)"
   ]
  },
  {
   "cell_type": "code",
   "execution_count": null,
   "id": "0c76b20b-507d-4225-a7cd-2c062e455f31",
   "metadata": {},
   "outputs": [],
   "source": []
  }
 ],
 "metadata": {
  "kernelspec": {
   "display_name": "Python 3 (ipykernel)",
   "language": "python",
   "name": "python3"
  },
  "language_info": {
   "codemirror_mode": {
    "name": "ipython",
    "version": 3
   },
   "file_extension": ".py",
   "mimetype": "text/x-python",
   "name": "python",
   "nbconvert_exporter": "python",
   "pygments_lexer": "ipython3",
   "version": "3.12.4"
  }
 },
 "nbformat": 4,
 "nbformat_minor": 5
}
