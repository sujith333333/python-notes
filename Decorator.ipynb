{
 "cells": [
  {
   "cell_type": "code",
   "execution_count": 3,
   "id": "6c59349d-9018-4bdb-b63c-2a64111657f4",
   "metadata": {},
   "outputs": [
    {
     "name": "stdout",
     "output_type": "stream",
     "text": [
      "hello\n",
      "<function fun at 0x000001C195F0C720> 20\n"
     ]
    }
   ],
   "source": [
    "def fun():\n",
    "    print(\"hello\")\n",
    "    return 20\n",
    "res=fun\n",
    "res1=fun()\n",
    "print(res,res1)\n"
   ]
  },
  {
   "cell_type": "code",
   "execution_count": 5,
   "id": "944b5843-bc9d-4254-bd1e-ec2c20fd0b1c",
   "metadata": {},
   "outputs": [
    {
     "name": "stdout",
     "output_type": "stream",
     "text": [
      "hello\n",
      "<function fun at 0x000001C195EFF380> 20\n",
      "hello\n"
     ]
    }
   ],
   "source": [
    "def fun():\n",
    "    print(\"hello\")\n",
    "    return 20\n",
    "res=fun\n",
    "res1=fun()\n",
    "print(res,res1)\n",
    "r1=res()"
   ]
  },
  {
   "cell_type": "code",
   "execution_count": 7,
   "id": "f6f3683a-26ab-4b08-b82a-198dd65211c1",
   "metadata": {},
   "outputs": [
    {
     "name": "stdout",
     "output_type": "stream",
     "text": [
      "hi\n",
      "hello\n",
      "1000\n",
      "result 50\n"
     ]
    }
   ],
   "source": [
    "def fun():\n",
    "    print(\"hi\")\n",
    "    print(\"hello\")\n",
    "    a=1000\n",
    "    print(a)\n",
    "    return 20+30\n",
    "res=fun()\n",
    "print(\"result\",res)\n"
   ]
  },
  {
   "cell_type": "code",
   "execution_count": null,
   "id": "e4b3d87a-ef92-4c12-9b04-d4f797c22457",
   "metadata": {},
   "outputs": [],
   "source": []
  }
 ],
 "metadata": {
  "kernelspec": {
   "display_name": "Python 3 (ipykernel)",
   "language": "python",
   "name": "python3"
  },
  "language_info": {
   "codemirror_mode": {
    "name": "ipython",
    "version": 3
   },
   "file_extension": ".py",
   "mimetype": "text/x-python",
   "name": "python",
   "nbconvert_exporter": "python",
   "pygments_lexer": "ipython3",
   "version": "3.12.4"
  }
 },
 "nbformat": 4,
 "nbformat_minor": 5
}
