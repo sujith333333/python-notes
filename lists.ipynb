{
 "cells": [
  {
   "cell_type": "code",
   "execution_count": 7,
   "id": "060f41fc-d54b-417e-a9b6-1a8fec20df7f",
   "metadata": {},
   "outputs": [
    {
     "name": "stdout",
     "output_type": "stream",
     "text": [
      "[3000, 5000, 1000, 2000, 'python']\n",
      "[3000, 5000, 1000, 2000, 'python']\n"
     ]
    }
   ],
   "source": [
    "a=1000\n",
    "b=2000\n",
    "s=\"python\"\n",
    "l=[3000,4000,a,b,s]\n",
    "k=l\n",
    "k[1]=5000\n",
    "print(l)\n",
    "print(k)"
   ]
  },
  {
   "cell_type": "code",
   "execution_count": null,
   "id": "b398f615-e70f-4f2d-8e9c-3dd0caae4058",
   "metadata": {},
   "outputs": [],
   "source": []
  }
 ],
 "metadata": {
  "kernelspec": {
   "display_name": "Python 3 (ipykernel)",
   "language": "python",
   "name": "python3"
  },
  "language_info": {
   "codemirror_mode": {
    "name": "ipython",
    "version": 3
   },
   "file_extension": ".py",
   "mimetype": "text/x-python",
   "name": "python",
   "nbconvert_exporter": "python",
   "pygments_lexer": "ipython3",
   "version": "3.12.4"
  }
 },
 "nbformat": 4,
 "nbformat_minor": 5
}
