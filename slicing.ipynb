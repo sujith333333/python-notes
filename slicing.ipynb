{
 "cells": [
  {
   "cell_type": "code",
   "execution_count": 5,
   "id": "fbe21e04-d22a-4ebc-b1b3-f18ede262b9e",
   "metadata": {},
   "outputs": [
    {
     "name": "stdout",
     "output_type": "stream",
     "text": [
      "\n"
     ]
    }
   ],
   "source": [
    "s = \"abcdefghijkl\"\n",
    "print(s[2:10:-1])"
   ]
  },
  {
   "cell_type": "code",
   "execution_count": 7,
   "id": "31d8526d-539c-4726-88cc-93d9e278faee",
   "metadata": {},
   "outputs": [
    {
     "name": "stdout",
     "output_type": "stream",
     "text": [
      "\n"
     ]
    }
   ],
   "source": [
    "s = \"abcdefghijkl\"\n",
    "print(s[2:-10:-1])"
   ]
  },
  {
   "cell_type": "code",
   "execution_count": 9,
   "id": "cac8c4f3-6a8c-4631-8e1b-28d372075f1e",
   "metadata": {},
   "outputs": [
    {
     "name": "stdout",
     "output_type": "stream",
     "text": [
      "c\n"
     ]
    }
   ],
   "source": [
    "s = \"abcdefghijkl\"\n",
    "print(s[2:-11:-1])"
   ]
  },
  {
   "cell_type": "code",
   "execution_count": 11,
   "id": "1d976865-7a83-4a8d-a689-7140bf35e56c",
   "metadata": {},
   "outputs": [
    {
     "name": "stdout",
     "output_type": "stream",
     "text": [
      "kjihgfedc\n"
     ]
    }
   ],
   "source": [
    "s = \"abcdefghijkl\"\n",
    "print(s[-2:-11:-1])"
   ]
  },
  {
   "cell_type": "code",
   "execution_count": 15,
   "id": "a69d204c-8fae-44a7-8bcd-799bf5776981",
   "metadata": {},
   "outputs": [
    {
     "name": "stdout",
     "output_type": "stream",
     "text": [
      "\n"
     ]
    }
   ],
   "source": [
    "s = \"abcdefghijkl\"\n",
    "print(s[-2:-11:1])"
   ]
  },
  {
   "cell_type": "code",
   "execution_count": 17,
   "id": "e264affa-650a-4f3f-9c4c-90c59e66f076",
   "metadata": {},
   "outputs": [
    {
     "name": "stdout",
     "output_type": "stream",
     "text": [
      "\n"
     ]
    }
   ],
   "source": [
    "s = \"abcdefghijkl\"\n",
    "print(s[-2:-9:1])"
   ]
  },
  {
   "cell_type": "code",
   "execution_count": 19,
   "id": "2f78f59d-71bf-4e93-94e4-85f3a2430f85",
   "metadata": {},
   "outputs": [
    {
     "name": "stdout",
     "output_type": "stream",
     "text": [
      "kige\n"
     ]
    }
   ],
   "source": [
    "s = \"abcdefghijkl\"\n",
    "print(s[-2:-9:-2])"
   ]
  },
  {
   "cell_type": "code",
   "execution_count": 21,
   "id": "e55c62e2-8aea-4da6-927c-81a7ebba8d28",
   "metadata": {},
   "outputs": [
    {
     "name": "stdout",
     "output_type": "stream",
     "text": [
      "abcdefghij\n"
     ]
    }
   ],
   "source": [
    "s = \"abcdefghijkl\"\n",
    "print(s[:-2])"
   ]
  },
  {
   "cell_type": "code",
   "execution_count": 23,
   "id": "8b14b0dc-b936-4dd2-ba19-f6b1ef03ea9e",
   "metadata": {},
   "outputs": [
    {
     "name": "stdout",
     "output_type": "stream",
     "text": [
      "ab\n"
     ]
    }
   ],
   "source": [
    "s = \"abcdefghijkl\"\n",
    "print(s[:2])"
   ]
  },
  {
   "cell_type": "code",
   "execution_count": 25,
   "id": "d21b0066-f4a0-47ce-a099-057b33478aa4",
   "metadata": {},
   "outputs": [
    {
     "name": "stdout",
     "output_type": "stream",
     "text": [
      "cdefghijkl\n"
     ]
    }
   ],
   "source": [
    "s = \"abcdefghijkl\"\n",
    "print(s[2:])"
   ]
  },
  {
   "cell_type": "code",
   "execution_count": 27,
   "id": "50d672d9-369e-4a5c-99b0-6ae21c1f41b8",
   "metadata": {},
   "outputs": [
    {
     "name": "stdout",
     "output_type": "stream",
     "text": [
      "hijkl\n"
     ]
    }
   ],
   "source": [
    "s = \"abcdefghijkl\"\n",
    "print(s[-5:])"
   ]
  },
  {
   "cell_type": "code",
   "execution_count": 31,
   "id": "479c6bad-61f1-4fef-bf1c-4fe41235ec2d",
   "metadata": {},
   "outputs": [
    {
     "name": "stdout",
     "output_type": "stream",
     "text": [
      "lj\n"
     ]
    }
   ],
   "source": [
    "s = \"abcdefghijkl\"\n",
    "print(s[:-5:-2])"
   ]
  },
  {
   "cell_type": "code",
   "execution_count": 33,
   "id": "b899d25f-5607-46a7-92cb-d6c829b7255b",
   "metadata": {},
   "outputs": [
    {
     "name": "stdout",
     "output_type": "stream",
     "text": [
      "j\n"
     ]
    }
   ],
   "source": [
    "s = \"abcdefghijkl\"\n",
    "print(s[9:-1:2])"
   ]
  },
  {
   "cell_type": "code",
   "execution_count": 35,
   "id": "bd829684-76fe-470a-bc1b-c412fc62f64b",
   "metadata": {},
   "outputs": [
    {
     "name": "stdout",
     "output_type": "stream",
     "text": [
      "\n"
     ]
    }
   ],
   "source": [
    "s = \"abcdefghijkl\"\n",
    "print(s[2:-9:-2])"
   ]
  },
  {
   "cell_type": "code",
   "execution_count": null,
   "id": "a2ca24ab-bbed-4444-a864-25d83e9baa25",
   "metadata": {},
   "outputs": [],
   "source": []
  }
 ],
 "metadata": {
  "kernelspec": {
   "display_name": "Python 3 (ipykernel)",
   "language": "python",
   "name": "python3"
  },
  "language_info": {
   "codemirror_mode": {
    "name": "ipython",
    "version": 3
   },
   "file_extension": ".py",
   "mimetype": "text/x-python",
   "name": "python",
   "nbconvert_exporter": "python",
   "pygments_lexer": "ipython3",
   "version": "3.12.4"
  }
 },
 "nbformat": 4,
 "nbformat_minor": 5
}
