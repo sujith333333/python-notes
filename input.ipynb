{
 "cells": [
  {
   "cell_type": "code",
   "execution_count": 3,
   "id": "7d93d1d1-f3da-43f6-a667-fd6b8136c286",
   "metadata": {},
   "outputs": [
    {
     "name": "stdout",
     "output_type": "stream",
     "text": [
      "3000\n"
     ]
    }
   ],
   "source": [
    "a =1000\n",
    "b=2000\n",
    "print(a+b)\n"
   ]
  },
  {
   "cell_type": "code",
   "execution_count": 5,
   "id": "f5bb5599-920f-4480-9e94-50eb48e2aea6",
   "metadata": {},
   "outputs": [
    {
     "name": "stdin",
     "output_type": "stream",
     "text": [
      "Enter a value 1000\n",
      "Enter b value 2000\n"
     ]
    },
    {
     "name": "stdout",
     "output_type": "stream",
     "text": [
      "10002000\n"
     ]
    }
   ],
   "source": [
    "a = input(\"Enter a value\")\n",
    "b = input(\"Enter b value\")\n",
    "print(a+b)"
   ]
  },
  {
   "cell_type": "code",
   "execution_count": 13,
   "id": "b76e9125-298a-4cba-a8db-4206bdb30e64",
   "metadata": {},
   "outputs": [
    {
     "name": "stdin",
     "output_type": "stream",
     "text": [
      "Enter a value 5010\n",
      "Enter b value 1050\n"
     ]
    },
    {
     "name": "stdout",
     "output_type": "stream",
     "text": [
      "50101050\n",
      "6060\n"
     ]
    }
   ],
   "source": [
    "a = input(\"Enter a value\")\n",
    "b = input(\"Enter b value\")\n",
    "c = a+b\n",
    "print(c)\n",
    "a = int(a)\n",
    "b=int(b)\n",
    "c= a+b\n",
    "c\n",
    "print(c)"
   ]
  },
  {
   "cell_type": "code",
   "execution_count": 15,
   "id": "2e9d03b7-86ff-463f-9fc4-2ce46b06414f",
   "metadata": {},
   "outputs": [
    {
     "name": "stdin",
     "output_type": "stream",
     "text": [
      "Enter a value 5010\n",
      "Enter b value 1050\n"
     ]
    },
    {
     "name": "stdout",
     "output_type": "stream",
     "text": [
      "50101050\n",
      "3960\n"
     ]
    }
   ],
   "source": [
    "a = input(\"Enter a value\")\n",
    "b = input(\"Enter b value\")\n",
    "c = a-b\n",
    "print(c)\n",
    "a = int(a)\n",
    "b=int(b)\n",
    "c= a-b\n",
    "c\n",
    "print(c)"
   ]
  },
  {
   "cell_type": "code",
   "execution_count": 21,
   "id": "f75c43c8-1267-4d53-943a-a3e59890f3da",
   "metadata": {},
   "outputs": [
    {
     "name": "stdin",
     "output_type": "stream",
     "text": [
      "Enter a value 10\n",
      "Enter b value 50\n"
     ]
    },
    {
     "name": "stdout",
     "output_type": "stream",
     "text": [
      "1050\n",
      "500\n"
     ]
    }
   ],
   "source": [
    "a = input(\"Enter a value\")\n",
    "b = input(\"Enter b value\")\n",
    "c = a+b\n",
    "print(c)\n",
    "a = int(a)\n",
    "b=int(b)\n",
    "c= a*b\n",
    "c\n",
    "print(c)"
   ]
  },
  {
   "cell_type": "code",
   "execution_count": 19,
   "id": "808afb87-8e95-4f8c-8513-eedb92292c95",
   "metadata": {},
   "outputs": [
    {
     "name": "stdin",
     "output_type": "stream",
     "text": [
      "enter value 1050\n"
     ]
    }
   ],
   "source": [
    "x = int(input(\"enter value\"))\n"
   ]
  },
  {
   "cell_type": "code",
   "execution_count": 23,
   "id": "409efbe3-ee7e-4ff2-b2e5-60da236ae092",
   "metadata": {},
   "outputs": [
    {
     "name": "stdin",
     "output_type": "stream",
     "text": [
      "Enter a value 500\n",
      "Enter b value 50\n"
     ]
    },
    {
     "name": "stdout",
     "output_type": "stream",
     "text": [
      "50050\n",
      "10.0\n"
     ]
    }
   ],
   "source": [
    "a = input(\"Enter a value\")\n",
    "b = input(\"Enter b value\")\n",
    "c = a+b\n",
    "print(c)\n",
    "a = int(a)\n",
    "b=int(b)\n",
    "c= a/b\n",
    "c\n",
    "print(c)"
   ]
  },
  {
   "cell_type": "code",
   "execution_count": 25,
   "id": "859727a0-0d19-4607-9a3b-779c19b0e404",
   "metadata": {},
   "outputs": [
    {
     "name": "stdin",
     "output_type": "stream",
     "text": [
      "Enter a value 5000\n",
      "Enter b value 250\n"
     ]
    },
    {
     "name": "stdout",
     "output_type": "stream",
     "text": [
      "5000250\n",
      "20\n"
     ]
    }
   ],
   "source": [
    "a = input(\"Enter a value\")\n",
    "b = input(\"Enter b value\")\n",
    "c = a+b\n",
    "print(c)\n",
    "a = int(a)\n",
    "b=int(b)\n",
    "c= a//b\n",
    "c\n",
    "print(c)"
   ]
  },
  {
   "cell_type": "code",
   "execution_count": 29,
   "id": "8a3d8c33-a7f1-4047-9766-7c28d7bf72da",
   "metadata": {},
   "outputs": [
    {
     "name": "stdin",
     "output_type": "stream",
     "text": [
      "Enter a value 1000\n",
      "Enter b value 20\n"
     ]
    },
    {
     "name": "stdout",
     "output_type": "stream",
     "text": [
      "100020\n",
      "0\n"
     ]
    }
   ],
   "source": [
    "a = input(\"Enter a value\")\n",
    "b = input(\"Enter b value\")\n",
    "c = a+b\n",
    "print(c)\n",
    "a = int(a)\n",
    "b=int(b)\n",
    "c= a%b\n",
    "c\n",
    "print(c)"
   ]
  },
  {
   "cell_type": "code",
   "execution_count": 31,
   "id": "18b3fca2-4499-4cb9-8d44-ac05f64605fb",
   "metadata": {},
   "outputs": [
    {
     "name": "stdin",
     "output_type": "stream",
     "text": [
      "Enter a value 500\n",
      "Enter b value 120\n"
     ]
    },
    {
     "ename": "TypeError",
     "evalue": "unsupported operand type(s) for -: 'str' and 'str'",
     "output_type": "error",
     "traceback": [
      "\u001b[1;31m---------------------------------------------------------------------------\u001b[0m",
      "\u001b[1;31mTypeError\u001b[0m                                 Traceback (most recent call last)",
      "Cell \u001b[1;32mIn[31], line 3\u001b[0m\n\u001b[0;32m      1\u001b[0m a \u001b[38;5;241m=\u001b[39m \u001b[38;5;28minput\u001b[39m(\u001b[38;5;124m\"\u001b[39m\u001b[38;5;124mEnter a value\u001b[39m\u001b[38;5;124m\"\u001b[39m)\n\u001b[0;32m      2\u001b[0m b \u001b[38;5;241m=\u001b[39m \u001b[38;5;28minput\u001b[39m(\u001b[38;5;124m\"\u001b[39m\u001b[38;5;124mEnter b value\u001b[39m\u001b[38;5;124m\"\u001b[39m)\n\u001b[1;32m----> 3\u001b[0m c \u001b[38;5;241m=\u001b[39m a\u001b[38;5;241m-\u001b[39mb\n\u001b[0;32m      4\u001b[0m \u001b[38;5;28mprint\u001b[39m(c)\n\u001b[0;32m      5\u001b[0m a \u001b[38;5;241m=\u001b[39m \u001b[38;5;28mint\u001b[39m(a)\n",
      "\u001b[1;31mTypeError\u001b[0m: unsupported operand type(s) for -: 'str' and 'str'"
     ]
    }
   ],
   "source": [
    "a = input(\"Enter a value\")\n",
    "b = input(\"Enter b value\")\n",
    "c = a-b\n",
    "print(c)\n",
    "a = int(a)\n",
    "b=int(b)\n",
    "c= a+b\n",
    "c\n",
    "print(c)"
   ]
  },
  {
   "cell_type": "code",
   "execution_count": null,
   "id": "60d5a0bb-6faa-40d9-82ce-28ce4c7494ca",
   "metadata": {},
   "outputs": [],
   "source": []
  }
 ],
 "metadata": {
  "kernelspec": {
   "display_name": "Python 3 (ipykernel)",
   "language": "python",
   "name": "python3"
  },
  "language_info": {
   "codemirror_mode": {
    "name": "ipython",
    "version": 3
   },
   "file_extension": ".py",
   "mimetype": "text/x-python",
   "name": "python",
   "nbconvert_exporter": "python",
   "pygments_lexer": "ipython3",
   "version": "3.12.4"
  }
 },
 "nbformat": 4,
 "nbformat_minor": 5
}
