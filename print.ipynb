{
 "cells": [
  {
   "cell_type": "code",
   "execution_count": 1,
   "id": "d4c66240-d165-425e-952b-24714d5f4c66",
   "metadata": {},
   "outputs": [
    {
     "name": "stdout",
     "output_type": "stream",
     "text": [
      "100 python [1, 2, 3, 4] (10, 51, 62, 98) {65, 12, 85, 52}\n"
     ]
    }
   ],
   "source": [
    "a=100\n",
    "b=\"python\"\n",
    "c=[1,2,3,4]\n",
    "d=(10,51,62,98)\n",
    "e={12,52,65,85}\n",
    "print(a,b,c,d,e)"
   ]
  },
  {
   "cell_type": "code",
   "execution_count": 5,
   "id": "c1389f3a-c4c0-48eb-9d96-fc23438eb5aa",
   "metadata": {},
   "outputs": [
    {
     "name": "stdout",
     "output_type": "stream",
     "text": [
      "100\n",
      "python\n",
      "[1, 2, 3, 4]\n",
      "(10, 51, 62, 98)\n",
      "{65, 12, 85, 52}\n"
     ]
    }
   ],
   "source": [
    "a=100\n",
    "b=\"python\"\n",
    "c=[1,2,3,4]\n",
    "d=(10,51,62,98)\n",
    "e={12,52,65,85}\n",
    "print(a,b,c,d,e,sep=\"\\n\")"
   ]
  },
  {
   "cell_type": "code",
   "execution_count": 9,
   "id": "e75f462d-a0be-4048-b969-0cc30efd284a",
   "metadata": {},
   "outputs": [
    {
     "name": "stdout",
     "output_type": "stream",
     "text": [
      "100\n",
      "python\n",
      "[1, 2, 3, 4]\n",
      "(10, 51, 62, 98)\n",
      "{65, 12, 85, 52}\n"
     ]
    }
   ],
   "source": [
    "a=100\n",
    "b=\"python\"\n",
    "c=[1,2,3,4]\n",
    "d=(10,51,62,98)\n",
    "e={12,52,65,85}\n",
    "print(a)\n",
    "print(b)\n",
    "print(c)\n",
    "print(d)\n",
    "print(e)"
   ]
  },
  {
   "cell_type": "code",
   "execution_count": 11,
   "id": "a7947a97-9cde-4969-8147-6a6412f2a3ef",
   "metadata": {},
   "outputs": [
    {
     "name": "stdout",
     "output_type": "stream",
     "text": [
      "100,python\n",
      "[1, 2, 3, 4]\n",
      "(10, 51, 62, 98)\n",
      "{65, 12, 85, 52}\n"
     ]
    }
   ],
   "source": [
    "a=100\n",
    "b=\"python\"\n",
    "c=[1,2,3,4]\n",
    "d=(10,51,62,98)\n",
    "e={12,52,65,85}\n",
    "print(a, end=\",\")\n",
    "print(b)\n",
    "print(c)\n",
    "print(d)\n",
    "print(e)"
   ]
  },
  {
   "cell_type": "code",
   "execution_count": 13,
   "id": "c558ded0-1fcc-401c-a67b-a9faa32b91f8",
   "metadata": {},
   "outputs": [
    {
     "name": "stdout",
     "output_type": "stream",
     "text": [
      "100,python\n",
      "[1, 2, 3, 4]\n",
      "(10, 51, 62, 98),{65, 12, 85, 52}\n"
     ]
    }
   ],
   "source": [
    "a=100\n",
    "b=\"python\"\n",
    "c=[1,2,3,4]\n",
    "d=(10,51,62,98)\n",
    "e={12,52,65,85}\n",
    "print(a, end=\",\")\n",
    "print(b)\n",
    "print(c)\n",
    "print(d,end=\",\")\n",
    "print(e)"
   ]
  },
  {
   "cell_type": "code",
   "execution_count": 15,
   "id": "0e6023a3-dd96-4a01-bc5f-3dea4532cb6e",
   "metadata": {},
   "outputs": [
    {
     "name": "stdout",
     "output_type": "stream",
     "text": [
      "100,python\n",
      "[1, 2, 3, 4]\n",
      "(10, 51, 62, 98)${65, 12, 85, 52}\n"
     ]
    }
   ],
   "source": [
    "a=100\n",
    "b=\"python\"\n",
    "c=[1,2,3,4]\n",
    "d=(10,51,62,98)\n",
    "e={12,52,65,85}\n",
    "print(a, end=\",\")\n",
    "print(b)\n",
    "print(c)\n",
    "print(d,end=\"$\")\n",
    "print(e)"
   ]
  },
  {
   "cell_type": "code",
   "execution_count": 17,
   "id": "1a4112ac-1c32-4ca6-8e50-13a7c7ff26fd",
   "metadata": {},
   "outputs": [
    {
     "name": "stdout",
     "output_type": "stream",
     "text": [
      "100,python\n",
      "[1, 2, 3, 4]\n",
      "(10, 51, 62, 98)${65, 12, 85, 52}%(10, 20, 52, 65)\n"
     ]
    }
   ],
   "source": [
    "a=100\n",
    "b=\"python\"\n",
    "c=[1,2,3,4]\n",
    "d=(10,51,62,98)\n",
    "e={12,52,65,85}\n",
    "f=(10,20,52,65)\n",
    "print(a, end=\",\")\n",
    "print(b)\n",
    "print(c)\n",
    "print(d,end=\"$\")\n",
    "print(e,end=\"%\")\n",
    "print(f)"
   ]
  },
  {
   "cell_type": "code",
   "execution_count": 19,
   "id": "a562e4cc-a642-44d4-ba61-c6348ee23b9c",
   "metadata": {},
   "outputs": [
    {
     "name": "stdout",
     "output_type": "stream",
     "text": [
      "100,python^[1, 2, 3, 4]\n",
      "(10, 51, 62, 98)${65, 12, 85, 52}%(10, 20, 52, 65)\n"
     ]
    }
   ],
   "source": [
    "a=100\n",
    "b=\"python\"\n",
    "c=[1,2,3,4]\n",
    "d=(10,51,62,98)\n",
    "e={12,52,65,85}\n",
    "f=(10,20,52,65)\n",
    "print(a, end=\",\")\n",
    "print(b,end=\"^\")\n",
    "print(c)\n",
    "print(d,end=\"$\")\n",
    "print(e,end=\"%\")\n",
    "print(f)"
   ]
  },
  {
   "cell_type": "code",
   "execution_count": null,
   "id": "ed2b2693-ab84-44aa-951b-43ff47488c8f",
   "metadata": {},
   "outputs": [],
   "source": []
  }
 ],
 "metadata": {
  "kernelspec": {
   "display_name": "Python 3 (ipykernel)",
   "language": "python",
   "name": "python3"
  },
  "language_info": {
   "codemirror_mode": {
    "name": "ipython",
    "version": 3
   },
   "file_extension": ".py",
   "mimetype": "text/x-python",
   "name": "python",
   "nbconvert_exporter": "python",
   "pygments_lexer": "ipython3",
   "version": "3.12.4"
  }
 },
 "nbformat": 4,
 "nbformat_minor": 5
}
